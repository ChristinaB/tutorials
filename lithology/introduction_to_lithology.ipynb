{
 "cells": [
  {
   "cell_type": "markdown",
   "metadata": {},
   "source": [
    "<a href=\"http://landlab.github.io\"><img style=\"float: left; height: 175px; width: 175px\" src=\"../landlab_logo_picture.jpg\"></a> <h3 style=\"margin: 117px 0 0 185px; font-weight: 300;\">a toolkit for modeling earth surface processes</h3>"
   ]
  },
  {
   "cell_type": "markdown",
   "metadata": {},
   "source": [
    "# Introduction to the Lithology and LithoLayers objects\n",
    "\n",
    "Lithology and LithoLayers are two landlab components meant to make it easier to work with spatially variable lithology that produces spatially variable parameter values (e.g. stream power erodability or diffusivity). \n",
    "\n",
    "In this tutorial we will first use the LithoLayers to erode either dipping layeres or an anticline. Then we will use Lithology to create inverted topography. \n",
    "\n",
    "To start, we will import the necessary modules. A note: this tutorial uses the [HoloViews package](http://holoviews.org) for visualization. This package is a great tool for dealing with multidimentional annotated data (e.g. an xarray dataset). If you get an error on import, consider updating dask (this is what the author needed to do in April 2018). You will also need to have the [Bokeh](https://bokeh.pydata.org/en/latest/) and [Matplotlib](https://matplotlib.org) packages installed."
   ]
  },
  {
   "cell_type": "code",
   "execution_count": null,
   "metadata": {},
   "outputs": [],
   "source": [
    "import os\n",
    "import numpy as np\n",
    "import xarray as xr\n",
    "import dask\n",
    "%matplotlib inline\n",
    "\n",
    "import holoviews as hv\n",
    "hv.notebook_extension('matplotlib')\n",
    "\n",
    "from landlab import RasterModelGrid\n",
    "from landlab.components import FlowAccumulator, FastscapeEroder, LinearDiffuser, Lithology, LithoLayers\n",
    "from landlab.plot import imshow_grid"
   ]
  },
  {
   "cell_type": "markdown",
   "metadata": {},
   "source": [
    "## Part 1: Eroding layered rock\n",
    "\n",
    "First we will create an instance of a LithoLayers. Both LithoLayers and Lithology work closely with a landlab ModelGrid and stores information about rock type at each node. \n",
    "\n",
    "To create LithoLayers you need the following information:\n",
    "\n",
    "1. A dictionary of rock property attributes. \n",
    "2. A model grid that has the field `'topographic__elevation'` already created.\n",
    "3. A list of elevations that your layers will go through at specified anchor point (default value for the anchor point is (0, 0). \n",
    "4. A functional form in two variables (x and y) that defines the shape of your surface. \n",
    "\n",
    "The use of this function form makes it possible for any function of x and y to be passed to Layered Rock Block.\n",
    "In this example the option for an anticline is currently uncommented, though options for steep and shallow dipping layers are also provided. "
   ]
  },
  {
   "cell_type": "code",
   "execution_count": null,
   "metadata": {
    "collapsed": true
   },
   "outputs": [],
   "source": [
    "attrs = {'K_sp': {0: 0.0003,\n",
    "                  1: 0.0001}}\n",
    "\n",
    "mg = RasterModelGrid((100, 60), 200)\n",
    "z = mg.add_zeros('node', 'topographic__elevation') \n",
    "random_field = 0.01*np.random.randn(mg.size('node'))\n",
    "z += random_field - random_field.min()\n",
    "\n",
    "z0s = 50 * np.arange(-20, 20)\n",
    "z0s[-1] = z0s[-2] + 10000\n",
    "ids = np.tile([0,1], 20) \n",
    "\n",
    "# Anticline\n",
    "lith = LithoLayers(mg, z0s, ids, x0=6000, y0=10000, function = lambda x, y : ((0.002*x)**2+(0.001*y)**2), attrs=attrs)\n",
    "\n",
    "# Shallow dips\n",
    "#lith = LithoLayers(mg, z0s, ids, function = lambda x, y : ((0.001*x)+(0.003*y)), attrs=attrs)\n",
    "\n",
    "# Steeper dips\n",
    "#lith = LithoLayers(mg, z0s, ids, function = lambda x, y : ((0.01*x)+(0.01*y)), attrs=attrs)"
   ]
  },
  {
   "cell_type": "markdown",
   "metadata": {},
   "source": [
    "Now that we've created LithoLayers, model grid fields for each of the LithoLayers attributes exist and have been set to the values of the rock exposed at the surface. \n",
    "\n",
    "Here we plot the value of `'K_sp'` as a function of the model grid. "
   ]
  },
  {
   "cell_type": "code",
   "execution_count": null,
   "metadata": {},
   "outputs": [],
   "source": [
    "imshow_grid(mg, 'K_sp')"
   ]
  },
  {
   "cell_type": "markdown",
   "metadata": {},
   "source": [
    "As you can see (in the default anticline option) we have concentric elipses of stronger and weaker rock. \n",
    "\n",
    "Next, lets instantiate a FlowAccumulator and a FastscapeEroder to create a simple landscape evolution model. \n",
    "\n",
    "We will point the FastscapeEroder to the model grid field `'K_sp'` so that it will respond to the spatially variable erodabilities created by LithoLayers. \n",
    "\n",
    "We will also instatiate an xarray dataset used to store the output of our model through time for visualization. "
   ]
  },
  {
   "cell_type": "code",
   "execution_count": null,
   "metadata": {
    "collapsed": true
   },
   "outputs": [],
   "source": [
    "nts = 500\n",
    "U = 0.001\n",
    "dt = 1000\n",
    "\n",
    "fa = FlowAccumulator(mg)\n",
    "sp = FastscapeEroder(mg, K_sp='K_sp')\n",
    "\n",
    "out_fields = ['topographic__elevation',\n",
    "              'rock_type__id']\n",
    "\n",
    "ds = xr.Dataset(data_vars={'topographic__elevation' : (('time', 'y', 'x'), \n",
    "                                                       np.empty((nts, mg.shape[0], mg.shape[1])),\n",
    "                                                      {'units' : 'meters',\n",
    "                                                       'long_name': 'Topographic Elevation'}),\n",
    "                           'rock_type__id': (('time', 'y', 'x'), \n",
    "                                             np.empty((nts, mg.shape[0], mg.shape[1])),\n",
    "                                            {'units' : '-',\n",
    "                                             'long_name' : 'Rock Type ID Code'})\n",
    "                          },\n",
    "                coords={'x': (('x'), \n",
    "                              mg.x_of_node.reshape(mg.shape)[0,:],\n",
    "                              {'units' : 'meters'}),\n",
    "                        'y': (('y'), \n",
    "                              mg.y_of_node.reshape(mg.shape)[:, 1],\n",
    "                              {'units' : 'meters'}),\n",
    "                        'time': (('time'),  \n",
    "                                 dt*np.arange(nts)/1e6,\n",
    "                                 {'units': 'millions of years since model start',\n",
    "                                  'standard_name' : 'time'})\n",
    "                       }\n",
    "                )\n"
   ]
  },
  {
   "cell_type": "markdown",
   "metadata": {},
   "source": [
    "Here we run the model. In each time step we first run the FlowAccumulator to direct flow and accumulatate drainage area. Then the FastscapeEroder erodes the topography based on the stream power equation using the erodability value in the field`'K_sp'`. We create an uplift field that uplifts only the model grid's core nodes. After uplifting these core nodes, we update LithoLayers. Importantly, we must tell the LithoLayers how it has been advected upward by uplift. \n",
    "\n",
    "`lith.run_one_step` has an optional argument `rock_id` to use when some material may be deposited. Since we are using the FastscapeEroder which is fully detachment limited, we don't need to set this. \n",
    "\n",
    "Within each timestep we save information about the model for plotting. "
   ]
  },
  {
   "cell_type": "code",
   "execution_count": null,
   "metadata": {
    "collapsed": true
   },
   "outputs": [],
   "source": [
    "for i in range(nts):\n",
    "    fa.run_one_step()\n",
    "    sp.run_one_step(dt = dt)\n",
    "    dz_ad = np.zeros(mg.size('node'))\n",
    "    dz_ad[mg.core_nodes] = U * dt\n",
    "    z += dz_ad\n",
    "    lith.run_one_step(dz_advection = dz_ad)\n",
    "    \n",
    "    for of in out_fields:\n",
    "        ds[of][i,:,:] = mg['node'][of].reshape(mg.shape)"
   ]
  },
  {
   "cell_type": "markdown",
   "metadata": {},
   "source": [
    "Now that the model has run, lets start by plotting the resulting topography. "
   ]
  },
  {
   "cell_type": "code",
   "execution_count": null,
   "metadata": {},
   "outputs": [],
   "source": [
    "imshow_grid(mg, 'topographic__elevation', cmap='viridis')"
   ]
  },
  {
   "cell_type": "markdown",
   "metadata": {},
   "source": [
    "The layers of rock clearly influence the form of topography. \n",
    "\n",
    "Next we will use HoloViews to visualize the topography and rock type together. \n",
    "\n",
    "To start, we create a HoloViewDataset from our xarray datastructure. "
   ]
  },
  {
   "cell_type": "code",
   "execution_count": null,
   "metadata": {},
   "outputs": [],
   "source": [
    "hvds_topo = hv.Dataset(ds.topographic__elevation)\n",
    "hvds_rock = hv.Dataset(ds.rock_type__id)\n",
    "hvds_topo"
   ]
  },
  {
   "cell_type": "markdown",
   "metadata": {},
   "source": [
    "Next we specify that we want two images, one showing rock type and one showing topographic elevation. A slider bar shows us model time in millions of years.  \n",
    "\n",
    "Be patient. Running this next block may take a moment. HoloViews is rendering an image of all time slices so you can see an animated slider. This is pretty magical (but not instantaneous).  "
   ]
  },
  {
   "cell_type": "code",
   "execution_count": null,
   "metadata": {},
   "outputs": [],
   "source": [
    "%opts Image style(interpolation='bilinear', cmap='viridis') plot[colorbar=True]\n",
    "topo = hvds_topo.to(hv.Image, ['x', 'y'])\n",
    "rock = hvds_rock.to(hv.Image, ['x', 'y'])\n",
    "\n",
    "topo + rock"
   ]
  },
  {
   "cell_type": "markdown",
   "metadata": {
    "collapsed": true
   },
   "source": [
    "We can see the form of the anticline advecting through the topography. Cool!\n",
    "\n",
    "\n",
    "## Part 2 Creation of Inverted Topography\n",
    "\n",
    "Here we will explore making inverted topography by eroding Lithology with constant properties for half of the model evaluation time, and then filling Lithology in with resistant material only where the drainage area is large. This is meant as a simple example of filling in valleys with volcanic material. \n",
    "\n",
    "All of the details of the options for creating a [Lithology](http://landlab.readthedocs.io/en/release/landlab.layers.lithology.html) can be found here. \n",
    "\n",
    "In the next code block we make a new model and run it. Note that because we are using the LinearDiffuser which may result in depositing material we must specify a rock_id in the Lithology `run_one_step` method.\n",
    "\n",
    "We also are handling the model grid boundary conditions differently than in the last example, setting the boundaries on the top and bottom to closed. "
   ]
  },
  {
   "cell_type": "code",
   "execution_count": null,
   "metadata": {
    "collapsed": true
   },
   "outputs": [],
   "source": [
    "mg2 = RasterModelGrid((100, 60), 200)\n",
    "mg2.set_closed_boundaries_at_grid_edges(False, True, False, True)\n",
    "z2 = mg2.add_zeros('node', 'topographic__elevation') \n",
    "random_field = 0.01*np.random.randn(mg2.size('node'))\n",
    "z2 += random_field - random_field.min()\n",
    "\n",
    "thicknesses2 = [10000]\n",
    "ids2 =[0]\n",
    "\n",
    "attrs2 = {'K_sp': {0: 0.0001,\n",
    "                   1: 0.00001},\n",
    "          'D': {0: 0.4,\n",
    "                1: 0.001}}\n",
    "\n",
    "lith2 = Lithology(mg2, thicknesses2, ids2, attrs=attrs2)\n",
    "\n",
    "nts = 500\n",
    "U = 0.005\n",
    "dt = 1000\n",
    "\n",
    "fa2 = FlowAccumulator(mg2)\n",
    "sp2 = FastscapeEroder(mg2, K_sp='K_sp')\n",
    "ld2 = LinearDiffuser(mg2, linear_diffusivity='D')\n",
    "\n",
    "out_fields = ['topographic__elevation',\n",
    "              'rock_type__id']\n",
    "\n",
    "out_fields = ['topographic__elevation',\n",
    "              'rock_type__id']\n",
    "\n",
    "nts = 500\n",
    "U = 0.001\n",
    "dt = 1000\n",
    "\n",
    "\n",
    "ds2 = xr.Dataset(data_vars={'topographic__elevation' : (('time', 'y', 'x'), \n",
    "                                                        np.empty((nts, mg2.shape[0], mg2.shape[1])),\n",
    "                                                       {'units' : 'meters',\n",
    "                                                        'long_name': 'Topographic Elevation'}),\n",
    "                            'rock_type__id': (('time', 'y', 'x'), \n",
    "                                              np.empty((nts, mg2.shape[0], mg2.shape[1])),\n",
    "                                             {'units' : '-',\n",
    "                                              'long_name' : 'Rock Type ID Code'})\n",
    "                           },\n",
    "                 coords={'x': (('x'), \n",
    "                               mg2.x_of_node.reshape(mg2.shape)[0,:],\n",
    "                               {'units' : 'meters'}),\n",
    "                         'y': (('y'), \n",
    "                               mg2.y_of_node.reshape(mg2.shape)[:, 1],\n",
    "                               {'units' : 'meters'}),\n",
    "                         'time': (('time'),  \n",
    "                                  dt*np.arange(nts)/1e6,\n",
    "                                  {'units': 'millions of years since model start',\n",
    "                                   'standard_name' : 'time'})\n",
    "                        }\n",
    "                 )\n",
    "\n",
    "\n",
    "half_nts = int(nts/2)\n",
    "for i in range(half_nts):\n",
    "    fa2.run_one_step()\n",
    "    sp2.run_one_step(dt=dt)\n",
    "    ld2.run_one_step(dt=dt)\n",
    "    dz_ad2 = np.zeros(mg2.size('node'))\n",
    "    dz_ad2[mg2.core_nodes] = U * dt\n",
    "    z2 += dz_ad2\n",
    "    lith2.run_one_step(dz_advection = dz_ad2, rock_id=0)\n",
    "    \n",
    "    for of in out_fields:\n",
    "        ds2[of][i,:,:] = mg2['node'][of].reshape(mg2.shape)"
   ]
  },
  {
   "cell_type": "markdown",
   "metadata": {},
   "source": [
    "After the first half of run time, let's look at the topography. "
   ]
  },
  {
   "cell_type": "code",
   "execution_count": null,
   "metadata": {},
   "outputs": [],
   "source": [
    "imshow_grid(mg2, 'topographic__elevation', cmap='viridis')"
   ]
  },
  {
   "cell_type": "markdown",
   "metadata": {},
   "source": [
    "We can see that we have developed ridges and valleys as we'd expect from a model with stream power erosion and linear diffusion. \n",
    "\n",
    "Next we will create some volcanic deposits that fill the channels in our model."
   ]
  },
  {
   "cell_type": "code",
   "execution_count": null,
   "metadata": {},
   "outputs": [],
   "source": [
    "volcanic_deposits = np.zeros(mg2.size('node'))\n",
    "da_big_enough = mg2['node']['drainage_area']>5e4\n",
    "\n",
    "topo_difference_from_top = mg2['node']['topographic__elevation'].max() - mg2['node']['topographic__elevation']\n",
    "\n",
    "volcanic_deposits[da_big_enough] = 0.25 * topo_difference_from_top[da_big_enough]\n",
    "volcanic_deposits[mg2.boundary_nodes] = 0.0\n",
    "\n",
    "z2 += volcanic_deposits\n",
    "lith2.run_one_step(rock_id=1)\n",
    "\n",
    "imshow_grid(mg2, volcanic_deposits)"
   ]
  },
  {
   "cell_type": "markdown",
   "metadata": {},
   "source": [
    "We should expect that the locations of our valleys and ridges change as the river system encouters the much stronger volcanic rock. "
   ]
  },
  {
   "cell_type": "code",
   "execution_count": null,
   "metadata": {
    "collapsed": true
   },
   "outputs": [],
   "source": [
    "for i in range(half_nts, nts):\n",
    "    fa2.run_one_step()\n",
    "    sp2.run_one_step(dt=dt)\n",
    "    ld2.run_one_step(dt=dt)\n",
    "    dz_ad2 = np.zeros(mg2.size('node'))\n",
    "    dz_ad2[mg2.core_nodes] = U * dt\n",
    "    z2 += dz_ad2\n",
    "    lith2.run_one_step(dz_advection = dz_ad2, rock_id=0)\n",
    "    \n",
    "    for of in out_fields:\n",
    "        ds2[of][i,:,:] = mg2['node'][of].reshape(mg2.shape)"
   ]
  },
  {
   "cell_type": "markdown",
   "metadata": {},
   "source": [
    "Now that the model has run, let's plot the final elevation"
   ]
  },
  {
   "cell_type": "code",
   "execution_count": null,
   "metadata": {
    "scrolled": true
   },
   "outputs": [],
   "source": [
    "imshow_grid(mg2, 'topographic__elevation', cmap='viridis')"
   ]
  },
  {
   "cell_type": "markdown",
   "metadata": {},
   "source": [
    "And now a HoloView Plot that lets us explore the time evolution of the topography"
   ]
  },
  {
   "cell_type": "code",
   "execution_count": null,
   "metadata": {},
   "outputs": [],
   "source": [
    "hvds_topo2 = hv.Dataset(ds2.topographic__elevation)\n",
    "hvds_rock2 = hv.Dataset(ds2.rock_type__id)\n",
    "\n",
    "%opts Image style(interpolation='bilinear', cmap='viridis') plot[colorbar=True]\n",
    "topo2 = hvds_topo2.to(hv.Image, ['x', 'y'])\n",
    "rock2 = hvds_rock2.to(hv.Image, ['x', 'y'])\n",
    "\n",
    "topo2 + rock2"
   ]
  },
  {
   "cell_type": "code",
   "execution_count": null,
   "metadata": {
    "collapsed": true
   },
   "outputs": [],
   "source": [
    "# if you wanted to output to visualize in something like ParaView, the following commands can be used\n",
    "#ds.to_netcdf('anticline.nc')\n",
    "#ds2.to_netcdf('inversion.nc')"
   ]
  },
  {
   "cell_type": "markdown",
   "metadata": {
    "collapsed": true
   },
   "source": [
    "Sure enough, the volcanic deposits impact the location of the ridges and valleys. The old valleys become ridges because it takes so much time for them to be eroded. \n",
    "\n",
    "You can explore how this changes as the thickness of the deposit changes and as the relative erodabilities change. \n",
    "\n",
    "\n",
    "## The end.\n",
    "\n",
    "Nice work getting to the end of the tutorial!\n",
    "\n",
    "For more detailed information about the [Lithology](http://landlab.readthedocs.io/en/release/landlab.layers.lithology.html) and [LithoLayers](http://landlab.readthedocs.io/en/release/landlab.layers.litholayers.html) objects, check out their detailed documentation. \n",
    "\n",
    "# **Click [here](https://github.com/landlab/landlab/wiki/Tutorials) for more Landlab tutorials**"
   ]
  }
 ],
 "metadata": {
  "kernelspec": {
   "display_name": "Python 3",
   "language": "python",
   "name": "python3"
  },
  "language_info": {
   "codemirror_mode": {
    "name": "ipython",
    "version": 3
   },
   "file_extension": ".py",
   "mimetype": "text/x-python",
   "name": "python",
   "nbconvert_exporter": "python",
   "pygments_lexer": "ipython3",
   "version": "3.6.2"
  }
 },
 "nbformat": 4,
 "nbformat_minor": 2
}
