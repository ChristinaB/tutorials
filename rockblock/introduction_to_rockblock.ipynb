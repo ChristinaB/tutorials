{
 "cells": [
  {
   "cell_type": "markdown",
   "metadata": {},
   "source": [
    "# Introduction to the RockBlock and LayeredRockBlock objects\n",
    "\n",
    "The RockBlock and LayeredRockBlock are two landlab objects meant to make it easier to work with spatially variable lithology that produces spatially variable parameter values (e.g. stream power erodability and diffusivity). \n",
    "\n",
    "In this tutorial we will first use the LayeredRockBlock to erode either dipping layeres or an anticline. Then we will use RockBlock to create inverted topography. \n",
    "\n",
    "To start, we will import the necessary modules. A note: this tutorial uses the [HoloViews package](http://holoviews.org) for visualization. This package is a great tool for dealing with multidimentional annotated data (e.g. an xarray dataset). If you get an error on import, consider updating dask (this is what the author needed to do in April 2018).  "
   ]
  },
  {
   "cell_type": "code",
   "execution_count": null,
   "metadata": {},
   "outputs": [],
   "source": [
    "import os\n",
    "import numpy as np\n",
    "import xarray as xr\n",
    "import dask\n",
    "%matplotlib inline\n",
    "\n",
    "import holoviews as hv\n",
    "hv.extension('bokeh', 'matplotlib')\n",
    "\n",
    "from landlab import RasterModelGrid\n",
    "from landlab.layers import RockBlock, LayeredRockBlock\n",
    "from landlab.components import FlowAccumulator, FastscapeEroder\n",
    "from landlab.plot import imshow_grid"
   ]
  },
  {
   "cell_type": "markdown",
   "metadata": {},
   "source": [
    "## Part 1: Eroding layered rock\n",
    "\n",
    "First we will create an instance of a LayedRockBlock. Both LayeredRockBlock and RockBlock work closely with a landlab ModelGrid and stores information about rock type at each node. \n",
    "\n",
    "To create a LayeredRock you need the following information:\n",
    "\n",
    "1. A dictionary of rock property attributes. \n",
    "2. A model grid that has the field `'topographic__elevation'` already created.\n",
    "3. A list of elevations that your layers will go through at specified anchor point (default value for the anchor point is (0, 0). \n",
    "4. A functional form in two variables (x and y) that defines the shape of your surface. \n",
    "\n",
    "The use of this function form makes it possible for any function of x and y to be passed to Layered Rock Block.\n",
    "In this example the option for an anticline is currently uncommented, though options for steep and shallow dipping layers are also provided. "
   ]
  },
  {
   "cell_type": "code",
   "execution_count": null,
   "metadata": {
    "collapsed": true
   },
   "outputs": [],
   "source": [
    "attrs = {'K_sp': {0: 0.0003,\n",
    "                  1: 0.0001}}\n",
    "\n",
    "mg = RasterModelGrid((50, 50), 100)\n",
    "z = mg.add_zeros('node', 'topographic__elevation') \n",
    "random_field = 0.01*np.random.randn(mg.size('node'))\n",
    "z += random_field - random_field.min()\n",
    "\n",
    "z0s = 50 * np.arange(-20, 20)\n",
    "z0s[-1] = z0s[-2] + 10000\n",
    "ids = np.tile([0,1], 20) \n",
    "\n",
    "# Anticline\n",
    "rb = LayeredRockBlock(mg, z0s, ids, x0=2500, y0=2500, function = lambda x, y : ((0.005*x)**2+(0.005*y)**2), attrs=attrs)\n",
    "\n",
    "# Shallow dips\n",
    "#rb = LayeredRockBlock(mg, z0s, ids, x0=5000, y0=5000, function = lambda x, y : ((0.001*x)+(0.003*y)), attrs=attrs)\n",
    "\n",
    "# Steeper dips\n",
    "#rb = LayeredRockBlock(mg, z0s, ids, x0=5000, y0=5000, function = lambda x, y : ((0.01*x)+(0.01*y)), attrs=attrs)"
   ]
  },
  {
   "cell_type": "markdown",
   "metadata": {},
   "source": [
    "Now that we've created the LayeredRockBlock, model grid fields for each of the LayeredRockBlock attributes exist and have been set to the values of the rock exposed at the surface. \n",
    "\n",
    "Here we plot the value of `'K_sp'` as a function of the model grid. "
   ]
  },
  {
   "cell_type": "code",
   "execution_count": null,
   "metadata": {},
   "outputs": [],
   "source": [
    "imshow_grid(mg, 'K_sp')"
   ]
  },
  {
   "cell_type": "markdown",
   "metadata": {},
   "source": [
    "As you can see (in the default anticline option) we have concentric elipses of stronger and weaker rock. \n",
    "\n",
    "Next, lets instantiate a FlowAccumulator and a FastscapeEroder to create a simple landscape evolution model. \n",
    "\n",
    "We will point the FastscapeEroder to the model grid field `'K_sp'` so that it will respond to the spatially variable erodabilities created by the LayeredRockBlock. \n",
    "\n",
    "We will also instatiate an xarray dataset used to store the output of our model through time for visualization. "
   ]
  },
  {
   "cell_type": "code",
   "execution_count": null,
   "metadata": {
    "collapsed": true
   },
   "outputs": [],
   "source": [
    "nts = 400\n",
    "U = 0.001\n",
    "dt = 1000\n",
    "\n",
    "fa = FlowAccumulator(mg)\n",
    "sp = FastscapeEroder(mg, K_sp='K_sp')\n",
    "\n",
    "out_fields = ['topographic__elevation',\n",
    "              'K_sp', \n",
    "              'rock_type__id']\n",
    "\n",
    "ds = xr.Dataset(data_vars={'topographic__elevation' : (('y', 'x', 't'), np.empty((mg.shape[0], mg.shape[1], nts))),\n",
    "                           'K_sp' : (('y', 'x', 't'), np.empty((mg.shape[0], mg.shape[1], nts))),\n",
    "                           'rock_type__id': (('y', 'x', 't'), np.empty((mg.shape[0], mg.shape[1], nts)))},\n",
    "                coords={'x': mg.x_of_node.reshape(mg.shape)[0,:],\n",
    "                        'y': mg.y_of_node.reshape(mg.shape)[:, 1],\n",
    "                        't': dt*np.arange(nts)/1e6})"
   ]
  },
  {
   "cell_type": "markdown",
   "metadata": {},
   "source": [
    "Here we run the model. In each time step we first run the FlowAccumulator to direct flow and accumulatate drainage area. Then the FastscapeEroder erodes the topography based on the stream power equation using the erodability value in the field`'K_sp'`. We create an uplift field that uplifts only the model grid's core nodes. After uplifting these core nodes, we update the LayeredRockBlock. Importantly, we must tell the LayeredRockBlock how it has been advected upward by uplift. \n",
    "\n",
    "Within each timestep we save information about the model for plotting. "
   ]
  },
  {
   "cell_type": "code",
   "execution_count": null,
   "metadata": {
    "collapsed": true
   },
   "outputs": [],
   "source": [
    "for i in range(nts):\n",
    "    fa.run_one_step()\n",
    "    sp.run_one_step(dt = dt)\n",
    "    dz_ad = np.zeros(mg.size('node'))\n",
    "    dz_ad[mg.core_nodes] = U * dt\n",
    "    z += dz_ad\n",
    "    rb.run_one_step(dz_advection = dz_ad)\n",
    "    \n",
    "    for of in out_fields:\n",
    "        ds[of][:,:,i] = mg['node'][of].reshape(mg.shape)\n"
   ]
  },
  {
   "cell_type": "markdown",
   "metadata": {},
   "source": [
    "Now that the model has run, lets start by plotting the resulting topography. "
   ]
  },
  {
   "cell_type": "code",
   "execution_count": null,
   "metadata": {},
   "outputs": [],
   "source": [
    "imshow_grid(mg, 'topographic__elevation', cmap='viridis')"
   ]
  },
  {
   "cell_type": "markdown",
   "metadata": {},
   "source": [
    "The layers of rock clearly influence the form of topography. \n",
    "\n",
    "Next we will use HoloViews to visualize the topography and rock type together. \n",
    "\n",
    "To start, we create a HoloViewDataset from our xarray datastructure. "
   ]
  },
  {
   "cell_type": "code",
   "execution_count": null,
   "metadata": {},
   "outputs": [],
   "source": [
    "hvds = hv.Dataset(ds)\n",
    "hvds"
   ]
  },
  {
   "cell_type": "markdown",
   "metadata": {},
   "source": [
    "Next we specify that we want two images, one showing rock type and one showing topographic elevation. A slider bar "
   ]
  },
  {
   "cell_type": "code",
   "execution_count": null,
   "metadata": {
    "collapsed": true
   },
   "outputs": [],
   "source": [
    "%opts Image (cmap='viridis')\n",
    "\n",
    "topo = hvds.to(hv.Image, ['x', 'y'], ['topographic__elevation'])\n",
    "rock = hvds.to(hv.Image, ['x', 'y'], ['rock_type__id'])\n",
    "\n",
    "topo + rock"
   ]
  },
  {
   "cell_type": "markdown",
   "metadata": {
    "collapsed": true
   },
   "source": [
    "Make inverted topography by filling RockBlock in with resistant material only where the DA is large. "
   ]
  },
  {
   "cell_type": "code",
   "execution_count": null,
   "metadata": {
    "collapsed": true
   },
   "outputs": [],
   "source": [
    "mg2 = RasterModelGrid((50, 50), 100)\n",
    "z2 = mg2.add_zeros('node', 'topographic__elevation') \n",
    "random_field = 0.01*np.random.randn(mg2.size('node'))\n",
    "z2 += random_field - random_field.min()\n",
    "\n",
    "thicknesses2 = [1000]\n",
    "ids2 =[0]\n",
    "\n",
    "attrs2 = {'K_sp': {0: 0.0001,\n",
    "                   1: 0.00001}}\n",
    "\n",
    "rb2 = RockBlock(mg2, thicknesses2, ids2, attrs=attrs2)\n",
    "\n",
    "nts = 400\n",
    "U = 0.001\n",
    "dt = 1000\n",
    "\n",
    "fa2 = FlowAccumulator(mg2)\n",
    "sp2 = FastscapeEroder(mg2, K_sp='K_sp')\n",
    "\n",
    "out_fields = ['topographic__elevation',\n",
    "              'K_sp', \n",
    "              'rock_type__id']\n",
    "\n",
    "ds2 = xr.Dataset(data_vars={'topographic__elevation' : (('y', 'x', 't'), np.empty((mg2.shape[0], mg2.shape[1], nts))),\n",
    "                            'K_sp' : (('y', 'x', 't'), np.empty((mg2.shape[0], mg2.shape[1], nts))),\n",
    "                            'rock_type__id': (('y', 'x', 't'), np.empty((mg2.shape[0], mg2.shape[1], nts)))},\n",
    "                 coords={'x': mg2.x_of_node.reshape(mg2.shape)[0,:],\n",
    "                         'y': mg2.y_of_node.reshape(mg2.shape)[:, 1],\n",
    "                         't': dt*np.arange(nts)/1e6})\n",
    "half_nts = int(nts/2)\n",
    "for i in range(half_nts):\n",
    "    fa2.run_one_step()\n",
    "    sp2.run_one_step(dt = dt)\n",
    "    dz_ad2 = np.zeros(mg2.size('node'))\n",
    "    dz_ad2[mg2.core_nodes] = U * dt\n",
    "    z2 += dz_ad2\n",
    "    rb2.run_one_step(dz_advection = dz_ad2)\n",
    "    \n",
    "    for of in out_fields:\n",
    "        ds2[of][:,:,i] = mg2['node'][of].reshape(mg2.shape)\n"
   ]
  },
  {
   "cell_type": "markdown",
   "metadata": {},
   "source": []
  },
  {
   "cell_type": "code",
   "execution_count": null,
   "metadata": {},
   "outputs": [],
   "source": [
    "imshow_grid(mg2, 'topographic__elevation')"
   ]
  },
  {
   "cell_type": "markdown",
   "metadata": {},
   "source": []
  },
  {
   "cell_type": "code",
   "execution_count": null,
   "metadata": {},
   "outputs": [],
   "source": [
    "volcano_deposits = np.zeros(mg2.size('node'))\n",
    "da_big_enough = mg2['node']['drainage_area']>1e4\n",
    "volcano_deposits[da_big_enough] = 30.0\n",
    "volcano_deposits[mg2.boundary_nodes] = 0.0\n",
    "rb2.add_layer(volcano_deposits, rock_id=1)\n",
    "\n",
    "imshow_grid(mg2, da_big_enough)"
   ]
  },
  {
   "cell_type": "markdown",
   "metadata": {},
   "source": []
  },
  {
   "cell_type": "code",
   "execution_count": null,
   "metadata": {
    "collapsed": true
   },
   "outputs": [],
   "source": [
    "for i in range(half_nts, nts):\n",
    "    fa2.run_one_step()\n",
    "    sp2.run_one_step(dt = dt)\n",
    "    dz_ad = np.zeros(mg2.size('node'))\n",
    "    dz_ad[mg2.core_nodes] = U * dt\n",
    "    z2 += dz_ad\n",
    "    rb2.run_one_step(dz_advection = dz_ad)\n",
    "    \n",
    "    for of in out_fields:\n",
    "        ds2[of][:,:,i] = mg2['node'][of].reshape(mg2.shape)"
   ]
  },
  {
   "cell_type": "markdown",
   "metadata": {},
   "source": []
  },
  {
   "cell_type": "code",
   "execution_count": null,
   "metadata": {},
   "outputs": [],
   "source": [
    "imshow_grid(mg2, 'topographic__elevation')"
   ]
  },
  {
   "cell_type": "markdown",
   "metadata": {},
   "source": []
  },
  {
   "cell_type": "code",
   "execution_count": null,
   "metadata": {},
   "outputs": [],
   "source": [
    "%opts Image (cmap='viridis')\n",
    "\n",
    "hvds2 = hv.Dataset(ds2)\n",
    "topo2 = hvds2.to(hv.Image, ['x', 'y'], ['topographic__elevation'])\n",
    "rock2 = hvds2.to(hv.Image, ['x', 'y'], ['rock_type__id'])\n",
    "\n",
    "topo2 + rock2"
   ]
  },
  {
   "cell_type": "code",
   "execution_count": null,
   "metadata": {
    "collapsed": true
   },
   "outputs": [],
   "source": []
  },
  {
   "cell_type": "code",
   "execution_count": null,
   "metadata": {
    "collapsed": true
   },
   "outputs": [],
   "source": []
  }
 ],
 "metadata": {
  "kernelspec": {
   "display_name": "Python 3",
   "language": "python",
   "name": "python3"
  },
  "language_info": {
   "codemirror_mode": {
    "name": "ipython",
    "version": 3
   },
   "file_extension": ".py",
   "mimetype": "text/x-python",
   "name": "python",
   "nbconvert_exporter": "python",
   "pygments_lexer": "ipython3",
   "version": "3.6.2"
  }
 },
 "nbformat": 4,
 "nbformat_minor": 2
}
