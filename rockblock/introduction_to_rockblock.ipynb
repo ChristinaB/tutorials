{
 "cells": [
  {
   "cell_type": "markdown",
   "metadata": {},
   "source": [
    "# Introduction to the RockBlock and LayeredRockBlock objects\n"
   ]
  },
  {
   "cell_type": "code",
   "execution_count": null,
   "metadata": {},
   "outputs": [],
   "source": [
    "import os\n",
    "import numpy as np\n",
    "import xarray as xr\n",
    "import dask\n",
    "%matplotlib inline\n",
    "\n",
    "import holoviews as hv\n",
    "hv.extension('bokeh', 'matplotlib')\n",
    "\n",
    "from landlab import RasterModelGrid\n",
    "from landlab.layers import RockBlock, LayeredRockBlock\n",
    "from landlab.components import FlowAccumulator, FastscapeEroder\n",
    "from landlab.plot import imshow_grid"
   ]
  },
  {
   "cell_type": "markdown",
   "metadata": {},
   "source": []
  },
  {
   "cell_type": "code",
   "execution_count": null,
   "metadata": {
    "collapsed": true
   },
   "outputs": [],
   "source": [
    "attrs = {'K_sp': {0: 0.0003,\n",
    "                  1: 0.0001}}\n",
    "\n",
    "mg = RasterModelGrid((50, 50), 100)\n",
    "z = mg.add_zeros('node', 'topographic__elevation') \n",
    "random_field = 0.01*np.random.randn(mg.size('node'))\n",
    "z += random_field - random_field.min()\n",
    "\n",
    "z0s = 50 * np.arange(-20, 20)\n",
    "z0s[-1] = z0s[-2] + 10000\n",
    "ids = np.tile([0,1], 20) \n",
    "\n",
    "# Anticline\n",
    "rb = LayeredRockBlock(mg, z0s, ids, x0=5000, y0=5000, function = lambda x, y : ((0.001*x)**2+(0.003*y)**2), attrs=attrs)\n",
    "\n",
    "# Shallow dips\n",
    "#rb = LayeredRockBlock(mg, z0s, ids, x0=5000, y0=5000, function = lambda x, y : ((0.001*x)+(0.003*y)), attrs=attrs)\n",
    "\n",
    "# Steeper dips\n",
    "#rb = LayeredRockBlock(mg, z0s, ids, x0=5000, y0=5000, function = lambda x, y : ((0.01*x)+(0.01*y)), attrs=attrs)"
   ]
  },
  {
   "cell_type": "markdown",
   "metadata": {},
   "source": []
  },
  {
   "cell_type": "code",
   "execution_count": null,
   "metadata": {
    "collapsed": true
   },
   "outputs": [],
   "source": [
    "imshow_grid(mg, 'K_sp')"
   ]
  },
  {
   "cell_type": "markdown",
   "metadata": {},
   "source": []
  },
  {
   "cell_type": "code",
   "execution_count": null,
   "metadata": {
    "collapsed": true
   },
   "outputs": [],
   "source": [
    "nts = 400\n",
    "U = 0.001\n",
    "dt = 1000\n",
    "\n",
    "fa = FlowAccumulator(mg)\n",
    "sp = FastscapeEroder(mg, K_sp='K_sp')\n",
    "\n",
    "out_fields = ['topographic__elevation',\n",
    "              'K_sp', \n",
    "              'rock_type__id']\n",
    "\n",
    "ds = xr.Dataset(data_vars={'topographic__elevation' : (('y', 'x', 't'), np.empty((mg.shape[0], mg.shape[1], nts))),\n",
    "                           'K_sp' : (('y', 'x', 't'), np.empty((mg.shape[0], mg.shape[1], nts))),\n",
    "                           'rock_type__id': (('y', 'x', 't'), np.empty((mg.shape[0], mg.shape[1], nts)))},\n",
    "                coords={'x': mg.x_of_node.reshape(mg.shape)[0,:],\n",
    "                        'y': mg.y_of_node.reshape(mg.shape)[:, 1],\n",
    "                        't': dt*np.arange(nts)})"
   ]
  },
  {
   "cell_type": "markdown",
   "metadata": {},
   "source": []
  },
  {
   "cell_type": "code",
   "execution_count": null,
   "metadata": {
    "collapsed": true
   },
   "outputs": [],
   "source": [
    "for i in range(nts):\n",
    "    fa.run_one_step()\n",
    "    sp.run_one_step(dt = dt)\n",
    "    dz_ad = np.zeros(mg.size('node'))\n",
    "    dz_ad[mg.core_nodes] = U * dt\n",
    "    z += dz_ad\n",
    "    rb.run_one_step(dz_advection = dz_ad)\n",
    "    \n",
    "    for of in out_fields:\n",
    "        ds[of][:,:,i] = mg['node'][of].reshape(mg.shape)\n"
   ]
  },
  {
   "cell_type": "markdown",
   "metadata": {},
   "source": []
  },
  {
   "cell_type": "code",
   "execution_count": null,
   "metadata": {
    "collapsed": true
   },
   "outputs": [],
   "source": [
    "imshow_grid(mg, 'topographic__elevation')"
   ]
  },
  {
   "cell_type": "markdown",
   "metadata": {},
   "source": []
  },
  {
   "cell_type": "code",
   "execution_count": null,
   "metadata": {
    "collapsed": true
   },
   "outputs": [],
   "source": [
    "hvds = hv.Dataset(ds)\n",
    "hvds"
   ]
  },
  {
   "cell_type": "markdown",
   "metadata": {},
   "source": []
  },
  {
   "cell_type": "code",
   "execution_count": null,
   "metadata": {
    "collapsed": true
   },
   "outputs": [],
   "source": [
    "%opts Image (cmap='viridis')\n",
    "\n",
    "topo = hvds.to(hv.Image, ['x', 'y'], ['topographic__elevation'])\n",
    "rock = hvds.to(hv.Image, ['x', 'y'], ['rock_type__id'])\n",
    "\n",
    "topo + rock"
   ]
  },
  {
   "cell_type": "markdown",
   "metadata": {
    "collapsed": true
   },
   "source": [
    "Make inverted topography by filling RockBlock in with resistant material only where the DA is large. "
   ]
  },
  {
   "cell_type": "code",
   "execution_count": null,
   "metadata": {
    "collapsed": true
   },
   "outputs": [],
   "source": [
    "mg2 = RasterModelGrid((50, 50), 100)\n",
    "z2 = mg2.add_zeros('node', 'topographic__elevation') \n",
    "random_field = 0.01*np.random.randn(mg2.size('node'))\n",
    "z2 += random_field - random_field.min()\n",
    "\n",
    "thicknesses2 = [1000]\n",
    "ids2 =[0]\n",
    "\n",
    "attrs2 = {'K_sp': {0: 0.0001,\n",
    "                   1: 0.00001}}\n",
    "\n",
    "rb2 = RockBlock(mg2, thicknesses2, ids2, attrs=attrs2)\n",
    "\n",
    "nts = 400\n",
    "U = 0.001\n",
    "dt = 1000\n",
    "\n",
    "fa2 = FlowAccumulator(mg2)\n",
    "sp2 = FastscapeEroder(mg2, K_sp='K_sp')\n",
    "\n",
    "out_fields = ['topographic__elevation',\n",
    "              'K_sp', \n",
    "              'rock_type__id']\n",
    "\n",
    "ds2 = xr.Dataset(data_vars={'topographic__elevation' : (('y', 'x', 't'), np.empty((mg2.shape[0], mg2.shape[1], nts))),\n",
    "                            'K_sp' : (('y', 'x', 't'), np.empty((mg2.shape[0], mg2.shape[1], nts))),\n",
    "                            'rock_type__id': (('y', 'x', 't'), np.empty((mg2.shape[0], mg2.shape[1], nts)))},\n",
    "                 coords={'x': mg2.x_of_node.reshape(mg2.shape)[0,:],\n",
    "                         'y': mg2.y_of_node.reshape(mg2.shape)[:, 1],\n",
    "                         't': dt*np.arange(nts)})\n",
    "half_nts = int(nts/2)\n",
    "for i in range(half_nts):\n",
    "    fa2.run_one_step()\n",
    "    sp2.run_one_step(dt = dt)\n",
    "    dz_ad2 = np.zeros(mg2.size('node'))\n",
    "    dz_ad2[mg2.core_nodes] = U * dt\n",
    "    z2 += dz_ad2\n",
    "    rb2.run_one_step(dz_advection = dz_ad2)\n",
    "    \n",
    "    for of in out_fields:\n",
    "        ds2[of][:,:,i] = mg2['node'][of].reshape(mg2.shape)\n"
   ]
  },
  {
   "cell_type": "markdown",
   "metadata": {},
   "source": []
  },
  {
   "cell_type": "code",
   "execution_count": null,
   "metadata": {},
   "outputs": [],
   "source": [
    "imshow_grid(mg2, 'topographic__elevation')"
   ]
  },
  {
   "cell_type": "markdown",
   "metadata": {},
   "source": []
  },
  {
   "cell_type": "code",
   "execution_count": null,
   "metadata": {},
   "outputs": [],
   "source": [
    "volcano_deposits = np.zeros(mg2.size('node'))\n",
    "da_big_enough = mg2['node']['drainage_area']>1e4\n",
    "volcano_deposits[da_big_enough] = 30.0\n",
    "volcano_deposits[mg2.boundary_nodes] = 0.0\n",
    "rb2.add_layer(volcano_deposits, rock_id=1)\n",
    "\n",
    "imshow_grid(mg2, da_big_enough)"
   ]
  },
  {
   "cell_type": "markdown",
   "metadata": {},
   "source": []
  },
  {
   "cell_type": "code",
   "execution_count": null,
   "metadata": {
    "collapsed": true
   },
   "outputs": [],
   "source": [
    "for i in range(half_nts, nts):\n",
    "    fa2.run_one_step()\n",
    "    sp2.run_one_step(dt = dt)\n",
    "    dz_ad = np.zeros(mg2.size('node'))\n",
    "    dz_ad[mg2.core_nodes] = U * dt\n",
    "    z2 += dz_ad\n",
    "    rb2.run_one_step(dz_advection = dz_ad)\n",
    "    \n",
    "    for of in out_fields:\n",
    "        ds2[of][:,:,i] = mg2['node'][of].reshape(mg2.shape)"
   ]
  },
  {
   "cell_type": "markdown",
   "metadata": {},
   "source": []
  },
  {
   "cell_type": "code",
   "execution_count": null,
   "metadata": {},
   "outputs": [],
   "source": [
    "imshow_grid(mg2, 'topographic__elevation')"
   ]
  },
  {
   "cell_type": "markdown",
   "metadata": {},
   "source": []
  },
  {
   "cell_type": "code",
   "execution_count": null,
   "metadata": {},
   "outputs": [],
   "source": [
    "%opts Image (cmap='viridis')\n",
    "\n",
    "hvds2 = hv.Dataset(ds2)\n",
    "topo2 = hvds2.to(hv.Image, ['x', 'y'], ['topographic__elevation'])\n",
    "rock2 = hvds2.to(hv.Image, ['x', 'y'], ['rock_type__id'])\n",
    "\n",
    "topo2 + rock2"
   ]
  },
  {
   "cell_type": "code",
   "execution_count": null,
   "metadata": {
    "collapsed": true
   },
   "outputs": [],
   "source": []
  },
  {
   "cell_type": "code",
   "execution_count": null,
   "metadata": {
    "collapsed": true
   },
   "outputs": [],
   "source": []
  }
 ],
 "metadata": {
  "kernelspec": {
   "display_name": "Python 3",
   "language": "python",
   "name": "python3"
  },
  "language_info": {
   "codemirror_mode": {
    "name": "ipython",
    "version": 3
   },
   "file_extension": ".py",
   "mimetype": "text/x-python",
   "name": "python",
   "nbconvert_exporter": "python",
   "pygments_lexer": "ipython3",
   "version": "3.6.2"
  }
 },
 "nbformat": 4,
 "nbformat_minor": 2
}
