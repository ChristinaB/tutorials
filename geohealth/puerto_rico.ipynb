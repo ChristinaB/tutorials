{
 "cells": [
  {
   "cell_type": "markdown",
   "metadata": {},
   "source": [
    "# Read a DEM"
   ]
  },
  {
   "cell_type": "code",
   "execution_count": 2,
   "metadata": {},
   "outputs": [
    {
     "name": "stdout",
     "output_type": "stream",
     "text": [
      "Using matplotlib backend: TkAgg\n"
     ]
    }
   ],
   "source": [
    "%matplotlib\n",
    "\n",
    "import numpy as np\n",
    "import landlab"
   ]
  },
  {
   "cell_type": "code",
   "execution_count": 3,
   "metadata": {},
   "outputs": [
    {
     "data": {
      "text/plain": [
       "dict_keys(['topographic__elevation'])"
      ]
     },
     "execution_count": 3,
     "metadata": {},
     "output_type": "execute_result"
    }
   ],
   "source": [
    "grid, z = landlab.io.read_esri_ascii(\"data/puertorico_dem90fil.asc\", name=\"topographic__elevation\")\n",
    "# grid, z = landlab.io.read_esri_ascii(\"puerto_rico.asc\", name=\"topographic__elevation\")\n",
    "\n",
    "grid.at_node.keys()"
   ]
  },
  {
   "cell_type": "code",
   "execution_count": 4,
   "metadata": {},
   "outputs": [],
   "source": [
    "ocean = grid.at_node[\"topographic__elevation\"] < 0.\n",
    "grid.at_node[\"topographic__elevation\"][ocean] = -999.\n",
    "\n",
    "grid.set_nodata_nodes_to_closed(z, nodata_value=-999.)"
   ]
  },
  {
   "cell_type": "code",
   "execution_count": 5,
   "metadata": {},
   "outputs": [],
   "source": [
    "landlab.plot.imshow_grid(grid, \"topographic__elevation\", cmap=\"terrain\")"
   ]
  },
  {
   "cell_type": "markdown",
   "metadata": {},
   "source": [
    "# Find watersheds"
   ]
  },
  {
   "cell_type": "code",
   "execution_count": 6,
   "metadata": {},
   "outputs": [],
   "source": [
    "from landlab.utils import get_watershed_masks_with_area_threshold\n",
    "from landlab.components import FlowAccumulator"
   ]
  },
  {
   "cell_type": "code",
   "execution_count": 23,
   "metadata": {},
   "outputs": [],
   "source": [
    "flow_accumulator = FlowAccumulator(grid, flow_director='D8')# , depression_finder='DepressionFinderAndRouter')\n",
    "flow_accumulator.run_one_step()"
   ]
  },
  {
   "cell_type": "code",
   "execution_count": 24,
   "metadata": {},
   "outputs": [],
   "source": [
    "watersheds = get_watershed_masks_with_area_threshold(grid, 8e4)"
   ]
  },
  {
   "cell_type": "code",
   "execution_count": 13,
   "metadata": {},
   "outputs": [],
   "source": [
    "def rand_cmap(n_values, select=None):\n",
    "    import matplotlib.pyplot as plt\n",
    "    import numpy as np\n",
    "    \n",
    "    low, high = 0.6, 0.95\n",
    "    if select is None:\n",
    "        colors = np.random.uniform(low=low, high=high, size=n_values * 3).reshape((-1, 3))\n",
    "    else:\n",
    "        colors = np.zeros(n_values * 3).reshape((-1, 3))\n",
    "        colors[select] = np.random.uniform(low=low, high=high, size=len(select)).reshape((-1, 3))\n",
    "\n",
    "    cmap = plt.cm.colors.ListedColormap(colors)\n",
    "    cmap.set_under('white')\n",
    "    \n",
    "    return cmap"
   ]
  },
  {
   "cell_type": "code",
   "execution_count": 29,
   "metadata": {},
   "outputs": [
    {
     "name": "stdout",
     "output_type": "stream",
     "text": [
      "\n",
      "Grid query results:\n",
      "\n",
      "{'grid location': {'x_coord': 195755.35282258061,\n",
      "                   'y_coord': 131236.42137096776},\n",
      " 'node': {'ID': 5224731,\n",
      "          'column': 2175,\n",
      "          'row': 1458}}\n"
     ]
    }
   ],
   "source": [
    "landlab.plot.imshow_grid(\n",
    "    grid,\n",
    "    watersheds,\n",
    "    cmap=rand_cmap(watersheds.max()),\n",
    ")"
   ]
  },
  {
   "cell_type": "markdown",
   "metadata": {},
   "source": [
    "## Read sample locations"
   ]
  },
  {
   "cell_type": "code",
   "execution_count": 30,
   "metadata": {},
   "outputs": [],
   "source": [
    "import pandas"
   ]
  },
  {
   "cell_type": "code",
   "execution_count": 31,
   "metadata": {},
   "outputs": [],
   "source": [
    "data = pandas.read_csv(\"data/sample_locations.txt\")"
   ]
  },
  {
   "cell_type": "code",
   "execution_count": 32,
   "metadata": {},
   "outputs": [
    {
     "data": {
      "text/html": [
       "<div>\n",
       "<style scoped>\n",
       "    .dataframe tbody tr th:only-of-type {\n",
       "        vertical-align: middle;\n",
       "    }\n",
       "\n",
       "    .dataframe tbody tr th {\n",
       "        vertical-align: top;\n",
       "    }\n",
       "\n",
       "    .dataframe thead th {\n",
       "        text-align: right;\n",
       "    }\n",
       "</style>\n",
       "<table border=\"1\" class=\"dataframe\">\n",
       "  <thead>\n",
       "    <tr style=\"text-align: right;\">\n",
       "      <th></th>\n",
       "      <th>FID</th>\n",
       "      <th>Count</th>\n",
       "      <th>System</th>\n",
       "      <th>Sample</th>\n",
       "      <th>SampleID</th>\n",
       "      <th>Latitude</th>\n",
       "      <th>Longitude</th>\n",
       "      <th>GeoNetwork</th>\n",
       "    </tr>\n",
       "  </thead>\n",
       "  <tbody>\n",
       "    <tr>\n",
       "      <th>0</th>\n",
       "      <td>0</td>\n",
       "      <td>2.0</td>\n",
       "      <td>D_1</td>\n",
       "      <td>Res</td>\n",
       "      <td>D_1_Res</td>\n",
       "      <td>18.033150</td>\n",
       "      <td>-65.981430</td>\n",
       "      <td>Moved 200m downstream to link upstream of D_2</td>\n",
       "    </tr>\n",
       "    <tr>\n",
       "      <th>1</th>\n",
       "      <td>1</td>\n",
       "      <td>14.0</td>\n",
       "      <td>D_2</td>\n",
       "      <td>Res</td>\n",
       "      <td>D_2_Res</td>\n",
       "      <td>18.030945</td>\n",
       "      <td>-65.980139</td>\n",
       "      <td>No change</td>\n",
       "    </tr>\n",
       "    <tr>\n",
       "      <th>2</th>\n",
       "      <td>2</td>\n",
       "      <td>24.0</td>\n",
       "      <td>F</td>\n",
       "      <td>Res</td>\n",
       "      <td>F_Res</td>\n",
       "      <td>18.033158</td>\n",
       "      <td>-65.988490</td>\n",
       "      <td>Moved downhill to north network 300 meters</td>\n",
       "    </tr>\n",
       "    <tr>\n",
       "      <th>3</th>\n",
       "      <td>3</td>\n",
       "      <td>37.0</td>\n",
       "      <td>B</td>\n",
       "      <td>URes</td>\n",
       "      <td>B_URes</td>\n",
       "      <td>18.077463</td>\n",
       "      <td>-66.051863</td>\n",
       "      <td>Moved douth 100 m - uncertain on side of ridge</td>\n",
       "    </tr>\n",
       "    <tr>\n",
       "      <th>4</th>\n",
       "      <td>4</td>\n",
       "      <td>38.0</td>\n",
       "      <td>B</td>\n",
       "      <td>LRes</td>\n",
       "      <td>B_LRes</td>\n",
       "      <td>18.076606</td>\n",
       "      <td>-66.053434</td>\n",
       "      <td>Moved 100m north onto network</td>\n",
       "    </tr>\n",
       "    <tr>\n",
       "      <th>5</th>\n",
       "      <td>5</td>\n",
       "      <td>50.0</td>\n",
       "      <td>A</td>\n",
       "      <td>Res</td>\n",
       "      <td>A_Res</td>\n",
       "      <td>18.063904</td>\n",
       "      <td>-66.029455</td>\n",
       "      <td>No change</td>\n",
       "    </tr>\n",
       "    <tr>\n",
       "      <th>6</th>\n",
       "      <td>6</td>\n",
       "      <td>63.0</td>\n",
       "      <td>AB</td>\n",
       "      <td>1</td>\n",
       "      <td>AB_1</td>\n",
       "      <td>18.259383</td>\n",
       "      <td>-66.103466</td>\n",
       "      <td>No change</td>\n",
       "    </tr>\n",
       "    <tr>\n",
       "      <th>7</th>\n",
       "      <td>7</td>\n",
       "      <td>64.0</td>\n",
       "      <td>AB</td>\n",
       "      <td>2</td>\n",
       "      <td>AB_2</td>\n",
       "      <td>18.258465</td>\n",
       "      <td>-66.094181</td>\n",
       "      <td>No change</td>\n",
       "    </tr>\n",
       "    <tr>\n",
       "      <th>8</th>\n",
       "      <td>8</td>\n",
       "      <td>65.0</td>\n",
       "      <td>ABCG</td>\n",
       "      <td>3</td>\n",
       "      <td>ABCG_3</td>\n",
       "      <td>18.256978</td>\n",
       "      <td>-66.065114</td>\n",
       "      <td>No change</td>\n",
       "    </tr>\n",
       "    <tr>\n",
       "      <th>9</th>\n",
       "      <td>9</td>\n",
       "      <td>66.0</td>\n",
       "      <td>CG</td>\n",
       "      <td>4</td>\n",
       "      <td>CG_4</td>\n",
       "      <td>18.259921</td>\n",
       "      <td>-66.026112</td>\n",
       "      <td>No change</td>\n",
       "    </tr>\n",
       "    <tr>\n",
       "      <th>10</th>\n",
       "      <td>10</td>\n",
       "      <td>67.0</td>\n",
       "      <td>CG</td>\n",
       "      <td>5</td>\n",
       "      <td>CG_5</td>\n",
       "      <td>18.259033</td>\n",
       "      <td>-66.022550</td>\n",
       "      <td>No change</td>\n",
       "    </tr>\n",
       "    <tr>\n",
       "      <th>11</th>\n",
       "      <td>11</td>\n",
       "      <td>68.0</td>\n",
       "      <td>AW</td>\n",
       "      <td>1</td>\n",
       "      <td>AW_1</td>\n",
       "      <td>18.013596</td>\n",
       "      <td>-65.986390</td>\n",
       "      <td>Moved north 100m to network</td>\n",
       "    </tr>\n",
       "    <tr>\n",
       "      <th>12</th>\n",
       "      <td>12</td>\n",
       "      <td>69.0</td>\n",
       "      <td>AW</td>\n",
       "      <td>2</td>\n",
       "      <td>AW_2</td>\n",
       "      <td>18.001303</td>\n",
       "      <td>-65.993512</td>\n",
       "      <td>Moved north 100m to network</td>\n",
       "    </tr>\n",
       "    <tr>\n",
       "      <th>13</th>\n",
       "      <td>13</td>\n",
       "      <td>70.0</td>\n",
       "      <td>AW</td>\n",
       "      <td>3</td>\n",
       "      <td>AW_3</td>\n",
       "      <td>17.993803</td>\n",
       "      <td>-66.008158</td>\n",
       "      <td>Moved east 100m to network</td>\n",
       "    </tr>\n",
       "    <tr>\n",
       "      <th>14</th>\n",
       "      <td>14</td>\n",
       "      <td>71.0</td>\n",
       "      <td>AW</td>\n",
       "      <td>4</td>\n",
       "      <td>AW_4</td>\n",
       "      <td>17.992594</td>\n",
       "      <td>-66.008003</td>\n",
       "      <td>Moved south 100m to network</td>\n",
       "    </tr>\n",
       "    <tr>\n",
       "      <th>15</th>\n",
       "      <td>15</td>\n",
       "      <td>79.0</td>\n",
       "      <td>PLW</td>\n",
       "      <td>E1</td>\n",
       "      <td>PLW_E1</td>\n",
       "      <td>18.050659</td>\n",
       "      <td>-66.010601</td>\n",
       "      <td>No change</td>\n",
       "    </tr>\n",
       "    <tr>\n",
       "      <th>16</th>\n",
       "      <td>16</td>\n",
       "      <td>80.0</td>\n",
       "      <td>PLW</td>\n",
       "      <td>E2</td>\n",
       "      <td>PLW_E2</td>\n",
       "      <td>18.037094</td>\n",
       "      <td>-66.006400</td>\n",
       "      <td>No change</td>\n",
       "    </tr>\n",
       "    <tr>\n",
       "      <th>17</th>\n",
       "      <td>17</td>\n",
       "      <td>81.0</td>\n",
       "      <td>PLW</td>\n",
       "      <td>E3</td>\n",
       "      <td>PLW_E3</td>\n",
       "      <td>18.028898</td>\n",
       "      <td>-66.011562</td>\n",
       "      <td>Moved 100m eat to network</td>\n",
       "    </tr>\n",
       "    <tr>\n",
       "      <th>18</th>\n",
       "      <td>18</td>\n",
       "      <td>82.0</td>\n",
       "      <td>PLW</td>\n",
       "      <td>W1</td>\n",
       "      <td>PLW_W1</td>\n",
       "      <td>18.079107</td>\n",
       "      <td>-66.053837</td>\n",
       "      <td>No change</td>\n",
       "    </tr>\n",
       "    <tr>\n",
       "      <th>19</th>\n",
       "      <td>19</td>\n",
       "      <td>83.0</td>\n",
       "      <td>PLW</td>\n",
       "      <td>W2</td>\n",
       "      <td>PLW_W2</td>\n",
       "      <td>18.072540</td>\n",
       "      <td>-66.056429</td>\n",
       "      <td>Moved 100m west to network</td>\n",
       "    </tr>\n",
       "    <tr>\n",
       "      <th>20</th>\n",
       "      <td>20</td>\n",
       "      <td>84.0</td>\n",
       "      <td>PLW</td>\n",
       "      <td>W3</td>\n",
       "      <td>PLW_W3</td>\n",
       "      <td>18.063388</td>\n",
       "      <td>-66.051160</td>\n",
       "      <td>Moved 100m north to nework</td>\n",
       "    </tr>\n",
       "    <tr>\n",
       "      <th>21</th>\n",
       "      <td>21</td>\n",
       "      <td>85.0</td>\n",
       "      <td>PLW</td>\n",
       "      <td>W4</td>\n",
       "      <td>PLW_W4</td>\n",
       "      <td>18.047870</td>\n",
       "      <td>-66.037969</td>\n",
       "      <td>Moved 50 m north to network</td>\n",
       "    </tr>\n",
       "    <tr>\n",
       "      <th>22</th>\n",
       "      <td>22</td>\n",
       "      <td>86.0</td>\n",
       "      <td>PLW</td>\n",
       "      <td>W5</td>\n",
       "      <td>PLW_W5</td>\n",
       "      <td>18.041749</td>\n",
       "      <td>-66.034698</td>\n",
       "      <td>Moved 100 m west to network</td>\n",
       "    </tr>\n",
       "    <tr>\n",
       "      <th>23</th>\n",
       "      <td>23</td>\n",
       "      <td>87.0</td>\n",
       "      <td>PLW</td>\n",
       "      <td>W6</td>\n",
       "      <td>PLW_W6</td>\n",
       "      <td>18.031392</td>\n",
       "      <td>-66.031882</td>\n",
       "      <td>No change</td>\n",
       "    </tr>\n",
       "    <tr>\n",
       "      <th>24</th>\n",
       "      <td>24</td>\n",
       "      <td>88.0</td>\n",
       "      <td>PLW</td>\n",
       "      <td>W7</td>\n",
       "      <td>PLW_W7</td>\n",
       "      <td>18.025972</td>\n",
       "      <td>-66.031214</td>\n",
       "      <td>Moved 100m northwest to west bank drainage</td>\n",
       "    </tr>\n",
       "    <tr>\n",
       "      <th>25</th>\n",
       "      <td>25</td>\n",
       "      <td>89.0</td>\n",
       "      <td>PLW</td>\n",
       "      <td>L</td>\n",
       "      <td>PLW_L</td>\n",
       "      <td>18.018623</td>\n",
       "      <td>-66.017386</td>\n",
       "      <td>Moved 100 m southeast to south back of lago</td>\n",
       "    </tr>\n",
       "  </tbody>\n",
       "</table>\n",
       "</div>"
      ],
      "text/plain": [
       "    FID  Count System Sample SampleID   Latitude  Longitude  \\\n",
       "0     0    2.0    D_1    Res  D_1_Res  18.033150 -65.981430   \n",
       "1     1   14.0    D_2    Res  D_2_Res  18.030945 -65.980139   \n",
       "2     2   24.0      F    Res    F_Res  18.033158 -65.988490   \n",
       "3     3   37.0      B   URes   B_URes  18.077463 -66.051863   \n",
       "4     4   38.0      B   LRes   B_LRes  18.076606 -66.053434   \n",
       "5     5   50.0      A    Res    A_Res  18.063904 -66.029455   \n",
       "6     6   63.0     AB      1     AB_1  18.259383 -66.103466   \n",
       "7     7   64.0     AB      2     AB_2  18.258465 -66.094181   \n",
       "8     8   65.0   ABCG      3   ABCG_3  18.256978 -66.065114   \n",
       "9     9   66.0     CG      4     CG_4  18.259921 -66.026112   \n",
       "10   10   67.0     CG      5     CG_5  18.259033 -66.022550   \n",
       "11   11   68.0     AW      1     AW_1  18.013596 -65.986390   \n",
       "12   12   69.0     AW      2     AW_2  18.001303 -65.993512   \n",
       "13   13   70.0     AW      3     AW_3  17.993803 -66.008158   \n",
       "14   14   71.0     AW      4     AW_4  17.992594 -66.008003   \n",
       "15   15   79.0    PLW     E1   PLW_E1  18.050659 -66.010601   \n",
       "16   16   80.0    PLW     E2   PLW_E2  18.037094 -66.006400   \n",
       "17   17   81.0    PLW     E3   PLW_E3  18.028898 -66.011562   \n",
       "18   18   82.0    PLW     W1   PLW_W1  18.079107 -66.053837   \n",
       "19   19   83.0    PLW     W2   PLW_W2  18.072540 -66.056429   \n",
       "20   20   84.0    PLW     W3   PLW_W3  18.063388 -66.051160   \n",
       "21   21   85.0    PLW     W4   PLW_W4  18.047870 -66.037969   \n",
       "22   22   86.0    PLW     W5   PLW_W5  18.041749 -66.034698   \n",
       "23   23   87.0    PLW     W6   PLW_W6  18.031392 -66.031882   \n",
       "24   24   88.0    PLW     W7   PLW_W7  18.025972 -66.031214   \n",
       "25   25   89.0    PLW      L    PLW_L  18.018623 -66.017386   \n",
       "\n",
       "                                        GeoNetwork  \n",
       "0    Moved 200m downstream to link upstream of D_2  \n",
       "1                                        No change  \n",
       "2       Moved downhill to north network 300 meters  \n",
       "3   Moved douth 100 m - uncertain on side of ridge  \n",
       "4                    Moved 100m north onto network  \n",
       "5                                        No change  \n",
       "6                                        No change  \n",
       "7                                        No change  \n",
       "8                                        No change  \n",
       "9                                        No change  \n",
       "10                                       No change  \n",
       "11                     Moved north 100m to network  \n",
       "12                     Moved north 100m to network  \n",
       "13                      Moved east 100m to network  \n",
       "14                     Moved south 100m to network  \n",
       "15                                       No change  \n",
       "16                                       No change  \n",
       "17                       Moved 100m eat to network  \n",
       "18                                       No change  \n",
       "19                      Moved 100m west to network  \n",
       "20                      Moved 100m north to nework  \n",
       "21                     Moved 50 m north to network  \n",
       "22                     Moved 100 m west to network  \n",
       "23                                       No change  \n",
       "24      Moved 100m northwest to west bank drainage  \n",
       "25     Moved 100 m southeast to south back of lago  "
      ]
     },
     "execution_count": 32,
     "metadata": {},
     "output_type": "execute_result"
    }
   ],
   "source": [
    "data"
   ]
  },
  {
   "cell_type": "code",
   "execution_count": 158,
   "metadata": {},
   "outputs": [],
   "source": [
    "import pyproj"
   ]
  },
  {
   "cell_type": "code",
   "execution_count": 159,
   "metadata": {},
   "outputs": [],
   "source": [
    "p = pyproj.Proj('+proj=utm +zone=20N +ellps=WGS84')"
   ]
  },
  {
   "cell_type": "code",
   "execution_count": 160,
   "metadata": {},
   "outputs": [],
   "source": [
    "xy_of_location = p(data[\"Longitude\"].values, data[\"Latitude\"].values)"
   ]
  },
  {
   "cell_type": "code",
   "execution_count": 162,
   "metadata": {},
   "outputs": [],
   "source": [
    "id_of_location = grid.find_nearest_node(p2(data[\"Longitude\"].values, data[\"Latitude\"].values))"
   ]
  },
  {
   "cell_type": "code",
   "execution_count": 163,
   "metadata": {},
   "outputs": [
    {
     "data": {
      "text/plain": [
       "array([ 460.525   ,  401.6872  ,  461.0269  ,  386.8622  ,  336.8474  ,\n",
       "        253.0092  ,  243.0343  ,  211.5359  ,   86.92188 ,   53.07581 ,\n",
       "         47.18911 ,   97.28863 ,   25.48574 ,   10.59097 ,    9.374895,\n",
       "        311.4903  ,  101.6129  ,   72.51905 ,  276.0992  ,  210.8874  ,\n",
       "        171.8296  ,  110.554   ,  106.6357  ,  101.6953  ,   64.15204 ,\n",
       "         64.26633 ])"
      ]
     },
     "execution_count": 163,
     "metadata": {},
     "output_type": "execute_result"
    }
   ],
   "source": [
    "grid.at_node[\"topographic__elevation\"][id_of_location]"
   ]
  },
  {
   "cell_type": "code",
   "execution_count": 164,
   "metadata": {},
   "outputs": [
    {
     "data": {
      "text/plain": [
       "array([4605284, 4508562, 4576589, 4802206, 4802206, 4737758, 5615272,\n",
       "       5615280, 5604575, 5611778, 5611784, 4508562, 4393911, 4393911,\n",
       "       4393911, 4669725, 4576589, 4576589, 4802206, 4773549, 4752065,\n",
       "       4676857, 4648204, 4594477, 4576570, 4555092])"
      ]
     },
     "execution_count": 164,
     "metadata": {},
     "output_type": "execute_result"
    }
   ],
   "source": [
    "watersheds[id_of_location]"
   ]
  },
  {
   "cell_type": "code",
   "execution_count": 168,
   "metadata": {},
   "outputs": [],
   "source": [
    "def cmap(n_values, values):\n",
    "    import matplotlib.pyplot as plt\n",
    "    import numpy as np\n",
    "    \n",
    "    low, high = 0.6, 0.95\n",
    "    colors = np.zeros(n_values * 3).reshape((-1, 3))\n",
    "    colors[values] = np.random.uniform(low=low, high=high, size=len(values) * 3).reshape((-1, 3))\n",
    "\n",
    "    cmap = plt.cm.colors.ListedColormap(colors)\n",
    "    cmap.set_under('white')\n",
    "    \n",
    "    return cmap"
   ]
  },
  {
   "cell_type": "code",
   "execution_count": 171,
   "metadata": {},
   "outputs": [
    {
     "name": "stdout",
     "output_type": "stream",
     "text": [
      "\n",
      "Grid query results:\n",
      "\n",
      "{'grid location': {'x_coord': 189255.75604838709,\n",
      "                   'y_coord': 150735.21169354836},\n",
      " 'node': {'ID': 6001953,\n",
      "          'column': 2103,\n",
      "          'row': 1675}}\n"
     ]
    }
   ],
   "source": [
    "landlab.plot.imshow_grid(\n",
    "    grid,\n",
    "    watersheds,\n",
    "    cmap=rand_cmap(watersheds.max(), watersheds[id_of_location]),\n",
    ")"
   ]
  }
 ],
 "metadata": {
  "kernelspec": {
   "display_name": "Python 3",
   "language": "python",
   "name": "python3"
  },
  "language_info": {
   "codemirror_mode": {
    "name": "ipython",
    "version": 3
   },
   "file_extension": ".py",
   "mimetype": "text/x-python",
   "name": "python",
   "nbconvert_exporter": "python",
   "pygments_lexer": "ipython3",
   "version": "3.7.0"
  }
 },
 "nbformat": 4,
 "nbformat_minor": 2
}
