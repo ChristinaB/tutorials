{
 "cells": [
  {
   "cell_type": "markdown",
   "metadata": {},
   "source": [
    "<a href=\"http://landlab.github.io\"><img style=\"float: left\" \n",
    "src=\"https://raw.githubusercontent.com/landlab/tutorials/master/landlab_header.png\"></a>"
   ]
  },
  {
   "cell_type": "markdown",
   "metadata": {},
   "source": [
    "\n",
    "\n",
    "## Reuse Ecohydrology Model with Gridded Hydrometeorology Forcing \n",
    "\n",
    "* Load data from a Landlab Cellular Automaton Vegetation-Ecohydrologic Model model published on HydroShare. <br />\n",
    "* Define a geographic subset (New Mexico) within the North America.\n",
    "* Calculate mean climatology for a range of elevation bands.\n",
    "* Run the Landlab ecohydrology model for a watershed given various climate scenarios.<br />\n",
    "* Explore sensitivity to climate by comparing the watershed model results.\n",
    "* Save results to a new HydroShare resource.  <br />\n",
    "\n",
    "## Sai- we need a citation here and to update the text below.  <br />\n",
    "\n",
    "This notebook was developed from code written by Sai.... as part of his PhD disseration at the University of Washington."
   ]
  },
  {
   "cell_type": "markdown",
   "metadata": {},
   "source": [
    "## To run this notebook:\n",
    "\n",
    "Click in each shaded code block below and use \"shift + enter\" keys. Alternatively, you can run groups of cells by clicking \"Cell\" on the menu above and selecting among the various run options. This is also where you can clear outputs from previous runs.\n",
    "\n",
    "If an error occurs, click on *Kernal* and *Restart and Clear Outputs* in the menu above.\n",
    "<hr> <small> For more instructions on how to run an interactive IPython notebook, click here: <a href=\"https://github.com/landlab/tutorials/blob/master/README.md\">https://github.com/landlab/tutorials/blob/master/README.md</a></small><br>\n",
    "<small>For tutorials on learning Landlab, click here: <a href=\"https://github.com/landlab/landlab/wiki/Tutorials\">https://github.com/landlab/landlab/wiki/Tutorials</a></small>\n",
    "<br>\n",
    "<small>For the unexpanded version to download and run, click here: <a href=\"http://nbviewer.jupyter.org/github/landlab/tutorials/blob/master/ecohydrology/cellular_automaton_vegetation_DEM/cellular_automaton_vegetation_DEM_unexpanded.ipynb\">http://nbviewer.jupyter.org/github/landlab/tutorials/blob/master/ecohydrology/cellular_automaton_vegetation_DEM/cellular_automaton_vegetation_DEM_unexpanded.ipynb</a></small><br>"
   ]
  },
  {
   "attachments": {
    "image.png": {
     "image/png": "[encoded data removed]"
    }
   },
   "cell_type": "markdown",
   "metadata": {},
   "source": [
    "## 1. Introduction\n",
    "\n",
    "** 1.1 Theory**\n",
    "\n",
    "Depth -averaged root zone water balance can be respresented by \n",
    "![image.png](attachment:image.png)\n",
    "where      \n",
    "&nbsp;&nbsp;&nbsp;&nbsp;$n = soil porosity$,\n",
    "## Sai- we need to fix this equation please, and references below.  <br />\n",
    "&nbsp;&nbsp;&nbsp;&nbsp;$ \\leftZ^r\\right= effective roting depth[mm] $,\n",
    "&nbsp;&nbsp;&nbsp;&nbsp;$x = location \\space in \\space space \\left[L\\right]$   \n",
    "&nbsp;&nbsp;&nbsp;&nbsp;$g = acceleration \\space due \\space to \\space gravity \\left[L{T^{-2}}\\right]$  \n",
    "&nbsp;&nbsp;&nbsp;&nbsp;$h = water \\space depth \\left[L\\right]$  \n",
    "&nbsp;&nbsp;&nbsp;&nbsp;$z = bed \\space elevation \\left[L\\right]$  \n",
    "&nbsp;&nbsp;&nbsp;&nbsp;$n = Manning's \\space roughness \\space coeffiecient \\left[T{L^{{-1}/{3}}}\\right]$  \n",
    "&nbsp;&nbsp;&nbsp;&nbsp;$R = hydraulic \\space radius \\left[L\\right]$  \n",
    "&nbsp;&nbsp;&nbsp;&nbsp;$A_{xs} = cross-sectional \\space area \\left[L^2\\right]$ \n",
    "\n",
    "where n is soil porosity, Z^r (mm) is the effective roting depth, s is relative saturation, t (d) is time, I^a (mm d^-1) is the rate of actual infiltation, ET_a (mm d^-1) is the actual rate of evapotranspiration, and D (mm  d^-1) is the rate of leakage from the root zone (e.g., Eagleson, 1982; Rodriguez-Iturbe, 2000). \n",
    "\n",
    "This tutorial demonstrates implementation of the Cellular Automaton Tree-GRass-Shrub Simulator (CATGRaSS) [Zhou et al., 2013] on a flat domain. This model is built using components from the Landlab component library. CATGRaSS is spatially explicit model of plant coexistence. It simulates local ecohydrologic dynamics (soil moisture, transpiration, biomass) and spatial evolution of tree, grass, and shrub Plant Functional Types (PFT) driven by rainfall and solar radiation. \n",
    "\n",
    "Each cell in the model grid can hold a single PFT or remain empty. Tree and shrub plants disperse seeds to their neighbors. Grass seeds are assumed to be available at each cell. Establishment of plants in empty cells is determined probabilistically based on water stress of each PFT. Plants with lower water stress have higher probability of establishment. Plant mortality is simulated probabilistically as a result of aging and drought stress. Fires and grazing will be added to this model soon.  \n",
    "\n",
    "This model (driver) contains:\n",
    "  - A local vegetation dynamics model that simulates storm and inter-storm water balance and ecohydrologic fluxes (ET, runoff), and plant biomass dynamics by coupling the following components:\n",
    "        - PrecipitationDistribution\n",
    "        - Radiation\n",
    "        - PotentialEvapotranspiration\n",
    "        - SoilMoisture\n",
    "        - Vegetation\n",
    "\n",
    "  - A spatially explicit probabilistic cellular automaton component that simulates plant competition by tracking establishment and mortality of plants based on soil moisture stress:\n",
    "        - VegCA\n",
    "    \n",
    "To run this Jupyter notebook, please make sure that the following files are in the same folder:\n",
    "        - cellular_automaton_vegetation_flat_domain.ipynb (this notebook)\n",
    "        - Inputs_Vegetation_CA.txt (Input parameters for the model)\n",
    "        - Ecohyd_functions_flat.py (Utility functions)\n",
    "\n",
    "[Ref: Zhou, X, E. Istanbulluoglu, and E.R. Vivoni. \"Modeling the ecohydrological role of aspect-controlled radiation on tree-grass-shrub coexistence in a semiarid climate.\" Water Resources Research 49.5 (2013): 2872-2895]\n",
    "Rodriguez-Iturbe, I. (2000), Ecohydrology: A hydrologic perspective ofclimate-soil-vegetation dynamics, Water Resour. Res., 36(1), 3–9.\n",
    "Eagleson, P. S. (1982), Ecological optimality in water-limited natural soilvegetation systems: 1. Theory and hypothesis, Water Resour. Res.,18(2), 325–340."
   ]
  },
  {
   "cell_type": "markdown",
   "metadata": {},
   "source": [
    "** 1.2 Landscape **\n",
    "In this tutorial, we are going to work with a landscape in central New Mexico, USA, where aspect controls the organization of PFTs. The climate in this area is semi-arid with Mean Annual Precipitation (MAP) of 254 mm [Zhou et. al 2013]. \n",
    "\n",
    "\n",
    "....see level of example here...\n",
    "'a steep 27 $km^2$ watershed located in central Colorado. The DEM we will use has a resolution of 30 meters (Adams et al. 2017). To clearly contrast landscape shape, this notebook uses two other modeled \"synthetic\" landscapes produced using a landscape evolution model developed in Landlab by coupling hillslope diffusion transopt and stream-power erosion rules. One landscape is sauk (length = width) and one is rectangular (length = 4*width). Both landscapes have a drainage area of 36 km$^2$ and a cell size of 30 m.\n",
    "\n",
    "The watershed domains are available at the Landlab Github site and as Hydroshare resource, and will be imported as part of this exercise.\n",
    "\n",
    "** 1.3 Climate from different elevations **\n",
    "In this tutorial, we are going to work with a landscape in central New Mexico, USA, where aspect controls the organization of PFTs. The climate in this area is semi-arid with Mean Annual Precipitation (MAP) of 254 mm [Zhou et. al 2013]. \n",
    "\n",
    "\n",
    "....see level of example here...\n",
    "'a steep 27 $km^2$ watershed located in central Colorado. The DEM we will use has a resolution of 30 meters (Adams et al. 2017). To clearly contrast landscape shape, this notebook uses two other modeled \"synthetic\" landscapes produced using a landscape evolution model developed in Landlab by coupling hillslope diffusion transopt and stream-power erosion rules. One landscape is sauk (length = width) and one is rectangular (length = 4*width). Both landscapes have a drainage area of 36 km$^2$ and a cell size of 30 m.\n",
    "\n",
    "The watershed domains are available at the Landlab Github site and as Hydroshare resource, and will be imported as part of this exercise.\n",
    "![New Mexico Climate by ELevation](https://www.hydroshare.org/resource/70b977e22af544f8a7e5a803935c329c/data/contents/NewMexicoEcohydrology.jpg \"Climate Bands by Elevation\")\n",
    "** 1.3 Steps to Explore the Model** \n",
    "\n",
    "We will do the following: \n",
    "- Import a landscape domain\n",
    "- Import and process gridded hydrometeorology\n",
    "- Initialize the landscape with random distribution of PFTs\n",
    "- Run the coupled Ecohydrology and cellular automata plant competition model for 50 years\n",
    "- Visualize and examine outputs\n",
    "\n",
    "Start at the top by reading each block of text and sequentially running each code block (put your curser in a code block and type shift + enter OR got to the _Cell_ pulldown menu at the top and choose _Run Cells_). \n",
    "\n",
    "Remember that you can always go to the _Kernel_ pulldown menu at the top and choose _Restart & Clear Output_ or _Restart & Run All_ if you change things and want to start afresh. \n",
    "\n"
   ]
  },
  {
   "cell_type": "markdown",
   "metadata": {},
   "source": [
    "## 2.0 Methods\n",
    "**Now on to the code.**"
   ]
  },
  {
   "cell_type": "markdown",
   "metadata": {},
   "source": [
    "** 2.1 Import Landlab components, functions for importing data, plotting tools, and HydroShare utilities **\n",
    "\n",
    "To run this notebook, we must import several libraries.\n",
    "The hs_utils library provides functions for interacting with HydroShare, including resource querying, dowloading. and creation. Additional libraries support the functions of Landlab."
   ]
  },
  {
   "cell_type": "code",
   "execution_count": 1,
   "metadata": {},
   "outputs": [
    {
     "name": "stdout",
     "output_type": "stream",
     "text": [
      "Adding the following system variables:\n",
      "   HS_USR_NAME = ChristinaBandaragoda\n",
      "   HS_RES_ID = 70b977e22af544f8a7e5a803935c329c\n",
      "   HS_RES_TYPE = genericresource\n",
      "   JUPYTER_HUB_IP = jupyter.cuahsi.org\n",
      "\n",
      "These can be accessed using the following command: \n",
      "   os.environ[key]\n",
      "\n",
      "   (e.g.)\n",
      "   os.environ[\"HS_USR_NAME\"]  => ChristinaBandaragoda\n",
      "Successfully established a connection with HydroShare\n"
     ]
    }
   ],
   "source": [
    "#Landlab toolkit available on CUAHSI JupyterHub \n",
    "from landlab import RasterModelGrid as rmg\n",
    "\n",
    "#Python libraries available on CUAHSI JupyterHub \n",
    "import os\n",
    "import pandas as pd, numpy as np, dask, json\n",
    "from datetime import datetime, timedelta\n",
    "import geopandas as gpd\n",
    "\n",
    "# plotting and shape libraries\n",
    "%matplotlib inline\n",
    "import matplotlib.pyplot as plt\n",
    "\n",
    "# silencing warning\n",
    "import warnings \n",
    "warnings.filterwarnings('ignore')\n",
    "\n",
    "#HydroShare Utilities\n",
    "from utilities import hydroshare\n",
    "hs=hydroshare.hydroshare()\n"
   ]
  },
  {
   "cell_type": "markdown",
   "metadata": {},
   "source": [
    "** 2.2 Install software not on already installed on the CUAHSI JupyterHub Server **"
   ]
  },
  {
   "cell_type": "code",
   "execution_count": 9,
   "metadata": {},
   "outputs": [
    {
     "name": "stdout",
     "output_type": "stream",
     "text": [
      "Fetching package metadata .................\n",
      "Solving package specifications: .\n",
      "\n",
      "# All requested packages already installed.\n",
      "# packages in environment at /opt/conda:\n",
      "#\n",
      "basemap-data-hires        1.1.0                         0    conda-forge\n"
     ]
    }
   ],
   "source": [
    "!conda install -c conda-forge basemap-data-hires --yes"
   ]
  },
  {
   "cell_type": "code",
   "execution_count": 8,
   "metadata": {},
   "outputs": [
    {
     "name": "stdout",
     "output_type": "stream",
     "text": [
      "Fetching package metadata .................\n",
      "Solving package specifications: .\n",
      "\n",
      "# All requested packages already installed.\n",
      "# packages in environment at /opt/conda:\n",
      "#\n",
      "ogh                       0.1.6a0                    py_0    conda-forge\n"
     ]
    }
   ],
   "source": [
    "!conda install -c conda-forge ogh --yes"
   ]
  },
  {
   "cell_type": "markdown",
   "metadata": {},
   "source": [
    "## Jim   Update  \n",
    "Please see the [Observatory]( https://github.com/ChristinaB/Observatory/blob/master/README.md) repository on Github with a Readme instructions on how to use Git and the JupyterHub server terminal to push/pull changes.   After completing the steps to get the observatory_gridded_hydromet.py script into your HydroShare Utilities folder, execute the next cell. "
   ]
  },
  {
   "cell_type": "code",
   "execution_count": 17,
   "metadata": {},
   "outputs": [],
   "source": [
    "import ogh"
   ]
  },
  {
   "cell_type": "markdown",
   "metadata": {},
   "source": [
    "** 2.3 Set variables for interacting with HydroShare from this notebook **\n",
    "<br />\n",
    "The home directory on the JupyterHub server is printed. You can navigate to see the data using a terminal or folders. "
   ]
  },
  {
   "cell_type": "code",
   "execution_count": 18,
   "metadata": {},
   "outputs": [
    {
     "name": "stdout",
     "output_type": "stream",
     "text": [
      "Data will be loaded from and save to:/home/jovyan/work/notebooks/data/70b977e22af544f8a7e5a803935c329c/70b977e22af544f8a7e5a803935c329c/data/contents\n"
     ]
    }
   ],
   "source": [
    "homedir = ogh.mapContentFolder(str(os.environ[\"HS_RES_ID\"]))\n",
    "print('Data will be loaded from and save to:'+homedir)"
   ]
  },
  {
   "cell_type": "code",
   "execution_count": 19,
   "metadata": {},
   "outputs": [
    {
     "data": {
      "text/plain": [
       "[u'dailymet_bclivneh2013',\n",
       " u'dailymet_livneh2013',\n",
       " u'dailymet_livneh2015',\n",
       " u'dailyvic_livneh2013',\n",
       " u'dailyvic_livneh2015',\n",
       " u'dailywrf_bcsalathe2014',\n",
       " u'dailywrf_salathe2014']"
      ]
     },
     "execution_count": 19,
     "metadata": {},
     "output_type": "execute_result"
    }
   ],
   "source": [
    "# initialize ogh_meta data file\n",
    "meta_file = dict(ogh.ogh_meta())\n",
    "sorted(meta_file.keys())"
   ]
  },
  {
   "cell_type": "markdown",
   "metadata": {},
   "source": [
    "** 2.4 Import python scripts from a public HydroShare resource **"
   ]
  },
  {
   "cell_type": "code",
   "execution_count": 20,
   "metadata": {},
   "outputs": [
    {
     "name": "stdout",
     "output_type": "stream",
     "text": [
      "This resource already exists in your userspace.\n",
      "Would you like to overwrite this data [Y/n]? n\n"
     ]
    },
    {
     "data": {
      "text/html": [
       "<b>Found the following notebook(s) associated with this HydroShare resource.</b><br>Click the link(s) below to launch the notebook."
      ],
      "text/plain": [
       "<IPython.core.display.HTML object>"
      ]
     },
     "metadata": {},
     "output_type": "display_data"
    },
    {
     "data": {
      "text/html": [
       "<a href=../../../../d0860ddac0364b7089cc8d7be6476d3d/d0860ddac0364b7089cc8d7be6476d3d/data/contents/cellular_automaton_vegetation_flat_domain.ipynb target=\"_blank\">cellular_automaton_vegetation_flat_domain.ipynb<a>"
      ],
      "text/plain": [
       "<IPython.core.display.HTML object>"
      ]
     },
     "metadata": {},
     "output_type": "display_data"
    },
    {
     "data": {
      "text/html": [
       "<a href=../../../../d0860ddac0364b7089cc8d7be6476d3d/d0860ddac0364b7089cc8d7be6476d3d/data/contents/Observatory_Sevilleta.ipynb target=\"_blank\">Observatory_Sevilleta.ipynb<a>"
      ],
      "text/plain": [
       "<IPython.core.display.HTML object>"
      ]
     },
     "metadata": {},
     "output_type": "display_data"
    },
    {
     "data": {
      "text/html": [
       "<b>Found the following file(s) associated with this HydroShare resource.</b>"
      ],
      "text/plain": [
       "<IPython.core.display.HTML object>"
      ]
     },
     "metadata": {},
     "output_type": "display_data"
    },
    {
     "data": {
      "text/html": [
       "Sevilleta_1_Centroid_GriddedMet.csv<br>cellular_automaton_vegetation_flat_domain.ipynb<br>Inputs_Vegetation_CA_flat.txt<br>observatory_gridded_meteorology.py<br>Ecohyd_functions_flat.py<br>Observatory_Sevilleta.ipynb"
      ],
      "text/plain": [
       "<IPython.core.display.HTML object>"
      ]
     },
     "metadata": {},
     "output_type": "display_data"
    },
    {
     "data": {
      "text/html": [
       "These files are stored in a dictionary called <b>hs.content</b> for your convenience.  To access a file, simply issue the following command where MY_FILE is one of the files listed above: <pre>hs.content[\"MY_FILE\"] </pre> "
      ],
      "text/plain": [
       "<IPython.core.display.HTML object>"
      ]
     },
     "metadata": {},
     "output_type": "display_data"
    }
   ],
   "source": [
    "hs.getResourceFromHydroShare('d0860ddac0364b7089cc8d7be6476d3d')\n",
    "#pointer=hs.content['Ecohyd_functions_flat.py']\n",
    "#print(pointer)\n",
    "!cp ../../../../d0860ddac0364b7089cc8d7be6476d3d/d0860ddac0364b7089cc8d7be6476d3d/data/contents/Ecohyd_functions_flat.py ."
   ]
  },
  {
   "cell_type": "markdown",
   "metadata": {},
   "source": [
    "Import libraries from scripts into Jupyter Notebook"
   ]
  },
  {
   "cell_type": "code",
   "execution_count": 21,
   "metadata": {},
   "outputs": [],
   "source": [
    "from ecohydrology_model_functions import run_ecohydrology_model\n",
    "from ecohydrology_model_functions import plot_results"
   ]
  },
  {
   "cell_type": "markdown",
   "metadata": {},
   "source": [
    "** 2.5 Download watershed boundary from HydroShare Resources **\n",
    "\n",
    "This resource type is Composite Resource containing a Geographic Feature (ESRI Shapefile). "
   ]
  },
  {
   "cell_type": "code",
   "execution_count": 22,
   "metadata": {},
   "outputs": [
    {
     "name": "stdout",
     "output_type": "stream",
     "text": [
      "This resource already exists in your userspace.\n",
      "Would you like to overwrite this data [Y/n]? n\n"
     ]
    },
    {
     "data": {
      "text/html": [
       "<b>Found the following file(s) associated with this HydroShare resource.</b>"
      ],
      "text/plain": [
       "<IPython.core.display.HTML object>"
      ]
     },
     "metadata": {},
     "output_type": "display_data"
    },
    {
     "data": {
      "text/html": [
       "UpperRioSalado_delineatedBoundary.cpg<br>UpperRioSalado_delineatedBoundary.shx<br>UpperRioSalado_delineatedBoundary.dbf<br>UpperRioSalado_delineatedBoundary.shp<br>UpperRioSalado_delineatedBoundary.prj<br>UpperRioSalado_delineatedBoundary.shp.xml"
      ],
      "text/plain": [
       "<IPython.core.display.HTML object>"
      ]
     },
     "metadata": {},
     "output_type": "display_data"
    },
    {
     "data": {
      "text/html": [
       "These files are stored in a dictionary called <b>hs.content</b> for your convenience.  To access a file, simply issue the following command where MY_FILE is one of the files listed above: <pre>hs.content[\"MY_FILE\"] </pre> "
      ],
      "text/plain": [
       "<IPython.core.display.HTML object>"
      ]
     },
     "metadata": {},
     "output_type": "display_data"
    }
   ],
   "source": [
    "# Watershed extent\n",
    "hs.getResourceFromHydroShare('5c041d95ceb64dce8eb85d2a7db88ed7')\n",
    "riosalado = hs.content['UpperRioSalado_delineatedBoundary.shp']\n",
    "ogh.reprojShapefile(riosalado)\n",
    "\n",
    "loc_name='Upper Rio Salado Watershed'\n",
    "streamflow_watershed_drainage_area=1849242318 # square meters [Sai to update]\n"
   ]
  },
  {
   "cell_type": "markdown",
   "metadata": {},
   "source": [
    "** 2.6 Get list of gridded hydrometeorology 1/16 degree centroids **\n",
    "\n",
    "The data for our processing routines can be retrieved using the getResourceFromHydroShare function by passing in the global identifier from the url above.  In the next cell, we download this resource from HydroShare, and identify that the points in this resource are available for downloading gridded hydrometeorology data, based on the point shapefile at https://www.hydroshare.org/resource/ef2d82bf960144b4bfb1bae6242bcc7f/, which is for the extent of North America and includes the average elevation for each 1/16 degree grid cell.  The file must include columns with station numbers, latitude, longitude, and elevation. The header of these columns must be FID, LAT, LONG_, and ELEV, respectively. The station numbers will be used for the remainder of the code to uniquely reference data from each climate station, as well as to identify minimum, maximum, and average elevation of all of the climate stations.  "
   ]
  },
  {
   "cell_type": "code",
   "execution_count": 23,
   "metadata": {},
   "outputs": [
    {
     "name": "stdout",
     "output_type": "stream",
     "text": [
      "This resource already exists in your userspace.\n",
      "Would you like to overwrite this data [Y/n]? n\n"
     ]
    },
    {
     "data": {
      "text/html": [
       "<b>Found the following file(s) associated with this HydroShare resource.</b>"
      ],
      "text/plain": [
       "<IPython.core.display.HTML object>"
      ]
     },
     "metadata": {},
     "output_type": "display_data"
    },
    {
     "data": {
      "text/html": [
       "NAmer_dem_list.cpg<br>NAmer_dem_list.sbn<br>NAmer_dem_list.sbx<br>NAmer_dem_list.dbf<br>NAmer_dem_list.shx<br>NAmer_dem_list.prj<br>NAmer_dem_list.shp"
      ],
      "text/plain": [
       "<IPython.core.display.HTML object>"
      ]
     },
     "metadata": {},
     "output_type": "display_data"
    },
    {
     "data": {
      "text/html": [
       "These files are stored in a dictionary called <b>hs.content</b> for your convenience.  To access a file, simply issue the following command where MY_FILE is one of the files listed above: <pre>hs.content[\"MY_FILE\"] </pre> "
      ],
      "text/plain": [
       "<IPython.core.display.HTML object>"
      ]
     },
     "metadata": {},
     "output_type": "display_data"
    }
   ],
   "source": [
    "# List of available data\n",
    "hs.getResourceFromHydroShare('ef2d82bf960144b4bfb1bae6242bcc7f')\n",
    "NAmer = hs.content['NAmer_dem_list.shp']"
   ]
  },
  {
   "cell_type": "markdown",
   "metadata": {},
   "source": [
    "** 2.7 Map intersection of available grid centroids and watershed boundary **"
   ]
  },
  {
   "cell_type": "code",
   "execution_count": 24,
   "metadata": {},
   "outputs": [
    {
     "name": "stdout",
     "output_type": "stream",
     "text": [
      "(31, 4)\n",
      "   FID       LAT      LONG_    ELEV\n",
      "0    0  34.53125 -107.65625  2052.0\n",
      "1    1  34.53125 -107.71875  2217.0\n",
      "2    2  34.53125 -107.78125  2231.0\n",
      "3    3  34.53125 -107.84375  2297.0\n",
      "4    4  34.53125 -107.90625  2395.0\n",
      "/home/jovyan/work/notebooks/data/70b977e22af544f8a7e5a803935c329c/70b977e22af544f8a7e5a803935c329c/data/contents/RioSalado_mappingfile.csv\n"
     ]
    }
   ],
   "source": [
    "mappingfile=ogh.treatgeoself(shapefile=riosalado, NAmer=NAmer, buffer_distance=0.06, \n",
    "                              mappingfile=os.path.join(os.getcwd(),'RioSalado_mappingfile.csv'))\n",
    "print(mappingfile)"
   ]
  },
  {
   "cell_type": "code",
   "execution_count": 29,
   "metadata": {},
   "outputs": [
    {
     "ename": "IOError",
     "evalue": "Unable to open boundary dataset file. Only the 'crude' and  'low',\nresolution datasets are installed by default.\nIf you are requesting an, 'intermediate', 'high' or 'full'\nresolution dataset, you may need to download and install those\nfiles separately with\n`conda install -c conda-forge basemap-data-hires`.",
     "output_type": "error",
     "traceback": [
      "\u001b[0;31m\u001b[0m",
      "\u001b[0;31mIOError\u001b[0mTraceback (most recent call last)",
      "\u001b[0;32m<ipython-input-29-fc3dd564e333>\u001b[0m in \u001b[0;36m<module>\u001b[0;34m()\u001b[0m\n\u001b[1;32m      6\u001b[0m                             \u001b[0mcolorbar_label\u001b[0m\u001b[0;34m=\u001b[0m\u001b[0;34m'Average elevation (meters)'\u001b[0m\u001b[0;34m,\u001b[0m\u001b[0;34m\u001b[0m\u001b[0m\n\u001b[1;32m      7\u001b[0m                             \u001b[0mspatial_resolution\u001b[0m\u001b[0;34m=\u001b[0m\u001b[0;36m1\u001b[0m\u001b[0;34m/\u001b[0m\u001b[0;36m16\u001b[0m\u001b[0;34m,\u001b[0m \u001b[0mmargin\u001b[0m\u001b[0;34m=\u001b[0m\u001b[0;36m0.25\u001b[0m\u001b[0;34m,\u001b[0m \u001b[0mepsg\u001b[0m\u001b[0;34m=\u001b[0m\u001b[0;36m3857\u001b[0m\u001b[0;34m,\u001b[0m \u001b[0mcolumn\u001b[0m\u001b[0;34m=\u001b[0m\u001b[0;34m'ELEV'\u001b[0m\u001b[0;34m,\u001b[0m\u001b[0;34m\u001b[0m\u001b[0m\n\u001b[0;32m----> 8\u001b[0;31m                             basemap_image=None, cmap='terrain')\n\u001b[0m",
      "\u001b[0;32m/home/jovyan/work/notebooks/data/70b977e22af544f8a7e5a803935c329c/70b977e22af544f8a7e5a803935c329c/data/contents/ogh.pyc\u001b[0m in \u001b[0;36mgriddedCellGradient\u001b[0;34m(mappingfile, shapefile, outfilepath, plottitle, colorbar_label, spatial_resolution, margin, epsg, column, polygon_color, basemap_image, cmap)\u001b[0m\n\u001b[1;32m   2013\u001b[0m     \u001b[0;31m# generate basemap\u001b[0m\u001b[0;34m\u001b[0m\u001b[0;34m\u001b[0m\u001b[0m\n\u001b[1;32m   2014\u001b[0m     m = Basemap(projection='merc', epsg=epsg, resolution='h', ax=ax1,\n\u001b[0;32m-> 2015\u001b[0;31m                 llcrnrlon=minx-margin*w, llcrnrlat=miny-margin*h, urcrnrlon=maxx+margin*w, urcrnrlat=maxy+margin*h)\n\u001b[0m\u001b[1;32m   2016\u001b[0m \u001b[0;34m\u001b[0m\u001b[0m\n\u001b[1;32m   2017\u001b[0m     \u001b[0;31m# read and transform the watershed shapefiles\u001b[0m\u001b[0;34m\u001b[0m\u001b[0;34m\u001b[0m\u001b[0m\n",
      "\u001b[0;32m/opt/conda/envs/python2/lib/python2.7/site-packages/mpl_toolkits/basemap/__init__.pyc\u001b[0m in \u001b[0;36m__init__\u001b[0;34m(self, llcrnrlon, llcrnrlat, urcrnrlon, urcrnrlat, llcrnrx, llcrnry, urcrnrx, urcrnry, width, height, projection, resolution, area_thresh, rsphere, ellps, lat_ts, lat_1, lat_2, lat_0, lon_0, lon_1, lon_2, o_lon_p, o_lat_p, k_0, no_rot, suppress_ticks, satellite_height, boundinglat, fix_aspect, anchor, celestial, round, epsg, ax)\u001b[0m\n\u001b[1;32m   1110\u001b[0m         \u001b[0;32mif\u001b[0m \u001b[0mself\u001b[0m\u001b[0;34m.\u001b[0m\u001b[0mresolution\u001b[0m \u001b[0;32mis\u001b[0m \u001b[0;32mnot\u001b[0m \u001b[0mNone\u001b[0m\u001b[0;34m:\u001b[0m\u001b[0;34m\u001b[0m\u001b[0m\n\u001b[1;32m   1111\u001b[0m             \u001b[0mself\u001b[0m\u001b[0;34m.\u001b[0m\u001b[0mcoastsegs\u001b[0m\u001b[0;34m,\u001b[0m \u001b[0mself\u001b[0m\u001b[0;34m.\u001b[0m\u001b[0mcoastpolygontypes\u001b[0m \u001b[0;34m=\u001b[0m\u001b[0;31m\\\u001b[0m\u001b[0;34m\u001b[0m\u001b[0m\n\u001b[0;32m-> 1112\u001b[0;31m             \u001b[0mself\u001b[0m\u001b[0;34m.\u001b[0m\u001b[0m_readboundarydata\u001b[0m\u001b[0;34m(\u001b[0m\u001b[0;34m'gshhs'\u001b[0m\u001b[0;34m,\u001b[0m\u001b[0mas_polygons\u001b[0m\u001b[0;34m=\u001b[0m\u001b[0mTrue\u001b[0m\u001b[0;34m)\u001b[0m\u001b[0;34m\u001b[0m\u001b[0m\n\u001b[0m\u001b[1;32m   1113\u001b[0m             \u001b[0;31m# reformat for use in matplotlib.patches.Polygon.\u001b[0m\u001b[0;34m\u001b[0m\u001b[0;34m\u001b[0m\u001b[0m\n\u001b[1;32m   1114\u001b[0m             \u001b[0mself\u001b[0m\u001b[0;34m.\u001b[0m\u001b[0mcoastpolygons\u001b[0m \u001b[0;34m=\u001b[0m \u001b[0;34m[\u001b[0m\u001b[0;34m]\u001b[0m\u001b[0;34m\u001b[0m\u001b[0m\n",
      "\u001b[0;32m/opt/conda/envs/python2/lib/python2.7/site-packages/mpl_toolkits/basemap/__init__.pyc\u001b[0m in \u001b[0;36m_readboundarydata\u001b[0;34m(self, name, as_polygons)\u001b[0m\n\u001b[1;32m   1224\u001b[0m             \u001b[0mbdatmetafile\u001b[0m \u001b[0;34m=\u001b[0m \u001b[0mopen\u001b[0m\u001b[0;34m(\u001b[0m\u001b[0mos\u001b[0m\u001b[0;34m.\u001b[0m\u001b[0mpath\u001b[0m\u001b[0;34m.\u001b[0m\u001b[0mjoin\u001b[0m\u001b[0;34m(\u001b[0m\u001b[0mbasemap_datadir\u001b[0m\u001b[0;34m,\u001b[0m\u001b[0mname\u001b[0m\u001b[0;34m+\u001b[0m\u001b[0;34m'meta_'\u001b[0m\u001b[0;34m+\u001b[0m\u001b[0mself\u001b[0m\u001b[0;34m.\u001b[0m\u001b[0mresolution\u001b[0m\u001b[0;34m+\u001b[0m\u001b[0;34m'.dat'\u001b[0m\u001b[0;34m)\u001b[0m\u001b[0;34m,\u001b[0m\u001b[0;34m'r'\u001b[0m\u001b[0;34m)\u001b[0m\u001b[0;34m\u001b[0m\u001b[0m\n\u001b[1;32m   1225\u001b[0m         \u001b[0;32mexcept\u001b[0m\u001b[0;34m:\u001b[0m\u001b[0;34m\u001b[0m\u001b[0m\n\u001b[0;32m-> 1226\u001b[0;31m             \u001b[0;32mraise\u001b[0m \u001b[0mIOError\u001b[0m\u001b[0;34m(\u001b[0m\u001b[0mmsg\u001b[0m\u001b[0;34m)\u001b[0m\u001b[0;34m\u001b[0m\u001b[0m\n\u001b[0m\u001b[1;32m   1227\u001b[0m         \u001b[0mpolygons\u001b[0m \u001b[0;34m=\u001b[0m \u001b[0;34m[\u001b[0m\u001b[0;34m]\u001b[0m\u001b[0;34m\u001b[0m\u001b[0m\n\u001b[1;32m   1228\u001b[0m         \u001b[0mpolygon_types\u001b[0m \u001b[0;34m=\u001b[0m \u001b[0;34m[\u001b[0m\u001b[0;34m]\u001b[0m\u001b[0;34m\u001b[0m\u001b[0m\n",
      "\u001b[0;31mIOError\u001b[0m: Unable to open boundary dataset file. Only the 'crude' and  'low',\nresolution datasets are installed by default.\nIf you are requesting an, 'intermediate', 'high' or 'full'\nresolution dataset, you may need to download and install those\nfiles separately with\n`conda install -c conda-forge basemap-data-hires`."
     ]
    },
    {
     "data": {
      "image/png": "[encoded data removed]",
      "text/plain": [
       "<Figure size 1500x1500 with 1 Axes>"
      ]
     },
     "metadata": {},
     "output_type": "display_data"
    }
   ],
   "source": [
    "# generate gridded Cell Gradient for the mappingfile ELEV variable\n",
    "ogh.griddedCellGradient(mappingfile=mappingfile, \n",
    "                            shapefile=riosalado,\n",
    "                            outfilepath=os.path.join(homedir, 'Elevation.png'),\n",
    "                            plottitle='{0} watershed\\nGridded cell elevation gradient'.format('Upper Rio Salado'),\n",
    "                            colorbar_label='Average elevation (meters)',\n",
    "                            spatial_resolution=1/16, margin=0.25, epsg=3857, column='ELEV',\n",
    "                            basemap_image=None, cmap='terrain')\n"
   ]
  },
  {
   "cell_type": "markdown",
   "metadata": {},
   "source": [
    "** 2.8 Download climate data **\n",
    "\n",
    "The getDailyMET_livneh2015() function reads in the mapping file table, generates the destination folder, downloads and unzips the files, then catalogs the downloaded files within the mapping file.\n",
    "\n",
    "*View data extent for North America:*\n",
    "Livneh, B. (2017). Gridded climatology locations (1/16th degree): North American extent, HydroShare, http://www.hydroshare.org/resource/ef2d82bf960144b4bfb1bae6242bcc7f\n",
    "\n",
    "\n",
    "*Please cite:*\n",
    "Livneh B., T.J. Bohn, D.S. Pierce, F. Munoz-Ariola, B. Nijssen, R. Vose, D. Cayan, and L.D. Brekke, 2015: A spatially comprehensive, hydrometeorological data set for Mexico, the U.S., and southern Canada 1950-2013, Nature Scientific Data, 5:150042, doi:10.1038/sdata.2015.42.\n"
   ]
  },
  {
   "cell_type": "code",
   "execution_count": 30,
   "metadata": {},
   "outputs": [
    {
     "name": "stdout",
     "output_type": "stream",
     "text": [
      "Meteorology_Livneh_NAmerExt_15Oct2014_34.46875_-107.65625 unzipped\n",
      "Meteorology_Livneh_NAmerExt_15Oct2014_34.46875_-107.78125 unzipped\n",
      "Meteorology_Livneh_NAmerExt_15Oct2014_34.53125_-107.90625 unzipped\n",
      "Meteorology_Livneh_NAmerExt_15Oct2014_34.53125_-107.65625 unzipped\n",
      "Meteorology_Livneh_NAmerExt_15Oct2014_34.53125_-107.78125 unzipped\n",
      "Meteorology_Livneh_NAmerExt_15Oct2014_34.46875_-107.71875 unzipped\n",
      "Meteorology_Livneh_NAmerExt_15Oct2014_34.53125_-107.71875 unzipped\n",
      "Meteorology_Livneh_NAmerExt_15Oct2014_34.46875_-107.84375 unzipped\n",
      "Meteorology_Livneh_NAmerExt_15Oct2014_34.46875_-107.59375 unzipped\n",
      "Meteorology_Livneh_NAmerExt_15Oct2014_34.53125_-107.84375 unzipped\n",
      "Meteorology_Livneh_NAmerExt_15Oct2014_34.46875_-107.90625 unzipped\n",
      "Meteorology_Livneh_NAmerExt_15Oct2014_34.40625_-107.90625 unzipped\n",
      "Meteorology_Livneh_NAmerExt_15Oct2014_34.40625_-107.65625 unzipped\n",
      "Meteorology_Livneh_NAmerExt_15Oct2014_34.40625_-107.78125 unzipped\n",
      "Meteorology_Livneh_NAmerExt_15Oct2014_34.40625_-108.03125 unzipped\n",
      "Meteorology_Livneh_NAmerExt_15Oct2014_34.46875_-107.96875 unzipped\n",
      "Meteorology_Livneh_NAmerExt_15Oct2014_34.40625_-107.96875 unzipped\n",
      "Meteorology_Livneh_NAmerExt_15Oct2014_34.40625_-107.71875 unzipped\n",
      "Meteorology_Livneh_NAmerExt_15Oct2014_34.40625_-107.84375 unzipped\n",
      "Meteorology_Livneh_NAmerExt_15Oct2014_34.34375_-107.65625 unzipped\n",
      "Meteorology_Livneh_NAmerExt_15Oct2014_34.34375_-107.84375 unzipped\n",
      "Meteorology_Livneh_NAmerExt_15Oct2014_34.34375_-107.96875 unzipped\n",
      "Meteorology_Livneh_NAmerExt_15Oct2014_34.34375_-107.71875 unzipped\n",
      "Meteorology_Livneh_NAmerExt_15Oct2014_34.28125_-107.78125 unzipped\n",
      "Meteorology_Livneh_NAmerExt_15Oct2014_34.28125_-107.90625 unzipped\n",
      "Meteorology_Livneh_NAmerExt_15Oct2014_34.34375_-107.90625 unzipped\n",
      "Meteorology_Livneh_NAmerExt_15Oct2014_34.34375_-108.03125 unzipped\n",
      "Meteorology_Livneh_NAmerExt_15Oct2014_34.28125_-107.84375 unzipped\n",
      "Meteorology_Livneh_NAmerExt_15Oct2014_34.34375_-107.78125 unzipped\n",
      "Meteorology_Livneh_NAmerExt_15Oct2014_34.28125_-107.96875 unzipped\n",
      "Meteorology_Livneh_NAmerExt_15Oct2014_34.28125_-108.03125 unzipped\n"
     ]
    },
    {
     "data": {
      "text/plain": [
       "'/home/jovyan/work/notebooks/data/70b977e22af544f8a7e5a803935c329c/70b977e22af544f8a7e5a803935c329c/data/contents/livneh2015/Daily_MET_1950_2013/raw'"
      ]
     },
     "execution_count": 30,
     "metadata": {},
     "output_type": "execute_result"
    }
   ],
   "source": [
    "ogh.getDailyMET_livneh2015(homedir, mappingfile)"
   ]
  },
  {
   "cell_type": "markdown",
   "metadata": {},
   "source": [
    "** 2.9 Summarize the file availability from mapping file **"
   ]
  },
  {
   "cell_type": "code",
   "execution_count": 31,
   "metadata": {},
   "outputs": [
    {
     "data": {
      "text/html": [
       "<div>\n",
       "<style scoped>\n",
       "    .dataframe tbody tr th:only-of-type {\n",
       "        vertical-align: middle;\n",
       "    }\n",
       "\n",
       "    .dataframe tbody tr th {\n",
       "        vertical-align: top;\n",
       "    }\n",
       "\n",
       "    .dataframe thead tr th {\n",
       "        text-align: left;\n",
       "    }\n",
       "</style>\n",
       "<table border=\"1\" class=\"dataframe\">\n",
       "  <thead>\n",
       "    <tr>\n",
       "      <th>Watershed</th>\n",
       "      <th>Upper Rio Salado</th>\n",
       "    </tr>\n",
       "    <tr>\n",
       "      <th>Median elevation in meters [range](No. gridded cells)</th>\n",
       "      <th>2308[1962-2669] (n=31)</th>\n",
       "    </tr>\n",
       "  </thead>\n",
       "  <tbody>\n",
       "    <tr>\n",
       "      <th>dailymet_livneh2015</th>\n",
       "      <td>2308[1962-2669] (n=31)</td>\n",
       "    </tr>\n",
       "  </tbody>\n",
       "</table>\n",
       "</div>"
      ],
      "text/plain": [
       "Watershed                                                    Upper Rio Salado\n",
       "Median elevation in meters [range](No. gridded cells)  2308[1962-2669] (n=31)\n",
       "dailymet_livneh2015                                    2308[1962-2669] (n=31)"
      ]
     },
     "execution_count": 31,
     "metadata": {},
     "output_type": "execute_result"
    }
   ],
   "source": [
    "t1 = ogh.mappingfileSummary(listofmappingfiles = [mappingfile], \n",
    "                            listofwatershednames = ['Upper Rio Salado'],\n",
    "                            meta_file=meta_file)\n",
    "\n",
    "watershed_table = os.path.join(homedir, 'watershed_table.txt')\n",
    "t1.to_csv(watershed_table, sep='\\t', header=True, index=True)\n",
    "\n",
    "t1"
   ]
  },
  {
   "cell_type": "code",
   "execution_count": 46,
   "metadata": {},
   "outputs": [],
   "source": [
    "# Livneh et al., 2013\n",
    "# Livneh et al., 2014\n",
    "dr1 = meta_file['dailymet_livneh2015']\n",
    "\n",
    "# Salathe et al., 2014\n",
    "dr2 = meta_file['dailymet_livneh2015']\n",
    "\n",
    "# define overlapping time window\n",
    "dr = ogh.overlappingDates(date_set1=tuple([dr1['start_date'], dr1['end_date']]), \n",
    "                          date_set2=tuple([dr2['start_date'], dr2['end_date']]))"
   ]
  },
  {
   "cell_type": "code",
   "execution_count": 47,
   "metadata": {},
   "outputs": [
    {
     "ename": "TypeError",
     "evalue": "tuple indices must be integers, not str",
     "output_type": "error",
     "traceback": [
      "\u001b[0;31m\u001b[0m",
      "\u001b[0;31mTypeError\u001b[0mTraceback (most recent call last)",
      "\u001b[0;32m<ipython-input-47-4027c75a4fbd>\u001b[0m in \u001b[0;36m<module>\u001b[0;34m()\u001b[0m\n\u001b[0;32m----> 1\u001b[0;31m \u001b[0mget_ipython\u001b[0m\u001b[0;34m(\u001b[0m\u001b[0;34m)\u001b[0m\u001b[0;34m.\u001b[0m\u001b[0mrun_cell_magic\u001b[0m\u001b[0;34m(\u001b[0m\u001b[0;34mu'time'\u001b[0m\u001b[0;34m,\u001b[0m \u001b[0;34mu''\u001b[0m\u001b[0;34m,\u001b[0m \u001b[0;34mu\"ltm = ogh.gridclim_dict(mappingfile=mappingfile,\\n                        metadata=meta_file,\\n                        dataset='dailymet_livneh2015',\\n                        file_time_step=dr['temporal_resolution'],\\n                        file_start_date=dr['start_date'],\\n                        file_end_date=dr['end_date'],\\n                        subset_start_date=dr[0],\\n                        subset_end_date=dr[1])\"\u001b[0m\u001b[0;34m)\u001b[0m\u001b[0;34m\u001b[0m\u001b[0m\n\u001b[0m",
      "\u001b[0;32m/opt/conda/envs/python2/lib/python2.7/site-packages/IPython/core/interactiveshell.pyc\u001b[0m in \u001b[0;36mrun_cell_magic\u001b[0;34m(self, magic_name, line, cell)\u001b[0m\n\u001b[1;32m   2115\u001b[0m             \u001b[0mmagic_arg_s\u001b[0m \u001b[0;34m=\u001b[0m \u001b[0mself\u001b[0m\u001b[0;34m.\u001b[0m\u001b[0mvar_expand\u001b[0m\u001b[0;34m(\u001b[0m\u001b[0mline\u001b[0m\u001b[0;34m,\u001b[0m \u001b[0mstack_depth\u001b[0m\u001b[0;34m)\u001b[0m\u001b[0;34m\u001b[0m\u001b[0m\n\u001b[1;32m   2116\u001b[0m             \u001b[0;32mwith\u001b[0m \u001b[0mself\u001b[0m\u001b[0;34m.\u001b[0m\u001b[0mbuiltin_trap\u001b[0m\u001b[0;34m:\u001b[0m\u001b[0;34m\u001b[0m\u001b[0m\n\u001b[0;32m-> 2117\u001b[0;31m                 \u001b[0mresult\u001b[0m \u001b[0;34m=\u001b[0m \u001b[0mfn\u001b[0m\u001b[0;34m(\u001b[0m\u001b[0mmagic_arg_s\u001b[0m\u001b[0;34m,\u001b[0m \u001b[0mcell\u001b[0m\u001b[0;34m)\u001b[0m\u001b[0;34m\u001b[0m\u001b[0m\n\u001b[0m\u001b[1;32m   2118\u001b[0m             \u001b[0;32mreturn\u001b[0m \u001b[0mresult\u001b[0m\u001b[0;34m\u001b[0m\u001b[0m\n\u001b[1;32m   2119\u001b[0m \u001b[0;34m\u001b[0m\u001b[0m\n",
      "\u001b[0;32m<decorator-gen-60>\u001b[0m in \u001b[0;36mtime\u001b[0;34m(self, line, cell, local_ns)\u001b[0m\n",
      "\u001b[0;32m/opt/conda/envs/python2/lib/python2.7/site-packages/IPython/core/magic.pyc\u001b[0m in \u001b[0;36m<lambda>\u001b[0;34m(f, *a, **k)\u001b[0m\n\u001b[1;32m    186\u001b[0m     \u001b[0;31m# but it's overkill for just that one bit of state.\u001b[0m\u001b[0;34m\u001b[0m\u001b[0;34m\u001b[0m\u001b[0m\n\u001b[1;32m    187\u001b[0m     \u001b[0;32mdef\u001b[0m \u001b[0mmagic_deco\u001b[0m\u001b[0;34m(\u001b[0m\u001b[0marg\u001b[0m\u001b[0;34m)\u001b[0m\u001b[0;34m:\u001b[0m\u001b[0;34m\u001b[0m\u001b[0m\n\u001b[0;32m--> 188\u001b[0;31m         \u001b[0mcall\u001b[0m \u001b[0;34m=\u001b[0m \u001b[0;32mlambda\u001b[0m \u001b[0mf\u001b[0m\u001b[0;34m,\u001b[0m \u001b[0;34m*\u001b[0m\u001b[0ma\u001b[0m\u001b[0;34m,\u001b[0m \u001b[0;34m**\u001b[0m\u001b[0mk\u001b[0m\u001b[0;34m:\u001b[0m \u001b[0mf\u001b[0m\u001b[0;34m(\u001b[0m\u001b[0;34m*\u001b[0m\u001b[0ma\u001b[0m\u001b[0;34m,\u001b[0m \u001b[0;34m**\u001b[0m\u001b[0mk\u001b[0m\u001b[0;34m)\u001b[0m\u001b[0;34m\u001b[0m\u001b[0m\n\u001b[0m\u001b[1;32m    189\u001b[0m \u001b[0;34m\u001b[0m\u001b[0m\n\u001b[1;32m    190\u001b[0m         \u001b[0;32mif\u001b[0m \u001b[0mcallable\u001b[0m\u001b[0;34m(\u001b[0m\u001b[0marg\u001b[0m\u001b[0;34m)\u001b[0m\u001b[0;34m:\u001b[0m\u001b[0;34m\u001b[0m\u001b[0m\n",
      "\u001b[0;32m/opt/conda/envs/python2/lib/python2.7/site-packages/IPython/core/magics/execution.pyc\u001b[0m in \u001b[0;36mtime\u001b[0;34m(self, line, cell, local_ns)\u001b[0m\n\u001b[1;32m   1191\u001b[0m         \u001b[0;32melse\u001b[0m\u001b[0;34m:\u001b[0m\u001b[0;34m\u001b[0m\u001b[0m\n\u001b[1;32m   1192\u001b[0m             \u001b[0mst\u001b[0m \u001b[0;34m=\u001b[0m \u001b[0mclock2\u001b[0m\u001b[0;34m(\u001b[0m\u001b[0;34m)\u001b[0m\u001b[0;34m\u001b[0m\u001b[0m\n\u001b[0;32m-> 1193\u001b[0;31m             \u001b[0;32mexec\u001b[0m\u001b[0;34m(\u001b[0m\u001b[0mcode\u001b[0m\u001b[0;34m,\u001b[0m \u001b[0mglob\u001b[0m\u001b[0;34m,\u001b[0m \u001b[0mlocal_ns\u001b[0m\u001b[0;34m)\u001b[0m\u001b[0;34m\u001b[0m\u001b[0m\n\u001b[0m\u001b[1;32m   1194\u001b[0m             \u001b[0mend\u001b[0m \u001b[0;34m=\u001b[0m \u001b[0mclock2\u001b[0m\u001b[0;34m(\u001b[0m\u001b[0;34m)\u001b[0m\u001b[0;34m\u001b[0m\u001b[0m\n\u001b[1;32m   1195\u001b[0m             \u001b[0mout\u001b[0m \u001b[0;34m=\u001b[0m \u001b[0mNone\u001b[0m\u001b[0;34m\u001b[0m\u001b[0m\n",
      "\u001b[0;32m<timed exec>\u001b[0m in \u001b[0;36m<module>\u001b[0;34m()\u001b[0m\n",
      "\u001b[0;31mTypeError\u001b[0m: tuple indices must be integers, not str"
     ]
    }
   ],
   "source": [
    "%%time\n",
    "ltm = ogh.gridclim_dict(mappingfile=mappingfile,\n",
    "                        metadata=meta_file,\n",
    "                        dataset='dailymet_livneh2015',\n",
    "                        file_time_step=dr['temporal_resolution'],\n",
    "                        file_start_date=dr['start_date'],\n",
    "                        file_end_date=dr['end_date'],\n",
    "                        subset_start_date=dr[0],\n",
    "                        subset_end_date=dr[1])"
   ]
  },
  {
   "cell_type": "code",
   "execution_count": 48,
   "metadata": {},
   "outputs": [],
   "source": [
    "#These files are processed from \n",
    "#https://www.hydroshare.org/resource/70b977e22af544f8a7e5a803935c329c/data/contents/NewMexico_Observatory_GridMet_RioSaladoInput.ipynb\n",
    "\n",
    "ltm_low=ogh.readDictOfDf('RioSalado_lowElevation.json')\n",
    "ltm_mid=ogh.readDictOfDf('RioSalado_midElevation.json')\n",
    "ltm_high=ogh.readDictOfDf('RioSalado_highElevation.json')"
   ]
  },
  {
   "cell_type": "code",
   "execution_count": 49,
   "metadata": {},
   "outputs": [
    {
     "data": {
      "text/plain": [
       "['analysis_elev_max',\n",
       " u'meanmonth_midelev_WINDSPD_dailymet_livneh2015',\n",
       " u'TMAX_dailymet_livneh2015',\n",
       " 'analysis_elev_max_cutoff',\n",
       " u'meanmonth_minelev_TMIN_dailymet_livneh2015',\n",
       " u'meanmonth_PRECIP_dailymet_livneh2015',\n",
       " u'anom_year_WINDSPD_dailymet_livneh2015',\n",
       " u'anom_year_PRECIP_dailymet_livneh2015',\n",
       " u'meanallyear_TMAX_dailymet_livneh2015',\n",
       " u'meanmonth_minelev_TMAX_dailymet_livneh2015',\n",
       " u'meanmonth_TMAX_dailymet_livneh2015',\n",
       " u'meanmonth_maxelev_PRECIP_dailymet_livneh2015',\n",
       " 'analysis_elev_min',\n",
       " u'meanallyear_TMIN_dailymet_livneh2015',\n",
       " u'meanmonth_midelev_TMAX_dailymet_livneh2015',\n",
       " u'year_TMAX_dailymet_livneh2015',\n",
       " u'month_TMIN_dailymet_livneh2015',\n",
       " u'meanyear_TMIN_dailymet_livneh2015',\n",
       " u'meanmonth_TMIN_dailymet_livneh2015',\n",
       " u'month_WINDSPD_dailymet_livneh2015',\n",
       " u'TMIN_dailymet_livneh2015',\n",
       " u'year_TMIN_dailymet_livneh2015',\n",
       " u'meanmonth_minelev_PRECIP_dailymet_livneh2015',\n",
       " u'PRECIP_dailymet_livneh2015',\n",
       " u'anom_year_TMAX_dailymet_livneh2015',\n",
       " u'meanyear_PRECIP_dailymet_livneh2015',\n",
       " u'meanyear_WINDSPD_dailymet_livneh2015',\n",
       " u'anom_year_TMIN_dailymet_livneh2015',\n",
       " u'meanmonth_maxelev_TMAX_dailymet_livneh2015',\n",
       " u'month_TMAX_dailymet_livneh2015',\n",
       " u'meanmonth_minelev_WINDSPD_dailymet_livneh2015',\n",
       " u'meanallyear_WINDSPD_dailymet_livneh2015',\n",
       " 'analysis_elev_min_cutoff',\n",
       " u'meanmonth_maxelev_TMIN_dailymet_livneh2015',\n",
       " u'meanmonth_WINDSPD_dailymet_livneh2015',\n",
       " u'meanallyear_PRECIP_dailymet_livneh2015',\n",
       " u'WINDSPD_dailymet_livneh2015',\n",
       " u'month_PRECIP_dailymet_livneh2015',\n",
       " u'meanmonth_maxelev_WINDSPD_dailymet_livneh2015',\n",
       " u'meanmonth_midelev_PRECIP_dailymet_livneh2015',\n",
       " u'meanyear_TMAX_dailymet_livneh2015',\n",
       " u'year_PRECIP_dailymet_livneh2015',\n",
       " u'year_WINDSPD_dailymet_livneh2015',\n",
       " u'meanmonth_midelev_TMIN_dailymet_livneh2015']"
      ]
     },
     "execution_count": 49,
     "metadata": {},
     "output_type": "execute_result"
    }
   ],
   "source": [
    "ltm_low.keys()\n"
   ]
  },
  {
   "cell_type": "code",
   "execution_count": 50,
   "metadata": {},
   "outputs": [
    {
     "data": {
      "text/plain": [
       "pandas.core.frame.DataFrame"
      ]
     },
     "execution_count": 50,
     "metadata": {},
     "output_type": "execute_result"
    }
   ],
   "source": [
    "type(ltm_low['PRECIP_dailymet_livneh2015'])"
   ]
  },
  {
   "cell_type": "code",
   "execution_count": 51,
   "metadata": {},
   "outputs": [],
   "source": [
    "P_met_low = ltm_low['PRECIP_dailymet_livneh2015'] # Precipitation in mm\n",
    "P_met_low = np.mean(P_met_low, axis=1) # Time series of a spatial mean\n",
    "Tmax_met_low = np.mean(ltm_low['TMAX_dailymet_livneh2015'], axis=1) # Tmax in C\n",
    "Tmin_met_low = np.mean(ltm_low['TMIN_dailymet_livneh2015'], axis=1) # Tmin in C\n",
    "Wind_met_low = np.mean(ltm_low['WINDSPD_dailymet_livneh2015'], axis=1) # Wind speed in m/s"
   ]
  },
  {
   "cell_type": "code",
   "execution_count": 78,
   "metadata": {},
   "outputs": [
    {
     "data": {
      "text/plain": [
       "[<matplotlib.lines.Line2D at 0x7fbdf73ecdd0>]"
      ]
     },
     "execution_count": 78,
     "metadata": {},
     "output_type": "execute_result"
    },
    {
     "data": {
      "image/png": "[encoded data removed]",
      "text/plain": [
       "<Figure size 1080x360 with 3 Axes>"
      ]
     },
     "metadata": {},
     "output_type": "display_data"
    }
   ],
   "source": [
    "P_fig = plt.figure(figsize=(15, 5) )\n",
    "ax1 = P_fig.add_subplot(131)\n",
    "plt.plot(P_met_low, 'r-', label = 'outlet')\n",
    "ax1 = P_fig.add_subplot(132)\n",
    "plt.plot(P_met_mid, 'g-', label = 'outlet')\n",
    "ax1 = P_fig.add_subplot(133)\n",
    "plt.plot(P_met_mid, 'y-', label = 'outlet')\n"
   ]
  },
  {
   "cell_type": "code",
   "execution_count": null,
   "metadata": {},
   "outputs": [],
   "source": [
    "\n",
    "plt.plot(hydrograph_time, discharge_midstream, 'g-', label = 'midstream')\n",
    "plt.plot(hydrograph_time, discharge_upstream, 'b-', label = 'upstream')\n",
    "plt.ylabel('Discharge (cms)')\n",
    "plt.xlabel('Time (hours)')\n",
    "plt.legend(loc = 'upper left')\n",
    "title_text = 'Model=' + str(basin_flag) + '+'+ str(storm_flag) + '+ ' + routing_method \n",
    "plt.title(title_text)\n",
    "plt.savefig(basin_flag + '_' + storm_flag + '_' + routing_method + '_hydrograph.png')"
   ]
  },
  {
   "cell_type": "code",
   "execution_count": 52,
   "metadata": {},
   "outputs": [],
   "source": [
    "P_met_mid = np.mean(ltm_mid['PRECIP_dailymet_livneh2015'], axis=1) # Precipitation in mm\n",
    "Tmax_met_mid = np.mean(ltm_mid['TMAX_dailymet_livneh2015'], axis=1) # Tmax in C\n",
    "Tmin_met_mid = np.mean(ltm_mid['TMIN_dailymet_livneh2015'], axis=1) # Tmin in C\n",
    "Wind_met_mid = np.mean(ltm_mid['WINDSPD_dailymet_livneh2015'], axis=1) # Wind speed in m/s"
   ]
  },
  {
   "cell_type": "code",
   "execution_count": 53,
   "metadata": {},
   "outputs": [],
   "source": [
    "P_met_high = np.mean(ltm_high['PRECIP_dailymet_livneh2015'], axis=1) # Precipitation in mm\n",
    "Tmax_met_high = np.mean(ltm_high['TMAX_dailymet_livneh2015'], axis=1) # Tmax in C\n",
    "Tmin_met_high = np.mean(ltm_high['TMIN_dailymet_livneh2015'], axis=1) # Tmin in C\n",
    "Wind_met_high = np.mean(ltm_high['WINDSPD_dailymet_livneh2015'], axis=1) # Wind speed in m/s"
   ]
  },
  {
   "cell_type": "markdown",
   "metadata": {},
   "source": [
    "Note: 'Ecohyd_functions_flat.py' is a utility script that contains 'functions', which instantiates components and manages inputs and outputs, and help keep this driver concise. Contents of 'Ecohyd_functions_flat.py' can be a part of this driver (current file), however left out to keep driver concise."
   ]
  },
  {
   "cell_type": "markdown",
   "metadata": {},
   "source": [
    "To minimize computation time, we will use two grids in this driver. One grid will represent a flat landscape or domain (i.e., landscape with same elevation), on which the cellular automata plant competition will be simulated at an yearly time step. Another grid, with enough cells to house one cell for each of the plant functional types (PFTs), will be used to simulate soil moisture decay and local vegetation dynamics, in between successive storms (i.e. time step = one storm). Cumulative water stress (stress experienced by plants due to lack of enough soil moisture) will be calculated over an year and mapped to the other grid.\n",
    "\n",
    "- grid: This grid represents the actual landscape. Each cell can be occupied by a single PFT such as tree, shrub, grass, or can be empty (bare). Initial PFT distribution is randomnly generated from inputs of percentage of cells occupied by each PFT.\n",
    "\n",
    "- grid1: This grid allows us to calculate PFT specific cumulative water stress (cumulated over each storm in the year) and mapped with 'grid'.\n",
    "\n",
    "Note: In this tutorial, the physical ecohydrological components and cellular automata plant competition will be run on grids with different resolution. To use grids with same resolution, see the tutorial 'cellular_automaton_vegetation_DEM.ipynb'."
   ]
  },
  {
   "cell_type": "code",
   "execution_count": 54,
   "metadata": {},
   "outputs": [],
   "source": [
    "grid_low = rmg((100, 100), spacing=(5., 5.))"
   ]
  },
  {
   "cell_type": "markdown",
   "metadata": {},
   "source": [
    "Include the input file that contains all input parameters needed for all components. This file can either be a python dictionary or a text file that can be converted into a python dictionary. If a text file is provided, it will be converted to a Python dictionary. Here we use an existing text file prepared for this exercise."
   ]
  },
  {
   "cell_type": "code",
   "execution_count": 55,
   "metadata": {},
   "outputs": [],
   "source": [
    "InputFile_low = 'Inputs_Vegetation_CA_flat.txt'"
   ]
  },
  {
   "cell_type": "markdown",
   "metadata": {},
   "source": [
    "Lets look at the initial organization of PFTs"
   ]
  },
  {
   "cell_type": "code",
   "execution_count": 56,
   "metadata": {},
   "outputs": [],
   "source": [
    "grid_low.at_cell['vegetation__plant_functional_type'] = np.random.randint(0, 6, size=grid_low.number_of_cells)"
   ]
  },
  {
   "cell_type": "code",
   "execution_count": 57,
   "metadata": {},
   "outputs": [
    {
     "data": {
      "image/png": "[encoded data removed]",
      "text/plain": [
       "<Figure size 432x288 with 1 Axes>"
      ]
     },
     "metadata": {},
     "output_type": "display_data"
    }
   ],
   "source": [
    "# Plot initial vegetation PFT state\n",
    "from landlab.plot import imshow_grid\n",
    "import matplotlib as mpl\n",
    "cmap = mpl.colors.ListedColormap(\n",
    "            ['green', 'red', 'black', 'white', 'red', 'black'])\n",
    "bounds = [-0.5, 0.5, 1.5, 2.5, 3.5, 4.5, 5.5]\n",
    "norm = mpl.colors.BoundaryNorm(bounds, cmap.N)\n",
    "description = 'green: grass; red: shrub; black: tree; white: bare'\n",
    "plt.figure(101)\n",
    "imshow_grid(grid_low, 'vegetation__plant_functional_type', values_at='cell', cmap=cmap,\n",
    "            grid_units=('m', 'm'), norm=norm, limits=[0, 5],\n",
    "            allow_colorbar=False)\n",
    "caption = plt.figtext(0.2, 0.0, description, weight='bold', fontsize=10)"
   ]
  },
  {
   "cell_type": "markdown",
   "metadata": {},
   "source": [
    "Specify an approximate number of years for the model to run. For this example, we will run the simulation for 600 years. It might take less than 2+ minutes to run."
   ]
  },
  {
   "cell_type": "code",
   "execution_count": 58,
   "metadata": {},
   "outputs": [],
   "source": [
    "# Determine the length of simulations = length of input climate data\n",
    "n = P_met_low.shape[0]"
   ]
  },
  {
   "cell_type": "code",
   "execution_count": 59,
   "metadata": {},
   "outputs": [
    {
     "data": {
      "text/plain": [
       "23376"
      ]
     },
     "execution_count": 59,
     "metadata": {},
     "output_type": "execute_result"
    }
   ],
   "source": [
    "# Print n\n",
    "n"
   ]
  },
  {
   "cell_type": "code",
   "execution_count": 63,
   "metadata": {},
   "outputs": [],
   "source": [
    "input_data_low = {'precip_met': P_met_low.values,\n",
    "                  'Tmax_met': Tmax_met_low.values,\n",
    "                  'Tmin_met': Tmin_met_low.values}\n",
    "input_data_mid = {'precip_met': P_met_mid.values,\n",
    "                  'Tmax_met': Tmax_met_mid.values,\n",
    "                  'Tmin_met': Tmin_met_mid.values}\n",
    "input_data_high = {'precip_met': P_met_high.values,\n",
    "                  'Tmax_met': Tmax_met_high.values,\n",
    "                  'Tmin_met': Tmin_met_high.values}"
   ]
  },
  {
   "cell_type": "code",
   "execution_count": 66,
   "metadata": {},
   "outputs": [
    {
     "name": "stdout",
     "output_type": "stream",
     "text": [
      "Elapsed time =  0  years\n",
      "Elapsed time =  0  years\n",
      "Elapsed time =  0  years\n"
     ]
    }
   ],
   "source": [
    "(VegType_low, yrs_low) = run_ecohydrology_model(\n",
    "                                        grid_low, input_data=input_data_low,\n",
    "                                        input_file=InputFile_low,\n",
    "                                        synthetic_storms=False,\n",
    "                                        number_of_storms=n,\n",
    "                                        pet_method='PriestleyTaylor')\n",
    "(VegType_mid, yrs_mid) = run_ecohydrology_model(\n",
    "                                        grid_low, input_data=input_data_mid,\n",
    "                                        input_file=InputFile_low,\n",
    "                                        synthetic_storms=False,\n",
    "                                        number_of_storms=n,\n",
    "                                        pet_method='PriestleyTaylor')\n",
    "(VegType_high, yrs_high) = run_ecohydrology_model(\n",
    "                                        grid_low, input_data=input_data_high,\n",
    "                                        input_file=InputFile_low,\n",
    "                                        synthetic_storms=False,\n",
    "                                        number_of_storms=n,\n",
    "                                        pet_method='PriestleyTaylor')"
   ]
  },
  {
   "cell_type": "code",
   "execution_count": 67,
   "metadata": {},
   "outputs": [
    {
     "name": "stdout",
     "output_type": "stream",
     "text": [
      "Plotting cellular field of Plant Functional Type\n",
      "Green - Grass; Red - Shrubs; Black - Trees; White - Bare\n",
      "Plotting cellular field of Plant Functional Type\n",
      "Green - Grass; Red - Shrubs; Black - Trees; White - Bare\n",
      "Plotting cellular field of Plant Functional Type\n",
      "Green - Grass; Red - Shrubs; Black - Trees; White - Bare\n"
     ]
    },
    {
     "data": {
      "image/png": "[encoded data removed]",
      "text/plain": [
       "<Figure size 432x288 with 1 Axes>"
      ]
     },
     "metadata": {},
     "output_type": "display_data"
    },
    {
     "data": {
      "image/png": "[encoded data removed]",
      "text/plain": [
       "<Figure size 432x288 with 1 Axes>"
      ]
     },
     "metadata": {},
     "output_type": "display_data"
    },
    {
     "data": {
      "image/png": "[encoded data removed]",
      "text/plain": [
       "<Figure size 432x288 with 1 Axes>"
      ]
     },
     "metadata": {},
     "output_type": "display_data"
    }
   ],
   "source": [
    "plot_results(grid_low, VegType_low, yrs_low, yr_step=yrs_low-1)\n",
    "plot_results(grid_low, VegType_mid, yrs_mid, yr_step=yrs_mid-1)\n",
    "plot_results(grid_low, VegType_high, yrs_high, yr_step=yrs_high-1)"
   ]
  },
  {
   "cell_type": "markdown",
   "metadata": {},
   "source": [
    "Let's look at outputs.\n",
    "\n",
    "Plots of the cellular field of PFT at specified year step can be found below where:\n",
    "\n",
    "GRASS = green;  SHRUB = red;  TREE = black;  BARE = white;  \n",
    "\n",
    "At the end, percentage cover of each PFT is plotted with respect to time."
   ]
  },
  {
   "cell_type": "code",
   "execution_count": null,
   "metadata": {},
   "outputs": [],
   "source": []
  },
  {
   "cell_type": "markdown",
   "metadata": {},
   "source": [
    "If you want to explore this model further, open 'Inputs_Vegetation_CA.txt' and change the input parameters (e.g., initial PFT distribution percentages, storm characteristics, etc..)."
   ]
  },
  {
   "cell_type": "markdown",
   "metadata": {
    "collapsed": true
   },
   "source": [
    "### Click here for more <a href=\"https://github.com/landlab/landlab/wiki/Tutorials\">Landlab tutorials</a>"
   ]
  },
  {
   "cell_type": "code",
   "execution_count": null,
   "metadata": {},
   "outputs": [],
   "source": []
  }
 ],
 "metadata": {
  "kernelspec": {
   "display_name": "Python 2.7",
   "language": "python",
   "name": "python2"
  },
  "language_info": {
   "codemirror_mode": {
    "name": "ipython",
    "version": 2
   },
   "file_extension": ".py",
   "mimetype": "text/x-python",
   "name": "python",
   "nbconvert_exporter": "python",
   "pygments_lexer": "ipython2",
   "version": "2.7.14"
  }
 },
 "nbformat": 4,
 "nbformat_minor": 1
}
