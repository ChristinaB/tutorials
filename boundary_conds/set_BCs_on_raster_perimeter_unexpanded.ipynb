{
 "cells": [
  {
   "cell_type": "markdown",
   "metadata": {},
   "source": [
    "<img style=\"float: left; height: 175px; width: 175px\" src=\"../landlab_logo_picture.jpg\"> <h3 style=\"margin: 117px 0 0 185px; font-weight: 300;\">a toolkit for modeling earth surface processes</h3>"
   ]
  },
  {
   "cell_type": "markdown",
   "metadata": {},
   "source": [
    "# Setting Boundary Conditions on the Perimeter of a Raster.\n",
    "\n",
    "<hr>\n",
    "<small> For instructions on how to run an interactive iPython notebook, click here: <a href=\"https://github.com/landlab/tutorials/blob/master/README.md\">https://github.com/landlab/tutorials/blob/master/README.md</a></small><br>\n",
    "<small>For the unexpanded version to download and run, click here: <a href=\"https://nbviewer.jupyter.org/github/landlab/tutorials/blob/master/boundary_conds/set_BCs_from_xy_unexpanded.ipynb\">https://nbviewer.jupyter.org/github/landlab/tutorials/blob/master/boundary_conds/set_BCs_on_raster_perimeter_unexpanded.ipynb</a></small><br>\n",
    "<small>For more Landlab tutorials, click here: <a href=\"https://github.com/landlab/landlab/wiki/Tutorials\">https://github.com/landlab/landlab/wiki/Tutorials</a></small>\n",
    "<hr>\n",
    "\n",
    "### This tutorial illustrates how to modify the boundary conditions along the perimeter of a rectangular raster."
   ]
  },
  {
   "cell_type": "code",
   "execution_count": null,
   "metadata": {
    "collapsed": false
   },
   "outputs": [],
   "source": [
    "from landlab import RasterModelGrid, CLOSED_BOUNDARY, FIXED_GRADIENT_BOUNDARY\n",
    "from landlab.plot.imshow import imshow_grid\n",
    "import numpy as np\n",
    "%matplotlib inline"
   ]
  },
  {
   "cell_type": "markdown",
   "metadata": {},
   "source": [
    "- Instantiate a grid."
   ]
  },
  {
   "cell_type": "code",
   "execution_count": null,
   "metadata": {
    "collapsed": false
   },
   "outputs": [],
   "source": [
    "mg = RasterModelGrid((4, 4), 1.)"
   ]
  },
  {
   "cell_type": "markdown",
   "metadata": {},
   "source": [
    "The node boundary condition options are:\n",
    "\n",
    "- CORE_NODE (status value = 0; all operations are performed on a CORE_NODE)\n",
    "- FIXED_VALUE_BOUNDARY (status value = 1; a boundary node with a fixed value)\n",
    "- FIXED_GRADIENT_BOUNDARY (status value = 2; a boundary node with a fixed gradient)\n",
    "- TRACKS_CELL_BOUNDARY (status value = 3; a boundary node that is wrap-around)\n",
    "- CLOSED_BOUNDARY (status value = 4; closed boundary, or no flux can cross this node, or more accurately, can cross the faces around the node)\n",
    "\n",
    "Check the status of boundaries immediately after instantiating the grid:"
   ]
  },
  {
   "cell_type": "code",
   "execution_count": null,
   "metadata": {
    "collapsed": false
   },
   "outputs": [],
   "source": [
    "mg.status_at_node"
   ]
  },
  {
   "cell_type": "markdown",
   "metadata": {},
   "source": [
    "The default conditions are for the perimeter to be fixed value (status of 1) and the interior nodes to be core (status of 0).\n",
    "\n",
    "This is a bit easier to see graphically."
   ]
  },
  {
   "cell_type": "code",
   "execution_count": null,
   "metadata": {
    "collapsed": false
   },
   "outputs": [],
   "source": [
    "imshow_grid(mg, mg.status_at_node)"
   ]
  },
  {
   "cell_type": "markdown",
   "metadata": {},
   "source": [
    "Now let's choose on node on the perimeter to be closed.  \n",
    "\n",
    "Note that imshow_grid does not illustrate values for closed nodes, so we override that below and show them in blue."
   ]
  },
  {
   "cell_type": "code",
   "execution_count": null,
   "metadata": {
    "collapsed": false
   },
   "outputs": [],
   "source": [
    "mg.status_at_node[2] = CLOSED_BOUNDARY\n",
    "mg.status_at_node\n",
    "imshow_grid(mg, mg.status_at_node, color_for_closed='blue')"
   ]
  },
  {
   "cell_type": "markdown",
   "metadata": {},
   "source": [
    "We could set the boundary condition at each node individually, or at groups of nodes (e.g. where the node_x value is greater than some value). But in many cases we just want to set the edges in one way or another. There are some functions for setting the boundary conditions around the perimeter of a raster.  (Remember that initially all of the perimeter nodes are fixed value.)\n",
    "\n",
    "** Let's set the right and left edges as closed boundaries using set_closed_boundaries_at_grid_edges **\n",
    "\n",
    "Note that this method takes boolean values for whether a boundary should be closed.  The order is \n",
    "** right, top, left, bottom **\n",
    "\n",
    "Note that we instantiate a new grid, because we have already changed the boundary conditions on mg."
   ]
  },
  {
   "cell_type": "code",
   "execution_count": null,
   "metadata": {
    "collapsed": false
   },
   "outputs": [],
   "source": [
    "mg1 = RasterModelGrid((4, 4), 1.)\n",
    "mg1.set_closed_boundaries_at_grid_edges(True, False, True, False)\n",
    "imshow_grid(mg1, mg1.status_at_node, color_for_closed='blue')"
   ]
  },
  {
   "cell_type": "markdown",
   "metadata": {
    "collapsed": false
   },
   "source": [
    "** Now let's try setting looped boundaries using set_looped_bondaries. **\n",
    "\n",
    "Note that this method takes boolean values for whether the top and bottom (first) or right and left (second) are looped.\n",
    "\n",
    "We will set the top and bottom to be looped (status value of 3)"
   ]
  },
  {
   "cell_type": "code",
   "execution_count": null,
   "metadata": {
    "collapsed": false
   },
   "outputs": [],
   "source": [
    "mg2 = RasterModelGrid((4, 4), 1.)\n",
    "mg2.set_looped_boundaries(True, False)\n",
    "imshow_grid(mg2, mg2.status_at_node)"
   ]
  },
  {
   "cell_type": "markdown",
   "metadata": {},
   "source": [
    "Note that this has the right and left edges as fixed_value (status value of 1).  \n",
    "\n",
    "We can change those to closed if we want."
   ]
  },
  {
   "cell_type": "code",
   "execution_count": null,
   "metadata": {
    "collapsed": false
   },
   "outputs": [],
   "source": [
    "mg2.set_closed_boundaries_at_grid_edges(True, False, True, False)\n",
    "imshow_grid(mg2, mg2.status_at_node, color_for_closed='Blue')"
   ]
  },
  {
   "cell_type": "markdown",
   "metadata": {},
   "source": [
    "Note that there are not methods for setting fixed_gradient conditions on the boundary edges.  But we can do that.\n",
    "\n",
    "Remember that fixed_gradient has a status value of 2.\n",
    "We will set the top and bottom to be fixed gradient."
   ]
  },
  {
   "cell_type": "code",
   "execution_count": null,
   "metadata": {
    "collapsed": false
   },
   "outputs": [],
   "source": [
    "mg3 = RasterModelGrid((4, 4), 1.)\n",
    "mg3.status_at_node[np.where(mg3.node_y == 0)] = FIXED_GRADIENT_BOUNDARY\n",
    "mg3.status_at_node[np.where(mg3.node_y == 3)] = FIXED_GRADIENT_BOUNDARY\n",
    "imshow_grid(mg3, mg3.status_at_node, color_for_closed='Blue')\n",
    "#there are no closed boundaries so we didn't need the color_for_closed option, \n",
    "#but no problem if you accidentally include it!"
   ]
  },
  {
   "cell_type": "markdown",
   "metadata": {},
   "source": [
    "### Click here for more <a href=\"https://github.com/landlab/landlab/wiki/Tutorials\">Landlab tutorials</a>"
   ]
  }
 ],
 "metadata": {
  "kernelspec": {
   "display_name": "Python 3",
   "language": "python",
   "name": "python3"
  },
  "language_info": {
   "codemirror_mode": {
    "name": "ipython",
    "version": 3
   },
   "file_extension": ".py",
   "mimetype": "text/x-python",
   "name": "python",
   "nbconvert_exporter": "python",
   "pygments_lexer": "ipython3",
   "version": "3.5.1"
  }
 },
 "nbformat": 4,
 "nbformat_minor": 0
}
