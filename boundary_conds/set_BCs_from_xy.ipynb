{
 "cells": [
  {
   "cell_type": "markdown",
   "metadata": {},
   "source": [
    "<img style=\"float: left; height: 175px; width: 175px\" src=\"../landlab_logo_picture.jpg\"> <h3 style=\"margin: 117px 0 0 185px; font-weight: 300;\">a toolkit for modeling earth surface processes</h3>"
   ]
  },
  {
   "cell_type": "markdown",
   "metadata": {},
   "source": [
    "# Setting Boundary Conditions: interior rectangle\n",
    "\n",
    "<hr>\n",
    "<small> For instructions on how to run an interactive iPython notebook, click here: <a href=\"https://github.com/landlab/tutorials/blob/master/README.md\">https://github.com/landlab/tutorials/blob/master/README.md</a></small><br>\n",
    "<small>For the unexpanded version to download and run, click here: <a href=\"http://nbviewer.ipython.org/github/landlab/tutorials/blob/master/boundary_conds/set_BCs_from_xy_unexpanded.ipynb">http://nbviewer.ipython.org/github/landlab/tutorials/blob/master/boundary_conds/set_BCs_from_xy_unexpanded.ipynb</a></small><br>\n",
    "<small>For more Landlab tutorials, click here: <a href=\"https://github.com/landlab/landlab/wiki/Tutorials\">https://github.com/landlab/landlab/wiki/Tutorials</a></small>\n",
    "<hr>\n",
    "\n",
    "This tutorial illustrates how to modify the boundary conditions of an interior rectangle in the grid if you know the x and y coordinates of the rectangle."
   ]
  },
  {
   "cell_type": "code",
   "execution_count": 1,
   "metadata": {
    "collapsed": true
   },
   "outputs": [],
   "source": [
    "from landlab import RasterModelGrid, CLOSED_BOUNDARY\n",
    "import numpy as np\n",
    "from landlab.plot.imshow import imshow_node_grid\n",
    "from matplotlib.pyplot import show\n",
    "%matplotlib inline"
   ]
  },
  {
   "cell_type": "code",
   "execution_count": 2,
   "metadata": {
    "collapsed": true
   },
   "outputs": [],
   "source": [
    "mg = RasterModelGrid(10,10,1.)"
   ]
  },
  {
   "cell_type": "markdown",
   "metadata": {},
   "source": [
    "Known coordinates of rectangle:"
   ]
  },
  {
   "cell_type": "code",
   "execution_count": 3,
   "metadata": {
    "collapsed": true
   },
   "outputs": [],
   "source": [
    "min_x = 2.5\n",
    "max_x = 5.\n",
    "min_y = 3.5\n",
    "max_y = 7.5"
   ]
  },
  {
   "cell_type": "markdown",
   "metadata": {},
   "source": [
    "Define the area inside x and y coordinates:"
   ]
  },
  {
   "cell_type": "code",
   "execution_count": 4,
   "metadata": {
    "collapsed": false
   },
   "outputs": [],
   "source": [
    "x_condition = np.logical_and(mg.node_x < max_x, mg.node_x > min_x)\n",
    "y_condition = np.logical_and(mg.node_y < max_y, mg.node_y > min_y)\n",
    "my_nodes = np.logical_and(x_condition, y_condition)"
   ]
  },
  {
   "cell_type": "markdown",
   "metadata": {},
   "source": [
    "Define boundaries as CLOSED:"
   ]
  },
  {
   "cell_type": "code",
   "execution_count": 5,
   "metadata": {
    "collapsed": false
   },
   "outputs": [],
   "source": [
    "mg.status_at_node[my_nodes] = CLOSED_BOUNDARY"
   ]
  },
  {
   "cell_type": "markdown",
   "metadata": {},
   "source": [
    "Make a new elevation field for display:"
   ]
  },
  {
   "cell_type": "code",
   "execution_count": 6,
   "metadata": {
    "collapsed": true
   },
   "outputs": [],
   "source": [
    "z = mg.add_zeros('node', 'topographic__elevation')"
   ]
  },
  {
   "cell_type": "code",
   "execution_count": 7,
   "metadata": {
    "collapsed": false
   },
   "outputs": [
    {
     "data": {
      "image/png": "iVBORw0KGgoAAAANSUhEUgAAAUIAAAEPCAYAAAA3a80uAAAABHNCSVQICAgIfAhkiAAAAAlwSFlz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\n",
      "text/plain": [
       "<matplotlib.figure.Figure at 0x10aa7ac10>"
      ]
     },
     "metadata": {},
     "output_type": "display_data"
    }
   ],
   "source": [
    "imshow_node_grid(mg, z)"
   ]
  }
 ],
 "metadata": {
  "kernelspec": {
   "display_name": "Python 2",
   "language": "python",
   "name": "python2"
  },
  "language_info": {
   "codemirror_mode": {
    "name": "ipython",
    "version": 2
   },
   "file_extension": ".py",
   "mimetype": "text/x-python",
   "name": "python",
   "nbconvert_exporter": "python",
   "pygments_lexer": "ipython2",
   "version": "2.7.11"
  }
 },
 "nbformat": 4,
 "nbformat_minor": 0
}
