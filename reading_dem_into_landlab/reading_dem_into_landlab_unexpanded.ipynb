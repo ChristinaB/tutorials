{
 "cells": [
  {
   "cell_type": "markdown",
   "metadata": {},
   "source": [
    "<img style=\"float: left; height: 175px; width: 175px\" src=\"../landlab_logo_picture.jpg\"> <h3 style=\"margin: 117px 0 0 185px; font-weight: 300;\">a toolkit for modeling earth surface processes</h3>"
   ]
  },
  {
   "cell_type": "markdown",
   "metadata": {},
   "source": [
    "## How to read a DEM as a Landlab grid"
   ]
  },
  {
   "cell_type": "markdown",
   "metadata": {},
   "source": [
    "The starting point is to obtain a Digital Elevation Model (DEM) in ESRI's Ascii Grid format, or convert it to this format. The format consists of a 6-line header followed by elevation values. Here we'll work with a small example DEM file 'west_bijou_gully.asc'. The header for this file is as follows:\n",
    "\n",
    "``ncols        43\n",
    "nrows        89\n",
    "xllcorner    559705.000000000000\n",
    "yllcorner    4380220.000000000000\n",
    "cellsize     3\n",
    "NODATA_value 0``\n",
    "\n",
    "Here, our objective is to translate the contents of this file into a Landlab RasterModelGrid. We'll do this using the ``read_esri_ascii`` function. Here's how it works:\n"
   ]
  },
  {
   "cell_type": "code",
   "execution_count": null,
   "metadata": {
    "collapsed": false
   },
   "outputs": [],
   "source": [
    "from landlab.io import read_esri_ascii"
   ]
  },
  {
   "cell_type": "markdown",
   "metadata": {},
   "source": [
    "In the line above, we go to Landlab's input/output library (\"io\") and import the function. Next, let's look at the basic documentation:"
   ]
  },
  {
   "cell_type": "code",
   "execution_count": null,
   "metadata": {
    "collapsed": false
   },
   "outputs": [],
   "source": [
    "help(read_esri_ascii)"
   ]
  },
  {
   "cell_type": "markdown",
   "metadata": {},
   "source": [
    "Ok, this tells us we need to supply the name of the file. If we want the data as a 2D array, we also specify ``reshape = True``. If we want to attach the elevation data to the grid as a field, we also give a name for the field as the ``name`` parameter. For example:"
   ]
  },
  {
   "cell_type": "code",
   "execution_count": null,
   "metadata": {
    "collapsed": true
   },
   "outputs": [],
   "source": [
    "(mg, z) = read_esri_ascii('west_bijou_gully.asc', name='topographic__elevation')"
   ]
  },
  {
   "cell_type": "markdown",
   "metadata": {},
   "source": [
    "Let's plot the grid:"
   ]
  },
  {
   "cell_type": "code",
   "execution_count": null,
   "metadata": {
    "collapsed": false
   },
   "outputs": [],
   "source": [
    "from landlab.plot.imshow import imshow_grid"
   ]
  },
  {
   "cell_type": "code",
   "execution_count": null,
   "metadata": {
    "collapsed": false
   },
   "outputs": [],
   "source": [
    "%matplotlib inline\n",
    "imshow_grid(mg, 'topographic__elevation')"
   ]
  },
  {
   "cell_type": "markdown",
   "metadata": {},
   "source": [
    "This plot illustrates the shape of the watershed, but we can't see the topography because the nodata values have a value of zero which is skewing the colormap.  We can change the range of the colormap but first we need to figure out what the range of data values are. \n",
    "\n",
    "(Uncomment the commented line if you want to see all the options available in imshow_grid)"
   ]
  },
  {
   "cell_type": "code",
   "execution_count": null,
   "metadata": {
    "collapsed": false
   },
   "outputs": [],
   "source": [
    "import numpy as np\n",
    "min_z = np.min(z[np.where(z>0)])\n",
    "max_z = np.max(z[np.where(z>0)])\n",
    "#help(imshow_grid)\n",
    "imshow_grid(mg, 'topographic__elevation', limits=(min_z,max_z))"
   ]
  },
  {
   "cell_type": "markdown",
   "metadata": {},
   "source": [
    "We can also query a bit of information:"
   ]
  },
  {
   "cell_type": "code",
   "execution_count": null,
   "metadata": {
    "collapsed": false
   },
   "outputs": [],
   "source": [
    "mg.number_of_node_rows"
   ]
  },
  {
   "cell_type": "code",
   "execution_count": null,
   "metadata": {
    "collapsed": false
   },
   "outputs": [],
   "source": [
    "mg.number_of_node_columns"
   ]
  },
  {
   "cell_type": "markdown",
   "metadata": {},
   "source": [
    "## The rest of this tutorial illustrates setting boundary conditions on DEMs and using the halo option for reading in DEMs without nodata values around the edges.\n",
    "\n",
    "Because this is a watershed, we probably want to set watershed boundary conditions.  For more on setting watershed boundary conditions on rasters, see this tutorial: https://nbviewer.jupyter.org/github/landlab/tutorials/blob/master/boundary_conds/set_watershed_BCs_raster.ipynb\n",
    "\n",
    "We also replot the watershed, this time coloring by the node status, which illustrates the boundary condition at each node."
   ]
  },
  {
   "cell_type": "code",
   "execution_count": null,
   "metadata": {
    "collapsed": false
   },
   "outputs": [],
   "source": [
    "mg.set_watershed_boundary_condition(z, 0)\n",
    "imshow_grid(mg, mg.status_at_node, color_for_closed='blue')"
   ]
  },
  {
   "cell_type": "markdown",
   "metadata": {
    "collapsed": true
   },
   "source": [
    "All of the closed boundary nodes are shown in blue.  Without the color_for_closed option they would plot as the minimum value, or black.  A value of 0 node status means that the node is a core node, or operational, and a value of 1 means that the node is a fixed value boundary."
   ]
  },
  {
   "cell_type": "markdown",
   "metadata": {},
   "source": [
    "### Now we illustrate reading in a DEM that is not a watershed, and use of the halo option."
   ]
  },
  {
   "cell_type": "code",
   "execution_count": null,
   "metadata": {
    "collapsed": false
   },
   "outputs": [],
   "source": [
    "(mg1, z1) = read_esri_ascii('synthetic_landscape.asc', name='topographic__elevation')\n",
    "imshow_grid(mg1, z1)"
   ]
  },
  {
   "cell_type": "markdown",
   "metadata": {},
   "source": [
    "This landscape has data values at all of it's points.  (Note that the nodata_value is -9, but all of the values plotted here are >= 0.)\n",
    "\n",
    "If we set an open boundary on the bottom or south side, and the rest of the boundaries as closed, as illustrated below, some of our data values will become closed boundaries, and operations will not be carried out at these nodes.  This is illustrated in the map of boundary status values, which has the three blue sides.\n",
    "\n",
    "Note that the default is that the perimeter will have fixed value node status, or a value of 1."
   ]
  },
  {
   "cell_type": "code",
   "execution_count": null,
   "metadata": {
    "collapsed": false
   },
   "outputs": [],
   "source": [
    "mg1.set_closed_boundaries_at_grid_edges(True, True, True, False)\n",
    "imshow_grid(mg1, mg1.status_at_node, color_for_closed='blue')"
   ]
  },
  {
   "cell_type": "markdown",
   "metadata": {},
   "source": [
    "The implication of this map is that the right, top and left edges are closed now, and therefore these node values will not be operated on. Similarly the bottom row is fixed value, so it also won't be operated on.\n",
    "\n",
    "Supposed we want to include some or all of these values in model operations.  We need to set them as core nodes, but we can't have core nodes on the perimeter of a grid.  In this case we need to add a halo around the grid.  The halo option adds a perimater of nodes around the data that are read in from the esri_ascii file.  This is helpful when there are data values at the edges of a grid.  By default, the halo perimeter nodes will have the nodata value."
   ]
  },
  {
   "cell_type": "code",
   "execution_count": null,
   "metadata": {
    "collapsed": false
   },
   "outputs": [],
   "source": [
    "(mg2, z2) = read_esri_ascii('synthetic_landscape.asc', name='topographic__elevation', halo=1)\n",
    "imshow_grid(mg2, z2)"
   ]
  },
  {
   "cell_type": "markdown",
   "metadata": {},
   "source": [
    "It is helpful to know the no data value and other values in the header.  Sure you could just open the file, but it might be huge.  Here is how to access those values."
   ]
  },
  {
   "cell_type": "code",
   "execution_count": null,
   "metadata": {
    "collapsed": false
   },
   "outputs": [],
   "source": [
    "from landlab.io import read_asc_header\n",
    "fop = open('synthetic_landscape.asc', 'r')\n",
    "hdr = read_asc_header(fop)\n",
    "hdr"
   ]
  },
  {
   "cell_type": "markdown",
   "metadata": {},
   "source": [
    "This illustrates that the nodata value is -9."
   ]
  },
  {
   "cell_type": "markdown",
   "metadata": {},
   "source": [
    "### Now setting the boundary conditions ... \n",
    "\n",
    "In this case, in this case I will set all of the edges as closed.  I will set the bottom of the two channels (points x=15, y=5 and x=35, y=5) as fixed value boundaries.  One could also set all of the data values in the second row from the bottom as fixed value.  Appropriate boundary conditions obviously depend on the environmental conditions that one is modeling.\n",
    "\n",
    "Note there are multiple ways to do this.  I happen to know that the node id of the two channel bottoms are 15 and 19.  So I will set those as fixed value individually.  I will also illustrate another useful boundary condition function, which sets all nodata values to closed. "
   ]
  },
  {
   "cell_type": "code",
   "execution_count": null,
   "metadata": {
    "collapsed": false
   },
   "outputs": [],
   "source": [
    "mg2.set_nodata_nodes_to_closed(z2, -9.)\n",
    "from landlab import FIXED_VALUE_BOUNDARY\n",
    "mg2.status_at_node[15]=FIXED_VALUE_BOUNDARY\n",
    "mg2.status_at_node[19]=FIXED_VALUE_BOUNDARY\n",
    "imshow_grid(mg2, mg2.status_at_node, color_for_closed='blue')"
   ]
  },
  {
   "cell_type": "markdown",
   "metadata": {},
   "source": [
    "There are lots of ways we could have done this.  In a more complicated DEM we would probably want to search for the smallest z values in the second row in order to figure out which should be fixed values.  For more on setting raster boundary conditions see this tutorial: https://nbviewer.jupyter.org/github/landlab/tutorials/blob/master/boundary_conds/set_BCs_on_raster_perimeter.ipynb"
   ]
  },
  {
   "cell_type": "code",
   "execution_count": null,
   "metadata": {
    "collapsed": true
   },
   "outputs": [],
   "source": []
  }
 ],
 "metadata": {
  "kernelspec": {
   "display_name": "Python 2",
   "language": "python",
   "name": "python2"
  },
  "language_info": {
   "codemirror_mode": {
    "name": "ipython",
    "version": 2
   },
   "file_extension": ".py",
   "mimetype": "text/x-python",
   "name": "python",
   "nbconvert_exporter": "python",
   "pygments_lexer": "ipython2",
   "version": "2.7.11"
  }
 },
 "nbformat": 4,
 "nbformat_minor": 0
}
