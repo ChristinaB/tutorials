{
 "cells": [
  {
   "cell_type": "markdown",
   "metadata": {},
   "source": [
    "<a href=\"http://landlab.github.io\"><img style=\"float: left\" src=\"https://raw.githubusercontent.com/landlab/tutorials/master/landlab_header.png\"></a>"
   ]
  },
  {
   "cell_type": "markdown",
   "metadata": {},
   "source": [
    "# Exploring overland flow routing with Landlab\n",
    "\n",
    "To swiftly develop experiments using community resources is an extraordinary emerging opportunity to accelerate the rate of scientific advancement.The ability to test hypotheses about hydrology, geomorphology and atmospheric processes is invaluable to research in the Earth and planetary sciences; using cyber-infrastructure that allows formal publication and sharing of data and model online is an emerging approach in many research communities.  The publication [Infrastructure for Lowering the Barriers to Numerical Modeling in Earth Science](https://www.hydroshare.org/resource/70b977e22af544f8a7e5a803935c329c/) presents how a community approach for distributing research addresses common barriers of entry to numerical modeling in earth sciences using three applications to using models for education, replicating published results, and reusing published models to extend research.  These barriers include: developing education and training materials for classroom use, publishing research that can be replicated by reviewers and readers,  and advancing collaborative research by re-using earth surface models in new locations or in new applications.  This notebook is our **Education** computational narrative using the [Landlab](http://landlab.github.io) Python-based modeling environment that allows scientists and students to build numerical landscape models.\n",
    "\n",
    "\n",
    "<span style=\"color:purple\">**Emerging Practices for modeling**</span>\n",
    "    \n",
    "<span style=\"color:purple\">The use of numerical models for science education should not diminish the instruction time for basic science due to  extensive technological instruction,  software troubleshooting, or debugging  technical glitches in a classroom setting. We hope this Notebook enables classroom experiences that improves understanding of existing theory, and generates curiosity to propose hypotheses and design further modeling, field and laboratory experiments (Bandaragoda et al. 2018; Section 2.0)</span>\n",
    "\n",
    "**Science activities**\n",
    "* Introduce Shallow Water Equation, Test Area, Model Steps, and Curriculum Questions. <br />\n",
    "* Use Landlab to set up a comparative model experiment\n",
    "* Run a Landlab model.<br />\n",
    "* Explore flow sensitivity.\n",
    "* Save results to a new HydroShare resource.  <br />\n",
    "<br />\n",
    "\n",
    "**Acknowledgements**\n",
    "\n",
    "This notebook was developed from code written by Jordan Adams as part of her PhD disseration at Tulane University and Amanda Manaster as a tutorial for a Landlab workshop at the Geophysical Society of America Annual Meeting, Seattle, WA, 2018. Nathan Lyons provided code and technical support on animations.\n",
    "\n"
   ]
  },
  {
   "cell_type": "markdown",
   "metadata": {},
   "source": [
    "## To run this notebook:\n",
    "\n",
    "Click in each shaded code block below and use \"shift + enter\" keys. Alternatively, you can run groups of cells by clicking \"Cell\" on the menu above and selecting among the various run options. This is also where you can clear outputs from previous runs.\n",
    "\n",
    "Every time you run this notebook the model outputs you generated are saved in your personal user space in the virtual computer through Hydroshare. These outputs are available for you to plot and explore the models using the plotting functions at the end of this tutorial. \n",
    "\n",
    "Your final results can be saved to Hydroshare, see section 5.0 below.\n",
    "Unwanted model output can be deleted at anytime from your space. For this run the last code block of this tutorial. \n",
    "\n",
    "If an error occurs, click on *Kernal* and *Restart and Clear Outputs* in the menu above.\n",
    "<hr> <small> For more instructions on how to run an interactive IPython notebook, click here: <a href=\"https://github.com/landlab/tutorials/blob/master/README.md\">https://github.com/landlab/tutorials/blob/master/README.md</a></small><br>\n",
    "<small>For tutorials on learning Landlab, click here: <a href=\"https://github.com/landlab/landlab/wiki/Tutorials\">https://github.com/landlab/landlab/wiki/Tutorials</a></small>\n",
    "\n"
   ]
  },
  {
   "cell_type": "markdown",
   "metadata": {},
   "source": [
    "## 1.0. Introduction\n",
    "\n",
    "### 1.1. Theory\n",
    "\n",
    "The 1-D Saint Venant equation for transient shallow water flow is in the core of most hydrodynamics models:\n",
    "\n",
    "$$ \\frac{\\partial Q}{\\partial t} + \\frac{\\partial}{\\partial x}\\left(\\frac{Q^2}{A_{xs}}\\right) + gA_{xs} \\frac{\\partial (h+z)}{\\partial x} + \\frac{gn^2 \\lvert{Q}\\rvert Q}{R^{4/3}A_{xs}} = 0 \\space\\space\\space\\space\\space\\space\\space\\space\\space\\space\\space\\space\\space\\space\\space\\space\\space\\space\\space\\space(1)$$\n",
    "    \n",
    "\n",
    "\n",
    "where      \n",
    "&nbsp;&nbsp;&nbsp;&nbsp;$Q = discharge \\left[L^3{T^{-1}}\\right]$  \n",
    "&nbsp;&nbsp;&nbsp;&nbsp;$t = time \\left[T\\right]$  \n",
    "&nbsp;&nbsp;&nbsp;&nbsp;$x = location \\space in \\space space \\left[L\\right]$   \n",
    "&nbsp;&nbsp;&nbsp;&nbsp;$g = acceleration \\space due \\space to \\space gravity \\left[L{T^{-2}}\\right]$  \n",
    "&nbsp;&nbsp;&nbsp;&nbsp;$h = water \\space depth \\left[L\\right]$  \n",
    "&nbsp;&nbsp;&nbsp;&nbsp;$z = bed \\space elevation \\left[L\\right]$  \n",
    "&nbsp;&nbsp;&nbsp;&nbsp;$n = Manning's \\space roughness \\space coeffiecient \\left[T{L^{{-1}/{3}}}\\right]$  \n",
    "&nbsp;&nbsp;&nbsp;&nbsp;$R = hydraulic \\space radius \\left[L\\right]$  \n",
    "&nbsp;&nbsp;&nbsp;&nbsp;$A_{xs} = cross-sectional \\space area \\left[L^2\\right]$ \n",
    "\n",
    "From left to right terms in Equation (1) represent local acceleration, convective acceleration, gradients of fluid pressure and bed elevation, and friction. Because this equation is difficult (i.e., almost impossible) to solve explicitly, approximations are commonly used. The simplest approximation, the Kinematic Wave model, only retains the friction term, making it the simplest approximation one can use. In Landlab KinwaveImplicitOverlandFlow component provides a 2-D locally implicit kinematic wave solution in which energy slope is assumed to be equal to the bed slope. \n",
    "\n",
    "The diffusive model developed from Equation (1) neglects the first two terms. The Landlab OverlandFlow component (Adams et al. 2017) adapts a 2D hydrodynamic algorithm similar to the diffusive approximation with negligible advection term (de Almeida et al., 2012) used in LISFLOOD-FP. The flow geometry is assumed to be rectangular and of constant flow width. The approximation used in OverlandFlow is more accurate but also more computationally expensive than the approximation used in KinwaveImplicitOverlandFlow.  \n",
    "\n",
    "<small>Click here for the OverlandFlow Component Users Manual \"https://github.com/landlab/landlab/wiki/OverlandFlow-Component-Users-Manual</a></small><br>\n",
    "\n",
    "\n",
    "KRB note: can you link to both component's Users Manual pages?\n",
    "\n",
    "\n",
    "\n",
    "This tutorial illustrates the use of both the KinwaveImplicitOverlandFlow and the OverlandFlow components to map overland flow depth across two modeling domains and plot flow hydrograph at the outlet and several internal nodes. We will use two domains:\n",
    "\n",
    "* Spring Creek watershed, CO, USA \n",
    "* A synthetic landscape modeled with Landlab   \n",
    "\n",
    "We will investigate the roles of watershed shape and runoff intensity and duration on the characteristics of hydrographs. Runoff is assumed to be generated at a spatially constant rate on the landscape and flows downhill, driving overland flow and a hydrograph at every location on the landscape. "
   ]
  },
  {
   "cell_type": "markdown",
   "metadata": {},
   "source": [
    "** Terms:** runoff intensity, runoff duration, peak discharge, hydrograph time to peak, rising limb, falling limb. "
   ]
  },
  {
   "cell_type": "markdown",
   "metadata": {},
   "source": [
    "### 1.2. Landscapes \n",
    "\n",
    "The natural catchment used in this tutorial is the Spring Creek watershed, a steep 27 $km^2$ watershed located in central Colorado. The DEM we will use has a resolution of 30 meters (Adams et al. 2017). To clearly contrast landscape shape, this notebook uses a modeled \"synthetic\" landscapes produced using a landscape evolution model developed in Landlab by coupling hillslope diffusion transopt and stream-power erosion rules. The landscape evolution model was run on 36 km$^2$ area represented by regular grids of 30 m size. \n",
    "\n",
    "These watershed domains are available at the Landlab Github site and as Hydroshare resource, and will be imported as part of this exercise.\n",
    "\n",
    "<span style=\"color:purple\">**This would be a good place to point out how filesharing might work pre-barriers-lowered.**</span>.\n",
    "\n",
    "\n",
    "### 1.3. Steps to Explore the Model\n",
    "\n",
    "We will be running the two overland flow models for 6 hours with a storm at the beginning that lasts for 2 hours. We will visualize water depths across the watershed over the course of the simulation and plot hydrographs at the outlet and two internal nodes. In repeated model experiments you can investigate the influence of runoff intensity, runoff duration, and surface resistance on streamflow hydrographs. You can organize your results buy running the two models and saving results from each watershed domain before running the models for the other domain.  \n",
    "\n",
    "Start at the top by reading each block of text and sequentially running each code block (put your curser in a code block and type shift + enter OR got to the _Cell_ pulldown menu at the top and choose _Run Cells_). \n",
    "\n",
    "Remember that you can always go to the _Kernel_ pulldown menu at the top and choose _Restart & Clear Output_ or _Restart & Run All_ if you change things and want to start afresh. \n",
    "\n",
    "### 1.4. Questions to consider before running this notebook\n",
    "\n",
    "Hydrograph characterics you will focus are: time to peak, peak discharge, and hydrograph shape. \n",
    "\n",
    "1. How do watershed shape and drainage area affect hydrograph characteristics? \n",
    "2. How does runoff intensity impact the time to peak and peak discharge across the channel network? \n",
    "3. How does runoff duration impact the time to peak and peak discharge across the channel network? \n",
    "4. How does surface roughness due to soil and land cover influence hydrograph peak discharge and shape?"
   ]
  },
  {
   "cell_type": "markdown",
   "metadata": {},
   "source": [
    "## 2.0 Methods\n"
   ]
  },
  {
   "cell_type": "markdown",
   "metadata": {},
   "source": [
    "### 2.1 Import Landlab components, functions for importing data, plotting tools, and HydroShare utilities\n",
    "\n",
    "KRB Note: No hydroshare utilities are imported here. "
   ]
  },
  {
   "cell_type": "code",
   "execution_count": 1,
   "metadata": {},
   "outputs": [],
   "source": [
    "from landlab.components import OverlandFlow\n",
    "from landlab.components import KinwaveImplicitOverlandFlow\n",
    "from landlab.io import read_esri_ascii\n",
    "from landlab import imshow_grid\n",
    "from landlab.components.flow_accum import flow_accumulation\n",
    "from landlab.components.flow_accum import find_drainage_area_and_discharge\n",
    "from landlab.components.flow_accum import FlowAccumulator\n",
    "\n",
    "import numpy as np\n",
    "import copy  \n",
    "from matplotlib import pyplot as plt\n",
    "import matplotlib.image as mgimg\n",
    "import matplotlib.animation as animation\n",
    "%matplotlib inline "
   ]
  },
  {
   "cell_type": "markdown",
   "metadata": {},
   "source": [
    "### 2.2. Import Digital Elevation Models (DEMs) from a HydroShare resource with two methods \n",
    "\n",
    "Now we import the elevation data for the study watersheds. Here we show two ways of importing watershed elevation data from a URL: 1) raw file on Github; 2) a public Hydroshare resource. Both of these methods require some familiarity with these platform.\n",
    "\n",
    "Note that if you run the cell below multiple times you will generate multiple ascii files of watershed DEMs. To avoid this by deleting previous versions, copy and paste the code below into a cell and run: \n",
    "\n",
    "```\n",
    "!rm SpringCreek_DEM*\n",
    "!rm Square_TestBasin.asc*\n",
    "```"
   ]
  },
  {
   "cell_type": "code",
   "execution_count": 2,
   "metadata": {},
   "outputs": [],
   "source": [
    "#!rm SpringCreek_DEM*\n",
    "#!rm Square_TestBasin.asc*"
   ]
  },
  {
   "cell_type": "code",
   "execution_count": 2,
   "metadata": {},
   "outputs": [
    {
     "name": "stdout",
     "output_type": "stream",
     "text": [
      "--2018-05-08 15:21:54--  https://raw.githubusercontent.com/landlab/pub_adams_etal_gmd/master/ASCII%20files/Square_TestBasin.asc\n",
      "Resolving raw.githubusercontent.com (raw.githubusercontent.com)... 151.101.32.133\n",
      "Connecting to raw.githubusercontent.com (raw.githubusercontent.com)|151.101.32.133|:443... connected.\n",
      "HTTP request sent, awaiting response... 200 OK\n",
      "Length: 1000861 (977K) [text/plain]\n",
      "Saving to: ‘Square_TestBasin.asc’\n",
      "\n",
      "Square_TestBasin.as 100%[===================>] 977.40K  --.-KB/s    in 0.1s    \n",
      "\n",
      "2018-05-08 15:21:55 (9.33 MB/s) - ‘Square_TestBasin.asc’ saved [1000861/1000861]\n",
      "\n",
      "--2018-05-08 15:21:55--  https://raw.githubusercontent.com/landlab/pub_adams_etal_gmd/master/ASCII%20files/SpringCreek_DEM.asc\n",
      "Resolving raw.githubusercontent.com (raw.githubusercontent.com)... 151.101.32.133\n",
      "Connecting to raw.githubusercontent.com (raw.githubusercontent.com)|151.101.32.133|:443... connected.\n",
      "HTTP request sent, awaiting response... 200 OK\n",
      "Length: 1808960 (1.7M) [text/plain]\n",
      "Saving to: ‘SpringCreek_DEM.asc’\n",
      "\n",
      "SpringCreek_DEM.asc 100%[===================>]   1.72M  --.-KB/s    in 0.05s   \n",
      "\n",
      "2018-05-08 15:21:56 (36.0 MB/s) - ‘SpringCreek_DEM.asc’ saved [1808960/1808960]\n",
      "\n"
     ]
    }
   ],
   "source": [
    "#Get from raw URL on Github \n",
    "!wget https://raw.githubusercontent.com/landlab/pub_adams_etal_gmd/master/ASCII%20files/Square_TestBasin.asc\n",
    "#Spring Creek Basin: Get from public URL on HydroShare\n",
    "!wget https://raw.githubusercontent.com/landlab/pub_adams_etal_gmd/master/ASCII%20files/SpringCreek_DEM.asc"
   ]
  },
  {
   "cell_type": "markdown",
   "metadata": {},
   "source": [
    "### 2.3. Use Landlab to read in the ASCII DEM and set boundary conditions "
   ]
  },
  {
   "cell_type": "code",
   "execution_count": 3,
   "metadata": {},
   "outputs": [],
   "source": [
    "#Square Basin\n",
    "watershed_dem_sq = 'Square_TestBasin.asc'\n",
    "(rmg_sq, z_sq) = read_esri_ascii(watershed_dem_sq, name='topographic__elevation')\n",
    "rmg_sq.set_watershed_boundary_condition(z_sq)\n",
    "\n",
    "#Spring Creek Basin\n",
    "watershed_dem_sc = 'SpringCreek_DEM.asc'\n",
    "(rmg_sc, z_sc) = read_esri_ascii(watershed_dem_sc, name='topographic__elevation')\n",
    "rmg_sc.set_watershed_boundary_condition(z_sc)"
   ]
  },
  {
   "cell_type": "markdown",
   "metadata": {},
   "source": [
    "### 2.4. Use Landlab to calculate flow accumulation and drainage area  \n",
    "\n",
    "Drainge areas derived in this step will be used in selecting internal points for plotting hydrograhs "
   ]
  },
  {
   "cell_type": "code",
   "execution_count": 4,
   "metadata": {},
   "outputs": [],
   "source": [
    "#Square Basin\n",
    "fa_sq = FlowAccumulator(rmg_sq)\n",
    "fa_sq.run_one_step()\n",
    "(da_sq, q_sq) = fa_sq.accumulate_flow()\n",
    "#Spring Creek\n",
    "fa_sc = FlowAccumulator(rmg_sc)\n",
    "fa_sc.run_one_step()\n",
    "(da_sc, q_sc) = fa_sc.accumulate_flow()"
   ]
  },
  {
   "cell_type": "markdown",
   "metadata": {},
   "source": [
    "### 2.5. List and select nodes with drainage area greater than a threshold.  \n",
    "\n",
    "Below we show how you can identify internal nodes in the two domains for plotting streamflow hydrographs. We selected nodes such that the watershed areas above mid and upstream nodes of the two watersheds are close to each other. This gives us the opportunity to compare hydrographs in relation to watershed shape and watershed relief above each node, given the similar watershed area values."
   ]
  },
  {
   "cell_type": "markdown",
   "metadata": {},
   "source": [
    "**2.5.1 Square Basin: a) set thresholds and b) select output nodes**\n",
    "\n",
    "We will identify the nodes for outlet, midstream, and upstream locations for plotting hydrographs using drainge area thresholds for the latter two. Code is written to set the outlet at the node with the largest drainage area. Below we will first identify the outlet node ID, its elevation and drainage area.  "
   ]
  },
  {
   "cell_type": "code",
   "execution_count": 5,
   "metadata": {},
   "outputs": [
    {
     "name": "stdout",
     "output_type": "stream",
     "text": [
      "Outlet Node = 100; Drainage Area= 35.28 km2; Elev = 0.0 m\n"
     ]
    }
   ],
   "source": [
    "outlet_node_to_sample_sq = np.argmax(rmg_sq.at_node['drainage_area'])\n",
    "print('Outlet Node = ' + str(outlet_node_to_sample_sq) + '; Drainage Area= ' + str(da_sq[outlet_node_to_sample_sq]/1000000) + ' km2; Elev = '+ str(round(z_sq[outlet_node_to_sample_sq],1)) + ' m')"
   ]
  },
  {
   "cell_type": "markdown",
   "metadata": {},
   "source": [
    "The midstream and upstream node drainge area thresholds can be identified by drainge area ranges in km2. The range used to identify a midstream location should be larger than the range used to identify an upstream location. These internal nodes can be identified by trial using different drainge area values, and plotting the locations selected. After we select the drainage area ranges we will print the node IDs, drainge areas, and elevations of the locations we select and map the locations on the elevation map of the watershed. To continue your project with the Square domain you can skip the steps in 2.5.2 that pertains to Spring Creek and move to 2.6. After modeling flows in the Square domain you will need to come back to 2.5.2. and identify the nodes you would like to include for hydrograph analysis in Spring Creek. \n",
    "\n",
    "KRB Notes: What exactly a user should modify is not entirely clear here. I'd mark it with comments in the code block. \n",
    "\n",
    "I also think that the text needs to be revised since you show first the square basin and then spring creek in a series of code blocks. "
   ]
  },
  {
   "cell_type": "code",
   "execution_count": 6,
   "metadata": {},
   "outputs": [
    {
     "name": "stdout",
     "output_type": "stream",
     "text": [
      "Outlet Node = 100; Drainage Area= 35.28 km2; Elev = 0.0 m\n",
      "Midstream Node = 10502; Drainage Area= 18.3537 km2; Elev = 7.3 m\n",
      "Upstream Node = 31113; Drainage Area= 3.528 km2; Elev = 38.4 m\n"
     ]
    }
   ],
   "source": [
    "## drainge area thresholds in km2\n",
    "midstream_da_upperbound=20\n",
    "midstream_da_lowerbound=12\n",
    "upstream_da_upperbound=4\n",
    "upstream_da_lowerbound=3\n",
    "\n",
    "midstream_node_to_sample_sq = np.where(np.logical_and(rmg_sq.at_node['drainage_area']>midstream_da_lowerbound*1000000, rmg_sq.at_node['drainage_area']<midstream_da_upperbound*1000000))[0][-1]\n",
    "upstream_node_to_sample_sq = np.where(np.logical_and(rmg_sq.at_node['drainage_area']>upstream_da_lowerbound*1000000, rmg_sq.at_node['drainage_area']<upstream_da_upperbound*1000000))[0][-1]\n",
    "\n",
    "print('Outlet Node = ' + str(outlet_node_to_sample_sq) + '; Drainage Area= ' + str(da_sq[outlet_node_to_sample_sq]/1000000) + ' km2; Elev = '+ str(round(z_sq[outlet_node_to_sample_sq],1)) + ' m')\n",
    "print('Midstream Node = ' + str(midstream_node_to_sample_sq) + '; Drainage Area= ' + str(da_sq[midstream_node_to_sample_sq]/1000000) + ' km2; Elev = '+ str(round(z_sq[midstream_node_to_sample_sq],1)) + ' m')\n",
    "print('Upstream Node = ' + str(upstream_node_to_sample_sq) + '; Drainage Area= ' + str(da_sq[upstream_node_to_sample_sq]/1000000) + ' km2; Elev = '+ str(round(z_sq[upstream_node_to_sample_sq],1)) + ' m')"
   ]
  },
  {
   "cell_type": "code",
   "execution_count": 7,
   "metadata": {},
   "outputs": [
    {
     "data": {
      "text/plain": [
       "[<matplotlib.lines.Line2D at 0x7f1c26adb2d0>]"
      ]
     },
     "execution_count": 7,
     "metadata": {},
     "output_type": "execute_result"
    },
    {
     "data": {
      "image/png": "[encoded data removed]",
      "text/plain": [
       "<Figure size 432x288 with 2 Axes>"
      ]
     },
     "metadata": {},
     "output_type": "display_data"
    }
   ],
   "source": [
    "## Plot Square\n",
    "%matplotlib inline \n",
    "map_fig = plt.figure('DEM maps')\n",
    "ax1 = map_fig.add_subplot(221)\n",
    "ax1.xaxis.set_visible(False)\n",
    "imshow_grid(rmg_sq, z_sq,plot_name='Square', color_for_closed=\"white\")  # plot the DEM\n",
    "plt.plot(rmg_sq.node_x[outlet_node_to_sample_sq],rmg_sq.node_y[outlet_node_to_sample_sq],'ro')\n",
    "plt.plot(rmg_sq.node_x[midstream_node_to_sample_sq],rmg_sq.node_y[midstream_node_to_sample_sq],'go')\n",
    "plt.plot(rmg_sq.node_x[upstream_node_to_sample_sq],rmg_sq.node_y[upstream_node_to_sample_sq],'bo')\n",
    "\n",
    "\n",
    "#KRB note: I'd add a legend and make the plot bigger. "
   ]
  },
  {
   "cell_type": "markdown",
   "metadata": {},
   "source": [
    "** 2.5.2 Spring Creek: set thresholds and select the output nodes listed by threshold **\n",
    "\n",
    "We will identify the nodes for outlet, midstream, and upstream locations for plotting hydrographs using drainge area thresholds for the latter two. Code is written to set the outlet at the node with the largest drainage area. Below we will first identify the outlet node ID, its elevation and drainage area.\n"
   ]
  },
  {
   "cell_type": "code",
   "execution_count": 8,
   "metadata": {},
   "outputs": [
    {
     "name": "stdout",
     "output_type": "stream",
     "text": [
      "Outlet Node = 55472; Drainage Area= 26.7525 km2; Elev = 1875.3 m\n"
     ]
    }
   ],
   "source": [
    "outlet_node_to_sample_sc = np.argmax(rmg_sc.at_node['drainage_area'])\n",
    "print('Outlet Node = ' + str(outlet_node_to_sample_sc) + '; Drainage Area= ' + str(da_sc[outlet_node_to_sample_sc]/1000000) + ' km2; Elev = '+ str(round(z_sc[outlet_node_to_sample_sc],1)) + ' m')"
   ]
  },
  {
   "cell_type": "markdown",
   "metadata": {},
   "source": [
    "The midstream and upstream node drainge area thresholds can be identified by drainge area ranges in km2. The range used to identify a midstream location should be larger than the range used to identify an upstream location. These internal nodes can be identified by trial using different drainge area values, and plotting the locations selected. After we select the drainage area ranges we will print the node IDs, drainge areas, and elevations of the locations we select and map the locations on the elevation map of the watershed. "
   ]
  },
  {
   "cell_type": "code",
   "execution_count": 9,
   "metadata": {},
   "outputs": [
    {
     "name": "stdout",
     "output_type": "stream",
     "text": [
      "Outlet Node = 55472; Drainage Area= 26.7525 km2; Elev = 1875.3 m\n",
      "Midstream Node = 47742; Drainage Area= 18.7497 km2; Elev = 2062.2 m\n",
      "Upstream Node = 19131; Drainage Area= 3.2094 km2; Elev = 2243.2 m\n"
     ]
    }
   ],
   "source": [
    "## drainge area thresholds in km2\n",
    "midstream_da_upperbound=20\n",
    "midstream_da_lowerbound=17.5\n",
    "upstream_da_upperbound=5\n",
    "upstream_da_lowerbound=3.2\n",
    "\n",
    "outlet_node_to_sample_sc = np.argmax(rmg_sc.at_node['drainage_area'])\n",
    "midstream_node_to_sample_sc = np.where(np.logical_and(rmg_sc.at_node['drainage_area']>midstream_da_lowerbound*1000000, rmg_sc.at_node['drainage_area']<midstream_da_upperbound*1000000))[0][0]\n",
    "upstream_node_to_sample_sc = np.where(np.logical_and(rmg_sc.at_node['drainage_area']>upstream_da_lowerbound*1000000, rmg_sc.at_node['drainage_area']<upstream_da_upperbound*1000000))[0][0]\n",
    "\n",
    "print('Outlet Node = ' + str(outlet_node_to_sample_sc) + '; Drainage Area= ' + str(da_sc[outlet_node_to_sample_sc]/1000000) + ' km2; Elev = '+ str(round(z_sc[outlet_node_to_sample_sc],1)) + ' m')\n",
    "print('Midstream Node = ' + str(midstream_node_to_sample_sc) + '; Drainage Area= ' + str(da_sc[midstream_node_to_sample_sc]/1000000) + ' km2; Elev = '+ str(round(z_sc[midstream_node_to_sample_sc],1)) + ' m')\n",
    "print('Upstream Node = ' + str(upstream_node_to_sample_sc) + '; Drainage Area= ' + str(da_sc[upstream_node_to_sample_sc]/1000000) + ' km2; Elev = '+ str(round(z_sc[upstream_node_to_sample_sc],1)) + ' m')"
   ]
  },
  {
   "cell_type": "code",
   "execution_count": 10,
   "metadata": {},
   "outputs": [
    {
     "data": {
      "text/plain": [
       "[<matplotlib.lines.Line2D at 0x7f1c1c91b090>]"
      ]
     },
     "execution_count": 10,
     "metadata": {},
     "output_type": "execute_result"
    },
    {
     "data": {
      "image/png": "[encoded data removed]",
      "text/plain": [
       "<Figure size 432x288 with 2 Axes>"
      ]
     },
     "metadata": {},
     "output_type": "display_data"
    }
   ],
   "source": [
    "## Plot Spring Creek\n",
    "ax2 = map_fig.add_subplot(222)\n",
    "ax2.xaxis.set_visible(False)\n",
    "imshow_grid(rmg_sc, z_sc,plot_name='Spring Creek',var_name = 'Elevation', var_units = 'm', grid_units = ('m','m'), \n",
    "            cmap = 'terrain', limits = (1875, 2615),color_for_closed=\"white\")  # plot the DEM\n",
    "ax2.set_facecolor(\"white\")\n",
    "plt.plot(rmg_sc.node_x[outlet_node_to_sample_sc],rmg_sc.node_y[outlet_node_to_sample_sc],'ro')\n",
    "plt.plot(rmg_sc.node_x[midstream_node_to_sample_sc],rmg_sc.node_y[midstream_node_to_sample_sc],'go')\n",
    "plt.plot(rmg_sc.node_x[upstream_node_to_sample_sc],rmg_sc.node_y[upstream_node_to_sample_sc],'bo')\n",
    "\n",
    "# KRB note: Add legend."
   ]
  },
  {
   "cell_type": "markdown",
   "metadata": {},
   "source": [
    "__________________\n",
    "### 2.6. Make Model Decisions "
   ]
  },
  {
   "cell_type": "markdown",
   "metadata": {},
   "source": [
    "KRB note:I'd add a bit of introductory text to remind what is being modeled and why. \n",
    "\n",
    "\n",
    "* We used the following runoff categories for this exercise, which can be changed by the user: \n",
    "  * `Base` has an intensity of 5.0 mm/hr, with a duration of 2 hr.\n",
    "  * `HigherIntensity` has an intensity of 10.0 mm/hr, with a duration of 2 hr.\n",
    "  * `LongerDuration` has an intensity of 5.0 mm/hr, with a duration of 4 hr. Longer duration is hardcoded as twice the storm duration of the base case. However it can be changed.\n",
    " \n",
    " Below you will indicate the domain, storm category, and algorithm you would like to use. You can change the runoff generation intesity and duration in code block 2.7.1. Note that time is given in hours, and the model is run in *seconds*\n",
    " \n",
    " KRB Note. nothing is labeled Code Block 2.7.1. I'd also list ONLY the parameters that you want someone to monkey with here. Also, base case seems related to the Base_runoff_rate, so if someone changed that then the values would be wrong. "
   ]
  },
  {
   "cell_type": "code",
   "execution_count": 28,
   "metadata": {},
   "outputs": [],
   "source": [
    "basin_flag = 'Square'      # 'Square' or 'Spring Creek'\n",
    "storm_flag = 'HigherIntensity'   # 'Base' or'HigherIntensity' or 'LongerDuration'\n",
    "routing_method = 'KinwaveImplicitOverlandFlow'  # use 'OverlandFlow' OR 'KinwaveImplicitOverlandFlow'  \n",
    "image_save = 1                   # 1: save image; 0: don't save, this is for animation\n",
    "hours = 8                        #hours of model run time\n",
    "Number_frames = 6                    # number of frames to plot\n",
    "n = 0.03                            # Manning's roughness coefficient, (s/m^(1/3))\n",
    "Base_runoff_rate = 10               # Base runoff rate (mm/h)\n",
    "HigherIntesity_runoff_rate = 20     # High intensity runoff rate (mm/h)\n",
    "Storm_duration = 5                  # Storm duration (hours)\n",
    "dt = 600                             # time step for KinwaveImplicitOverlandFlow, (s) [i.e., 10 minutes]"
   ]
  },
  {
   "cell_type": "markdown",
   "metadata": {},
   "source": [
    "______________________\n",
    "### 2.7. Initialize model run time and output variables used for plotting and animation \n",
    "\n",
    "The cell below is designed to set up the model with the decisions made in the cell above. Do not change it unless necessary.\n"
   ]
  },
  {
   "cell_type": "code",
   "execution_count": 29,
   "metadata": {},
   "outputs": [],
   "source": [
    "#Convert time\n",
    "elapsed_time = 1.0   #seconds\n",
    "model_run_time=hours*3600 #converted to seconds\n",
    "\n",
    "\n",
    "# Setting up the number of frames to be recorded for creating the animation\n",
    "ani_inc=np.arange(0, hours, np.true_divide(hours,Number_frames)) #list of timesteps for animation\n",
    "snap=0   #first snapshot for animation\n",
    "\n",
    "## Lists for saving data\n",
    "discharge_at_outlet = []\n",
    "discharge_upstream = []\n",
    "discharge_midstream = []\n",
    "hydrograph_time = []\n",
    "\n",
    "if basin_flag == 'Square':\n",
    "    watershed_dem = 'Square_TestBasin.asc'\n",
    "    outlet_node_to_sample = outlet_node_to_sample_sq\n",
    "    midstream_node_to_sample = midstream_node_to_sample_sq\n",
    "    upstream_node_to_sample = upstream_node_to_sample_sq\n",
    "    ### Reading in the DEM given the filename from above\n",
    "    (rmg, z) = read_esri_ascii(watershed_dem, name='topographic__elevation')\n",
    "    ## Setting initial fields...\n",
    "    rmg['node']['surface_water__discharge'] = np.zeros(rmg.number_of_nodes)\n",
    "    rmg_sq.set_watershed_boundary_condition_outlet_id(outlet_node_to_sample_sq, z_sq,-9999.)\n",
    "\n",
    "else:\n",
    "    watershed_dem = 'SpringCreek_DEM.asc'\n",
    "    outlet_node_to_sample = outlet_node_to_sample_sc\n",
    "    midstream_node_to_sample = midstream_node_to_sample_sc\n",
    "    upstream_node_to_sample = upstream_node_to_sample_sc\n",
    "    ### Reading in the DEM given the filename from above\n",
    "    (rmg, z) = read_esri_ascii(watershed_dem, name='topographic__elevation')\n",
    "    ## Setting initial fields...\n",
    "    rmg['node']['surface_water__discharge'] = np.zeros(rmg.number_of_nodes)\n",
    "    ## Set boundary coditions on the grid\n",
    "    rmg.set_watershed_boundary_condition(z)\n",
    "\n",
    "\n",
    "## instantiate OverlandFlow object\n",
    "if routing_method == 'OverlandFlow':\n",
    "    \n",
    "    of = OverlandFlow(rmg, alpha=0.15, mannings_n = n, steep_slopes = True) \n",
    "else: \n",
    "    kw = KinwaveImplicitOverlandFlow(rmg, runoff_rate = 0.0, roughness = n, depth_exp = 5/3)\n",
    "    \n",
    "## Assign storm conditions based on flag in Code Block 2\n",
    "if storm_flag == 'Base':\n",
    "    runoff_mmhr = Base_runoff_rate\n",
    "    runoff_ms = runoff_mmhr * (2.77778 * 10 ** -7)\n",
    "    storm_duration = Storm_duration * 3600.\n",
    "elif storm_flag == 'HigherIntensity':\n",
    "    runoff_mmhr = HigherIntesity_runoff_rate\n",
    "    runoff_ms = runoff_mmhr * (2.77778 * 10 ** -7)\n",
    "    storm_duration = Storm_duration * 3600.\n",
    "elif storm_flag == 'LongerDuration':\n",
    "    runoff_mmhr = Base_runoff_rate\n",
    "    runoff_ms = runoff_mmhr * (2.77778 * 10 ** -7)\n",
    "    storm_duration = Storm_duration * 2 * 3600."
   ]
  },
  {
   "cell_type": "markdown",
   "metadata": {},
   "source": [
    "### 2.8. Run Overland Flow Model \n",
    "\n",
    "KRB Note: I'd recommend some text or comments that describe what happens when the overland flow model runs. "
   ]
  },
  {
   "cell_type": "code",
   "execution_count": 30,
   "metadata": {},
   "outputs": [
    {
     "name": "stdout",
     "output_type": "stream",
     "text": [
      "elapsed time = 0.0 hours\n",
      "elapsed time = 1.33 hours\n",
      "elapsed time = 2.67 hours\n",
      "elapsed time = 4.0 hours\n",
      "elapsed time = 5.33 hours\n",
      "elapsed time = 6.67 hours\n"
     ]
    },
    {
     "data": {
      "text/html": [
       "<div align=\"middle\"> <video width=\"80%\" controls loop><source src=\"animation.mp4\" type=\"video/mp4\"> </video></div>"
      ],
      "text/plain": [
       "<IPython.core.display.HTML object>"
      ]
     },
     "execution_count": 30,
     "metadata": {},
     "output_type": "execute_result"
    },
    {
     "data": {
      "image/png": "[encoded data removed]",
      "text/plain": [
       "<Figure size 432x288 with 1 Axes>"
      ]
     },
     "metadata": {},
     "output_type": "display_data"
    }
   ],
   "source": [
    "animate_fig = plt.figure()\n",
    "animation_file_name = str(basin_flag) + '_' + str(storm_flag) + '_' + str(routing_method) + '.mp4'\n",
    "writer = animation.FFMpegWriter(fps=1)\n",
    "writer.setup(animate_fig, 'animation.mp4')\n",
    "\n",
    "while elapsed_time < model_run_time:\n",
    "    # Setting the adaptive time step\n",
    "    \n",
    "    if routing_method == 'OverlandFlow': \n",
    "        of.dt = of.calc_time_step()\n",
    "    \n",
    "    \n",
    "    ## The storm starts when the model starts. While the elapsed time is less\n",
    "    ## than the storm duration, we add water to the system as runoff.\n",
    "    if routing_method == 'OverlandFlow': \n",
    "        \n",
    "        if elapsed_time < (storm_duration):\n",
    "            of.rainfall_intensity =  runoff_ms   \n",
    "        else: # elapsed time exceeds the storm duration, rainfall ceases.\n",
    "            of.rainfall_intensity = 0.0\n",
    "\n",
    "    if routing_method == 'OverlandFlow':   \n",
    "        of.overland_flow() # Generating overland flow based on the deAlmeida solution.\n",
    "        rmg.at_node['surface_water__discharge'] = of.discharge_mapper(of.q, convert_to_volume=True)\n",
    "    else:\n",
    "        if elapsed_time < storm_duration:\n",
    "            kw.run_one_step(dt, current_time = elapsed_time, runoff_rate = runoff_ms)\n",
    "        else:\n",
    "            kw.run_one_step(dt, current_time = elapsed_time, runoff_rate = 0.0)\n",
    "    \n",
    "\n",
    "    if routing_method == 'OverlandFlow':\n",
    "        discharge_at_outlet.append(rmg.at_node['surface_water__discharge'][outlet_node_to_sample])\n",
    "        discharge_midstream.append(rmg.at_node['surface_water__discharge'][midstream_node_to_sample])\n",
    "        discharge_upstream.append(rmg.at_node['surface_water__discharge'][upstream_node_to_sample])\n",
    "    else:\n",
    "        discharge_at_outlet.append(rmg.at_node['surface_water_inflow__discharge'][outlet_node_to_sample])\n",
    "        discharge_midstream.append(rmg.at_node['surface_water_inflow__discharge'][midstream_node_to_sample])\n",
    "        discharge_upstream.append(rmg.at_node['surface_water_inflow__discharge'][upstream_node_to_sample])\n",
    "    \n",
    "    \n",
    "    ## Append time and discharge to their lists to save data and for plotting.\n",
    "    hydrograph_time.append(round(elapsed_time/3600,2)) #saved in hours\n",
    "\n",
    "    ## output time every now and then so that you know the code is actually running\n",
    "    ## each time loop a new image is mapped, this sequence will build the animation\n",
    "    \n",
    "    \n",
    "    if snap < len(ani_inc):\n",
    "        if (elapsed_time/3600) > ani_inc[snap]:\n",
    "\n",
    "            print('elapsed time = ' + str(round(elapsed_time/3600,2)) + ' hours')\n",
    "\n",
    "            imshow_grid(rmg, 'surface_water__depth', colorbar_label='Depth (m)',plot_name = 'Surface Water Depth', \n",
    "                    var_name = 'Water Depth', var_units = 'm', grid_units = ('m','m'), \n",
    "                    cmap='Blues', limits = (0, 0.5))\n",
    "            plt.title('{} hours'.format(str(round(elapsed_time/3600,2))),\n",
    "                    fontsize=14) \n",
    "\n",
    "            if image_save == 1:\n",
    "                plt.savefig(str(basin_flag) + '_' + str(storm_flag) + '_' + str(routing_method) + '_' + str(ani_inc[snap]) + 'hr_map.png', format='png', dpi=1000)\n",
    "\n",
    "            writer.grab_frame()\n",
    "\n",
    "            snap +=1\n",
    "\n",
    "            # Remove the colorbar to reset the figure for the next animation timestep.\n",
    "            plt.gci().colorbar.remove()\n",
    "    \n",
    "\n",
    "    ## Updating elapsed_time\n",
    "    if routing_method == 'OverlandFlow': \n",
    "        elapsed_time += of.dt\n",
    "    else: \n",
    "        elapsed_time += dt\n",
    "    \n",
    "    \n",
    "writer.finish()\n",
    "from IPython.display import HTML\n",
    "\n",
    "HTML(\"\"\"<div align=\"middle\"> <video width=\"80%\" controls loop><source src=\"animation.mp4\" type=\"video/mp4\"> </video></div>\"\"\")\n"
   ]
  },
  {
   "cell_type": "markdown",
   "metadata": {},
   "source": [
    "For more on animation, see this Landlab animation tutorial see https://github.com/landlab/tutorials/blob/master/plotting/animate-landlab-output.ipynb"
   ]
  },
  {
   "cell_type": "markdown",
   "metadata": {},
   "source": [
    "## 3.0. Results\n",
    "In thise section you will start preparing your results for model simulations you ran. You will plot modeled hydrographs at each location in the same figure for the selected study domain. In this plot you will notice differences in the time to peak and peak discharge magnitudes at different locations. You may also notice differences in the results generated by the two methods.  "
   ]
  },
  {
   "cell_type": "markdown",
   "metadata": {},
   "source": [
    "### 3.1. Plot hydrograph for one model result "
   ]
  },
  {
   "cell_type": "code",
   "execution_count": 27,
   "metadata": {},
   "outputs": [
    {
     "data": {
      "image/png": "[encoded data removed]",
      "text/plain": [
       "<Figure size 1440x720 with 1 Axes>"
      ]
     },
     "metadata": {},
     "output_type": "display_data"
    }
   ],
   "source": [
    "#%matplotlib inline  ## This line controls showing the plot within the Notebook\n",
    "hydrograph_fig = plt.figure(figsize=(20, 10) )\n",
    "plt.plot(hydrograph_time, discharge_at_outlet, 'r-', label = 'outlet')\n",
    "plt.plot(hydrograph_time, discharge_midstream, 'g-', label = 'midstream')\n",
    "plt.plot(hydrograph_time, discharge_upstream, 'b-', label = 'upstream')\n",
    "plt.ylabel('Discharge (cms)')\n",
    "plt.xlabel('Time (hours)')\n",
    "plt.legend(loc = 'upper left')\n",
    "title_text = 'Model=' + str(basin_flag) + '+'+ str(storm_flag) + '+ ' + routing_method \n",
    "plt.title(title_text)\n",
    "plt.savefig(basin_flag + '_' + storm_flag + '_' + routing_method + '_hydrograph.png',format ='png',dpi=1000)"
   ]
  },
  {
   "cell_type": "markdown",
   "metadata": {},
   "source": [
    "### 3.2. Show map for one model result at the time step of interest to you \n",
    "\n",
    "List the available image files printed in each model run and animation increment that you would like to view. Note that you will need to change the last line of the code block below to visualize the model run you want to see."
   ]
  },
  {
   "cell_type": "code",
   "execution_count": 20,
   "metadata": {},
   "outputs": [
    {
     "name": "stdout",
     "output_type": "stream",
     "text": [
      "The model your have just run will have individual snapshots of the aninimation with this file naming structure --\n",
      "Spring Creek_HigherIntensity_KinwaveImplicitOverlandFlow_0.0hr_map.png\r\n",
      "Spring Creek_HigherIntensity_KinwaveImplicitOverlandFlow_1.33333333333hr_map.png\r\n",
      "Spring Creek_HigherIntensity_KinwaveImplicitOverlandFlow_2.66666666667hr_map.png\r\n",
      "Spring Creek_HigherIntensity_KinwaveImplicitOverlandFlow_4.0hr_map.png\r\n",
      "Spring Creek_HigherIntensity_KinwaveImplicitOverlandFlow_5.33333333333hr_map.png\r\n",
      "Spring Creek_HigherIntensity_KinwaveImplicitOverlandFlow_6.66666666667hr_map.png\r\n",
      "Spring Creek_HigherIntensity_KinwaveImplicitOverlandFlow_hydrograph.png\r\n"
     ]
    }
   ],
   "source": [
    "print('The model your have just run will have individual snapshots of the aninimation with this file naming structure --')\n",
    "#change this shell script below list all file names for a png based on your model (e.g. *png, Spring*png, or Square*png)\n",
    "!ls Spring*png\n",
    "\n",
    "\n",
    "# KRB note, no need for the -lt flag, it makes everything a bit harder to read. Consider also rounding digits in file writing. . "
   ]
  },
  {
   "cell_type": "markdown",
   "metadata": {},
   "source": [
    "Choose and visualize the image file by changing the name of the image input to be consistent with the name of a image listed above. "
   ]
  },
  {
   "cell_type": "code",
   "execution_count": 21,
   "metadata": {
    "scrolled": true
   },
   "outputs": [
    {
     "data": {
      "text/plain": [
       "<Figure size 432x576 with 0 Axes>"
      ]
     },
     "execution_count": 21,
     "metadata": {},
     "output_type": "execute_result"
    },
    {
     "data": {
      "image/png": "[encoded data removed]",
      "text/plain": [
       "<Figure size 432x288 with 1 Axes>"
      ]
     },
     "metadata": {},
     "output_type": "display_data"
    },
    {
     "data": {
      "text/plain": [
       "<Figure size 432x576 with 0 Axes>"
      ]
     },
     "metadata": {},
     "output_type": "display_data"
    }
   ],
   "source": [
    "img=mgimg.imread(fname='Spring Creek_HigherIntensity_KinwaveImplicitOverlandFlow_4.0hr_map.png')\n",
    "imgplot=plt.imshow(img)\n",
    "plt.axis('off')\n",
    "plt.figure(figsize=(6,8))\n",
    "\n",
    "# can the figure be bigger?"
   ]
  },
  {
   "cell_type": "markdown",
   "metadata": {},
   "source": [
    "### 3.3. Save model results into a text file at the end of each model run \n",
    "\n",
    "If you want to explore the hydrographs created in this application in another software environment, you will run the code below to create a single .csv file that contains modeled hydrograps at each location in the watershed. Please run this code for each run you completed separately. The .csv file can be used in Excel, Matlab or any other software. The name of the new file will be printed.  "
   ]
  },
  {
   "cell_type": "code",
   "execution_count": 17,
   "metadata": {},
   "outputs": [],
   "source": [
    "import pandas as pd\n",
    "\n",
    "modeldata=pd.DataFrame()\n",
    "modeldata['Timestep']=hydrograph_time\n",
    "modeldata['outlet']=discharge_at_outlet\n",
    "modeldata['midstream']=discharge_midstream\n",
    "modeldata['upstream']=discharge_upstream\n",
    "header={'Timestep','Outlet_cms','Midstream_cms','Upstream_cms'}\n",
    "modeldata.to_csv(str(basin_flag + '_' + storm_flag + '_' + routing_method  + '_flow.csv'),index=False,header=header,sep=',')"
   ]
  },
  {
   "cell_type": "code",
   "execution_count": 22,
   "metadata": {},
   "outputs": [
    {
     "name": "stdout",
     "output_type": "stream",
     "text": [
      "The model your have just run will have individual snapshots of the aninimation with this file naming structure --\n",
      "new_mexico_gridmet.csv\r\n",
      "Spring Creek_HigherIntensity_KinwaveImplicitOverlandFlow_flow.csv\r\n"
     ]
    }
   ],
   "source": [
    "print('The model your have just run will have individual snapshots of the aninimation with this file naming structure --')\n",
    "#change this shell script below list all file names for a png based on your model (e.g. *png, Spring*png, or Square*png)\n",
    "!ls *csv\n",
    "\n",
    "\n",
    "\n",
    "# KRB note: How do I download this file?"
   ]
  },
  {
   "cell_type": "markdown",
   "metadata": {},
   "source": [
    "\n",
    "** You completed the tutorial to run the model. You can now explore different routing methods and model parameters  by editing and re-executing sections by making model decisions (2.6), running the model (2.7 and 2.8) and saving results (3.3). Repeat as many model runs as you like and save all of your results before you start comparing results in section 4.**  \n",
    "\n"
   ]
  },
  {
   "cell_type": "markdown",
   "metadata": {},
   "source": [
    "## 4.0. Discussion \n",
    "\n",
    "In this section you will visualize results from your model runs to compare results obtained in the two study watersheds and begin writing your observations from model runs. In this section you may also generate more research questions to explore with the two models. You will also see how two methods can yield different results. \n",
    "\n"
   ]
  },
  {
   "cell_type": "markdown",
   "metadata": {},
   "source": [
    "### 4.1. Plot maps of water depth for two model runs  \n",
    "\n",
    "Choose two image files printed in each animation increment **from two different models** to compare at a timestep that is most interesting. \n"
   ]
  },
  {
   "cell_type": "code",
   "execution_count": 23,
   "metadata": {},
   "outputs": [
    {
     "ename": "IOError",
     "evalue": "[Errno 2] No such file or directory: 'Spring Creek_HigherIntensity_OverlandFlow_2.66666666667hr_map.png'",
     "output_type": "error",
     "traceback": [
      "\u001b[0;31m\u001b[0m",
      "\u001b[0;31mIOError\u001b[0mTraceback (most recent call last)",
      "\u001b[0;32m<ipython-input-23-8930696be003>\u001b[0m in \u001b[0;36m<module>\u001b[0;34m()\u001b[0m\n\u001b[1;32m      9\u001b[0m \u001b[0max2\u001b[0m \u001b[0;34m=\u001b[0m \u001b[0mhydrograph_fig\u001b[0m\u001b[0;34m.\u001b[0m\u001b[0madd_subplot\u001b[0m\u001b[0;34m(\u001b[0m\u001b[0;36m222\u001b[0m\u001b[0;34m)\u001b[0m\u001b[0;34m\u001b[0m\u001b[0m\n\u001b[1;32m     10\u001b[0m \u001b[0mfname2\u001b[0m\u001b[0;34m=\u001b[0m\u001b[0;34m'Spring Creek_HigherIntensity_OverlandFlow_2.66666666667hr_map.png'\u001b[0m\u001b[0;34m\u001b[0m\u001b[0m\n\u001b[0;32m---> 11\u001b[0;31m \u001b[0mimg2\u001b[0m\u001b[0;34m=\u001b[0m\u001b[0mmgimg\u001b[0m\u001b[0;34m.\u001b[0m\u001b[0mimread\u001b[0m\u001b[0;34m(\u001b[0m\u001b[0mfname2\u001b[0m\u001b[0;34m)\u001b[0m\u001b[0;34m\u001b[0m\u001b[0m\n\u001b[0m\u001b[1;32m     12\u001b[0m \u001b[0mimgplot\u001b[0m\u001b[0;34m=\u001b[0m\u001b[0mplt\u001b[0m\u001b[0;34m.\u001b[0m\u001b[0mimshow\u001b[0m\u001b[0;34m(\u001b[0m\u001b[0mimg2\u001b[0m\u001b[0;34m)\u001b[0m\u001b[0;34m\u001b[0m\u001b[0m\n\u001b[1;32m     13\u001b[0m \u001b[0max2\u001b[0m\u001b[0;34m.\u001b[0m\u001b[0maxis\u001b[0m\u001b[0;34m(\u001b[0m\u001b[0;34m'off'\u001b[0m\u001b[0;34m)\u001b[0m\u001b[0;34m\u001b[0m\u001b[0m\n",
      "\u001b[0;32m/opt/conda/envs/python2/lib/python2.7/site-packages/matplotlib/image.pyc\u001b[0m in \u001b[0;36mimread\u001b[0;34m(fname, format)\u001b[0m\n\u001b[1;32m   1373\u001b[0m             \u001b[0;32mreturn\u001b[0m \u001b[0mhandler\u001b[0m\u001b[0;34m(\u001b[0m\u001b[0mfd\u001b[0m\u001b[0;34m)\u001b[0m\u001b[0;34m\u001b[0m\u001b[0m\n\u001b[1;32m   1374\u001b[0m         \u001b[0;32melse\u001b[0m\u001b[0;34m:\u001b[0m\u001b[0;34m\u001b[0m\u001b[0m\n\u001b[0;32m-> 1375\u001b[0;31m             \u001b[0;32mwith\u001b[0m \u001b[0mopen\u001b[0m\u001b[0;34m(\u001b[0m\u001b[0mfname\u001b[0m\u001b[0;34m,\u001b[0m \u001b[0;34m'rb'\u001b[0m\u001b[0;34m)\u001b[0m \u001b[0;32mas\u001b[0m \u001b[0mfd\u001b[0m\u001b[0;34m:\u001b[0m\u001b[0;34m\u001b[0m\u001b[0m\n\u001b[0m\u001b[1;32m   1376\u001b[0m                 \u001b[0;32mreturn\u001b[0m \u001b[0mhandler\u001b[0m\u001b[0;34m(\u001b[0m\u001b[0mfd\u001b[0m\u001b[0;34m)\u001b[0m\u001b[0;34m\u001b[0m\u001b[0m\n\u001b[1;32m   1377\u001b[0m     \u001b[0;32melse\u001b[0m\u001b[0;34m:\u001b[0m\u001b[0;34m\u001b[0m\u001b[0m\n",
      "\u001b[0;31mIOError\u001b[0m: [Errno 2] No such file or directory: 'Spring Creek_HigherIntensity_OverlandFlow_2.66666666667hr_map.png'"
     ]
    },
    {
     "data": {
      "image/png": "[encoded data removed]",
      "text/plain": [
       "<Figure size 1440x1296 with 2 Axes>"
      ]
     },
     "metadata": {},
     "output_type": "display_data"
    }
   ],
   "source": [
    "hydrograph_fig = plt.figure(figsize=(20, 18) )\n",
    "ax1 = hydrograph_fig.add_subplot(221)\n",
    "fname1='Spring Creek_HigherIntensity_KinwaveImplicitOverlandFlow_2.66666666667hr_map.png'\n",
    "img1=mgimg.imread(fname1)\n",
    "imgplot=plt.imshow(img1)\n",
    "ax1.axis('off')\n",
    "\n",
    "## Plotting the hydrographs from the Spring Creek DEM at the outlet\n",
    "ax2 = hydrograph_fig.add_subplot(222)\n",
    "fname2='Spring Creek_HigherIntensity_OverlandFlow_2.66666666667hr_map.png'\n",
    "img2=mgimg.imread(fname2)\n",
    "imgplot=plt.imshow(img2)\n",
    "ax2.axis('off')\n",
    "\n",
    "# KRB note, I got an error IOError: [Errno 2] No such file or directory: 'Spring Creek_HigherIntensity_OverlandFlow_2.66666666667hr_map.png'\n"
   ]
  },
  {
   "cell_type": "markdown",
   "metadata": {},
   "source": [
    "### 4.2. Plot hydrographs for two model runs  "
   ]
  },
  {
   "cell_type": "code",
   "execution_count": null,
   "metadata": {},
   "outputs": [],
   "source": [
    "!ls -lt *_hydrograph.png\n",
    "\n"
   ]
  },
  {
   "cell_type": "code",
   "execution_count": null,
   "metadata": {},
   "outputs": [],
   "source": [
    "hydrograph_fig = plt.figure(figsize=(20 , 20) )\n",
    "ax1 = hydrograph_fig.add_subplot(221)\n",
    "fname1='Spring Creek_HigherIntensity_KinwaveImplicitOverlandFlow_hydrograph.png'\n",
    "img1=mgimg.imread(fname1)\n",
    "imgplot=plt.imshow(img1)\n",
    "ax1.axis('off')\n",
    "\n",
    "## Plotting the hydrographs from the Spring Creek DEM at the outlet\n",
    "ax2 = hydrograph_fig.add_subplot(222)\n",
    "fname2='Spring Creek_HigherIntensity_OverlandFlow_hydrograph.png'\n",
    "img2=mgimg.imread(fname2)\n",
    "imgplot=plt.imshow(img2)\n",
    "ax2.axis('off')"
   ]
  },
  {
   "cell_type": "markdown",
   "metadata": {},
   "source": [
    "## 5.0. Conclusions"
   ]
  },
  {
   "cell_type": "markdown",
   "metadata": {},
   "source": [
    "If you have reached this point, you should have produced a plot of three hydrographs from different points on the sauk watershed, produced from overland flow driven by the base storm.\n",
    "\n",
    "KRB Note: I think this is Spring Creek instead of Sauk\n",
    "\n",
    "There are six scenarios to explore: two different watersheds and three different storms, if you use the default parameters. If you explore different Manning's roughness values run all six scenarios by systematically changing the *basin_flag* and *storm_flag* in Code Block 2 and rerunning all of the code blocks sequentially. Save the hydrograph plots for each scenario. \n",
    "\n",
    "KRB NOTE: This next paragram seems to me to need to be revised as this is not necessarily a lab notebook. \n",
    "\n",
    "Include those plots in a document that also contains your typed answers to each of the questions below. Answer all of the questions with complete sentences. Try to be as specific and as quantitative as you can. (e.g. You can compare times to peak discharge and peak discharge values among the scenarios.) You are encouraged to discuss the results of the models with your classmates, but the text you turn in must be your own thoughts and words.\n",
    "\n",
    "1. What aspects of the hydrograph change at the outlet as the storm gets longer or more intense? Are there aspects of the outlet hydrograph that are not sensitive to the storm duration or intensity? Do the midstream and upstream hydrographs exhibit the same sensitivity to storm duration and intensity? Explain why.  \n",
    "\n",
    "2. What are the differences in the hydrograph responce in the outlets of the two watersheds? How does the watershed shape influence the hydrograph shape?\n",
    "\n",
    "3. Now compare the hydrograph shapes across the three different locations in the watersheds. Compare only between similar points (e.g. mid or upstream locations) and between the same storm characteristics. How does watershed shape affect hydrograph shape? Does it impact all locations in the same manner? Do different storm charactersitics exaggerate the differences between the different watersheds?\n",
    "\n",
    "4. Now compare the results between the two different watershed. How different are hydrograph characteristics between the square and natural watershed (Spring Creek)?\n",
    "\n",
    "5. Please compare your answers to the questions you answered before running the models. Do the model results match your intuition? If not, do you think your intuition was wrong, or the model was wrong, or both? Remember, models are helpful for learning but they are highly simplified representations of the real world. Wihtout knowing the details of the model, does it seem like something is missing from your model results?"
   ]
  },
  {
   "cell_type": "markdown",
   "metadata": {},
   "source": [
    "## 6.0. Save the results back into HydroShare\n",
    "<a name=\"creation\"></a>\n",
    "\n",
    "Using the `hs_utils` library, the results of the Geoprocessing steps above can be saved back into HydroShare.  First, define all of the required metadata for resource creation, i.e. *title*, *abstract*, *keywords*, *content files*.  In addition, we must define the type of resource that will be created, in this case *genericresource*.  \n",
    "\n",
    "### 6.1. Import HydroShare tools\n",
    "***Note:*** Make sure you save the notebook at this point, so that all notebook changes will be saved into the new HydroShare resource."
   ]
  },
  {
   "cell_type": "code",
   "execution_count": null,
   "metadata": {},
   "outputs": [],
   "source": [
    "## needed to import data from hydroshare and create new hydroshare resources with your results\n",
    "import os\n",
    "from utilities import hydroshare\n",
    "hs=hydroshare.hydroshare()\n",
    "print('This is the list of folders in your directory for this HydroShare resource.')\n",
    "os.getcwd()"
   ]
  },
  {
   "cell_type": "markdown",
   "metadata": {},
   "source": [
    "### 6.2. List files to export to new HydroShare resource\n",
    "The name of files listed below need to be consistent with what exist in your file directory"
   ]
  },
  {
   "cell_type": "code",
   "execution_count": null,
   "metadata": {},
   "outputs": [],
   "source": [
    "ThisNotebook='Explore_Routing_Tutorial.ipynb' #check name for consistency\n",
    "modelresults='Square_HigherIntensity_OverlandFlow_flow.csv'\n",
    "animation='animation.mp4'\n",
    "hydrograph='Square_HigherIntensity_OverlandFlow_3.0hr_map.png'\n",
    "\n",
    "files=[ThisNotebook,\n",
    "       modelresults,\n",
    "       animation,\n",
    "       hydrograph]"
   ]
  },
  {
   "cell_type": "markdown",
   "metadata": {},
   "source": [
    "### 6.3. Generate a new HydroShare resource with Title, Abstract, Keyword and files (listed above). \n",
    "The metadata can be edited from HydroShare once the new resource is created.  "
   ]
  },
  {
   "cell_type": "code",
   "execution_count": null,
   "metadata": {},
   "outputs": [],
   "source": [
    "# for each file downloaded onto the server folder, move to a new HydroShare Generic Resource\n",
    "title = 'Test Delete'\n",
    "abstract = 'abstract text '\n",
    "keywords = ['Landlab', 'routing'] \n",
    "rtype = 'genericresource'  \n",
    "\n",
    "#create the new resource\n",
    "resource_id = hs.createHydroShareResource(abstract, \n",
    "                                          title,\n",
    "                                          keywords=keywords, \n",
    "                                          resource_type=rtype, \n",
    "                                          content_files=files, \n",
    "                                          public=False)"
   ]
  },
  {
   "cell_type": "markdown",
   "metadata": {},
   "source": [
    "## Clean up - be a good community data steward - Thank You!\n",
    "After checking that all of the files you want are saved on HydroShare, use shell scripting from the Notebook to view and delete data.  \n"
   ]
  },
  {
   "cell_type": "code",
   "execution_count": null,
   "metadata": {},
   "outputs": [],
   "source": [
    "#Print current working directory and make sure you are in the correct directory you want to clean up\n",
    "!pwd\n",
    "#List files in directory with date of creation. Check that you don’t need any of these files. \n",
    "!ls -lt "
   ]
  },
  {
   "cell_type": "code",
   "execution_count": null,
   "metadata": {},
   "outputs": [],
   "source": [
    "#Remove all files you created. This will not remove the Notebook you are using now.   \n",
    "!rm *png\n",
    "!rm *mp4\n",
    "!rm *csv\n",
    "#List everything remaining in the folder - this should be only what you downloaded from HydroShare. Note that all of this will be overwritten the next time you Open With from the HydroShare webpage for this resource, execute the Welcome page, and answer ‘Yes’ to download the data again from HydroShare.  \n",
    "!ls -lt"
   ]
  },
  {
   "cell_type": "code",
   "execution_count": null,
   "metadata": {},
   "outputs": [],
   "source": []
  },
  {
   "cell_type": "code",
   "execution_count": null,
   "metadata": {},
   "outputs": [],
   "source": []
  }
 ],
 "metadata": {
  "anaconda-cloud": {},
  "kernelspec": {
   "display_name": "Python 2.7",
   "language": "python",
   "name": "python2"
  },
  "language_info": {
   "codemirror_mode": {
    "name": "ipython",
    "version": 2
   },
   "file_extension": ".py",
   "mimetype": "text/x-python",
   "name": "python",
   "nbconvert_exporter": "python",
   "pygments_lexer": "ipython2",
   "version": "2.7.14"
  }
 },
 "nbformat": 4,
 "nbformat_minor": 2
}
