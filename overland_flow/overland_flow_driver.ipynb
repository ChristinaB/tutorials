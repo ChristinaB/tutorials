{
 "cells": [
  {
   "cell_type": "markdown",
   "metadata": {},
   "source": [
    "<a href=\"http://landlab.github.io\"><img style=\"float: left\" src=\"https://raw.githubusercontent.com/landlab/tutorials/master/landlab_header.png\"></a>"
   ]
  },
  {
   "cell_type": "markdown",
   "metadata": {},
   "source": [
    "# The deAlmeida Overland Flow Component "
   ]
  },
  {
   "cell_type": "markdown",
   "metadata": {},
   "source": [
    "<hr>\n",
    "<small> For instructions on how to run an interactive iPython notebook, click here: <a href=\"https://github.com/landlab/tutorials/blob/master/README.md\">https://github.com/landlab/tutorials/blob/master/README.md</a></small><br>\n",
    "<small>For the unexpanded version to download and run, click here: <a href=\"https://nbviewer.jupyter.org/github/landlab/tutorials/blob/master/overland_flow/overland_flow_driver_unexpanded.ipynb\">https://nbviewer.jupyter.org/github/landlab/tutorials/blob/master/overland_flow/overland_flow_driver_unexpanded.ipynb</a></small><br>\n",
    "<small>For more Landlab tutorials, click here: <a href=\"https://github.com/landlab/landlab/wiki/Tutorials\">https://github.com/landlab/landlab/wiki/Tutorials</a></small>\n",
    "<hr>"
   ]
  },
  {
   "cell_type": "markdown",
   "metadata": {},
   "source": [
    "This notebook illustrates running the deAlmeida overland flow component in an extremely simple-minded way on a real topography, then shows it creating a flood sequence along an inclined surface with an oscillating water surface at one end.\n",
    "\n",
    "First, import what we'll need:"
   ]
  },
  {
   "cell_type": "code",
   "execution_count": 2,
   "metadata": {
    "collapsed": false
   },
   "outputs": [
    {
     "name": "stderr",
     "output_type": "stream",
     "text": [
      "/Users/erkan/landlab/landlab/components/stream_power/stream_power.py:18: UserWarning: Unable to import stream_power extension module.\n",
      "  warnings.warn('Unable to import stream_power extension module.')\n",
      "/Users/erkan/landlab/landlab/components/gflex/flexure.py:35: UserWarning: gFlex not installed.\n",
      "  warnings.warn(\"gFlex not installed.\")\n",
      "To use the gFlex component you must have gFlex installed on your machine.\n",
      "For installation instructions see gFlex on GitHub:\n",
      "\n",
      "  https://github.com/awickert/gFlex\n"
     ]
    }
   ],
   "source": [
    "from __future__ import print_function\n",
    "\n",
    "from landlab.components.overland_flow import OverlandFlow\n",
    "from landlab.plot.imshow import imshow_grid\n",
    "from landlab.plot.colors import water_colormap\n",
    "from landlab import RasterModelGrid\n",
    "from landlab.io.esri_ascii import read_esri_ascii\n",
    "from matplotlib.pyplot import figure\n",
    "import numpy as np\n",
    "from time import time\n",
    "%matplotlib inline"
   ]
  },
  {
   "cell_type": "markdown",
   "metadata": {},
   "source": [
    "Pick the initial and run conditions"
   ]
  },
  {
   "cell_type": "code",
   "execution_count": 3,
   "metadata": {
    "collapsed": true
   },
   "outputs": [],
   "source": [
    "run_time = 200           # duration of run, (s)\n",
    "h_init = 0.05           # initial thin layer of water (m)\n",
    "n = 0.05                  # roughness coefficient, (s/m^(1/3))\n",
    "g = 9.8                   # gravity (m/s^2)\n",
    "alpha = 0.7               # time-step factor (nondimensional; from Bates et al., 2010)\n",
    "u = 0.4                   # constant velocity (m/s, de Almeida et al., 2012)\n",
    "run_time_slices = (10,50,100)"
   ]
  },
  {
   "cell_type": "markdown",
   "metadata": {},
   "source": [
    "Elapsed time starts at 1 second. This prevents errors when setting our boundary conditions."
   ]
  },
  {
   "cell_type": "code",
   "execution_count": 4,
   "metadata": {
    "collapsed": true
   },
   "outputs": [],
   "source": [
    "elapsed_time = 1.0"
   ]
  },
  {
   "cell_type": "markdown",
   "metadata": {},
   "source": [
    "Use Landlab methods to import an ARC ascii grid, and load the data into the field that the component needs to look at to get the data. This loads the elevation data, z, into a \"field\" in the grid itself, defined on the nodes."
   ]
  },
  {
   "cell_type": "code",
   "execution_count": 5,
   "metadata": {
    "collapsed": false
   },
   "outputs": [],
   "source": [
    "rmg, z = read_esri_ascii('DEM_10m.asc')\n",
    "rmg.add_field('node', 'topographic__elevation', z)\n",
    "rmg.set_closed_boundaries_at_grid_edges(True, True, True, True)"
   ]
  },
  {
   "cell_type": "markdown",
   "metadata": {},
   "source": [
    "We can get at this data with this syntax:"
   ]
  },
  {
   "cell_type": "code",
   "execution_count": 6,
   "metadata": {
    "collapsed": false
   },
   "outputs": [
    {
     "data": {
      "text/plain": [
       "True"
      ]
     },
     "execution_count": 6,
     "metadata": {},
     "output_type": "execute_result"
    }
   ],
   "source": [
    "np.all(rmg.at_node['topographic__elevation'] == z)"
   ]
  },
  {
   "cell_type": "markdown",
   "metadata": {},
   "source": [
    "Note that the boundary conditions for this grid mainly got handled with the final line of those three, but for the sake of completeness, we should probably manually \"open\" the outlet. We can find and set the outlet like this:"
   ]
  },
  {
   "cell_type": "code",
   "execution_count": 7,
   "metadata": {
    "collapsed": true
   },
   "outputs": [],
   "source": [
    "my_outlet_node = 1406 # This DEM was generated using Landlab and the outlet node ID was known\n",
    "rmg.status_at_node[my_outlet_node] = 1  # 1 is the code for fixed value"
   ]
  },
  {
   "cell_type": "markdown",
   "metadata": {},
   "source": [
    "Now initialize a couple more grid fields that the component is going to need:"
   ]
  },
  {
   "cell_type": "code",
   "execution_count": 8,
   "metadata": {
    "collapsed": false
   },
   "outputs": [
    {
     "data": {
      "text/plain": [
       "array([ 0.,  0.,  0., ...,  0.,  0.,  0.])"
      ]
     },
     "execution_count": 8,
     "metadata": {},
     "output_type": "execute_result"
    }
   ],
   "source": [
    "rmg.add_zeros('node', 'water__depth')                   # water depth (m)"
   ]
  },
  {
   "cell_type": "code",
   "execution_count": 9,
   "metadata": {
    "collapsed": true
   },
   "outputs": [],
   "source": [
    "rmg.at_node['water__depth'] += h_init"
   ]
  },
  {
   "cell_type": "markdown",
   "metadata": {},
   "source": [
    "Let's look at our watershed topography"
   ]
  },
  {
   "cell_type": "code",
   "execution_count": 10,
   "metadata": {
    "collapsed": false
   },
   "outputs": [
    {
     "data": {
      "image/png": "[encoded data removed]",
      "text/plain": [
       "<matplotlib.figure.Figure at 0x10d81dd50>"
      ]
     },
     "metadata": {},
     "output_type": "display_data"
    }
   ],
   "source": [
    "imshow_grid(rmg, 'topographic__elevation')"
   ]
  },
  {
   "cell_type": "markdown",
   "metadata": {},
   "source": [
    "Now instantiate the component itself"
   ]
  },
  {
   "cell_type": "code",
   "execution_count": 11,
   "metadata": {
    "collapsed": true
   },
   "outputs": [],
   "source": [
    "of = OverlandFlow(rmg, steep_slopes = True) #for stability in steeper environments, we set the steep_slopes flag to True"
   ]
  },
  {
   "cell_type": "markdown",
   "metadata": {},
   "source": [
    "Now we're going to run the loop that drives the component:"
   ]
  },
  {
   "cell_type": "code",
   "execution_count": 12,
   "metadata": {
    "collapsed": false
   },
   "outputs": [
    {
     "name": "stdout",
     "output_type": "stream",
     "text": [
      "Elapsed time:  1.0\n",
      "Elapsed time:  10.9939025202\n",
      "Elapsed time:  18.4429176521\n",
      "Elapsed time:  24.5026111378\n",
      "Elapsed time:  29.6466712313\n",
      "Elapsed time:  34.1356793996\n",
      "Elapsed time:  38.1284966783\n",
      "Elapsed time:  41.7306762249\n",
      "Elapsed time:  45.0170485313\n",
      "Elapsed time:  48.0428030876\n",
      "Elapsed time:  50.8496944461\n",
      "Elapsed time:  53.4738807001\n",
      "Elapsed time:  55.9409886125\n",
      "Elapsed time:  58.2719876304\n",
      "Elapsed time:  60.4883251576\n",
      "Elapsed time:  62.6084920291\n",
      "Elapsed time:  64.646299835\n",
      "Elapsed time:  66.6319582175\n",
      "Elapsed time:  68.5953535358\n",
      "Elapsed time:  70.5467509445\n",
      "Elapsed time:  72.48491325\n",
      "Elapsed time:  74.4162940728\n",
      "Elapsed time:  76.3408837212\n",
      "Elapsed time:  78.2566105627\n",
      "Elapsed time:  80.1403406542\n",
      "Elapsed time:  81.9588131282\n",
      "Elapsed time:  83.7161631433\n",
      "Elapsed time:  85.416133421\n",
      "Elapsed time:  87.0626609013\n",
      "Elapsed time:  88.6590659829\n",
      "Elapsed time:  90.2044550448\n",
      "Elapsed time:  91.7036516675\n",
      "Elapsed time:  93.1623777878\n",
      "Elapsed time:  94.5868384615\n",
      "Elapsed time:  95.9830888788\n",
      "Elapsed time:  97.3572504582\n",
      "Elapsed time:  98.7149076184\n",
      "Elapsed time:  100.060097341\n",
      "Elapsed time:  101.39483512\n",
      "Elapsed time:  102.720120892\n",
      "Elapsed time:  104.034213285\n",
      "Elapsed time:  105.334772781\n",
      "Elapsed time:  106.61980549\n",
      "Elapsed time:  107.888261576\n",
      "Elapsed time:  109.140402628\n",
      "Elapsed time:  110.378082781\n",
      "Elapsed time:  111.603938539\n",
      "Elapsed time:  112.820403245\n",
      "Elapsed time:  114.029227839\n",
      "Elapsed time:  115.231395244\n",
      "Elapsed time:  116.427389725\n",
      "Elapsed time:  117.617525748\n",
      "Elapsed time:  118.802237897\n",
      "Elapsed time:  119.982083682\n",
      "Elapsed time:  121.157655826\n",
      "Elapsed time:  122.329335044\n",
      "Elapsed time:  123.497202986\n",
      "Elapsed time:  124.661398771\n",
      "Elapsed time:  125.82180318\n",
      "Elapsed time:  126.978054939\n",
      "Elapsed time:  128.129803917\n",
      "Elapsed time:  129.276787582\n",
      "Elapsed time:  130.418982036\n",
      "Elapsed time:  131.556503111\n",
      "Elapsed time:  132.689605263\n",
      "Elapsed time:  133.818533868\n",
      "Elapsed time:  134.943549451\n",
      "Elapsed time:  136.06484807\n",
      "Elapsed time:  137.182637672\n",
      "Elapsed time:  138.297077945\n",
      "Elapsed time:  139.40833077\n",
      "Elapsed time:  140.516490932\n",
      "Elapsed time:  141.621634451\n",
      "Elapsed time:  142.723793608\n",
      "Elapsed time:  143.823025933\n",
      "Elapsed time:  144.91943794\n",
      "Elapsed time:  146.013219827\n",
      "Elapsed time:  147.104608352\n",
      "Elapsed time:  148.193863221\n",
      "Elapsed time:  149.281221236\n",
      "Elapsed time:  150.36688086\n",
      "Elapsed time:  151.451001917\n",
      "Elapsed time:  152.533704899\n",
      "Elapsed time:  153.615080105\n",
      "Elapsed time:  154.695194079\n",
      "Elapsed time:  155.774129147\n",
      "Elapsed time:  156.851958739\n",
      "Elapsed time:  157.928767321\n",
      "Elapsed time:  159.004615902\n",
      "Elapsed time:  160.079559517\n",
      "Elapsed time:  161.153619674\n",
      "Elapsed time:  162.226810763\n",
      "Elapsed time:  163.299121867\n",
      "Elapsed time:  164.370550932\n",
      "Elapsed time:  165.441092559\n",
      "Elapsed time:  166.510771963\n",
      "Elapsed time:  167.579624373\n",
      "Elapsed time:  168.647714739\n",
      "Elapsed time:  169.715128479\n",
      "Elapsed time:  170.781924577\n",
      "Elapsed time:  171.848150573\n",
      "Elapsed time:  172.913817596\n",
      "Elapsed time:  173.97893331\n",
      "Elapsed time:  175.043484095\n",
      "Elapsed time:  176.107466337\n",
      "Elapsed time:  177.170863798\n",
      "Elapsed time:  178.233677456\n",
      "Elapsed time:  179.295902404\n",
      "Elapsed time:  180.357555817\n",
      "Elapsed time:  181.418651284\n",
      "Elapsed time:  182.479220768\n",
      "Elapsed time:  183.539286075\n",
      "Elapsed time:  184.59888019\n",
      "Elapsed time:  185.658135273\n",
      "Elapsed time:  186.717277665\n",
      "Elapsed time:  187.776482361\n",
      "Elapsed time:  188.835789047\n",
      "Elapsed time:  189.895065378\n",
      "Elapsed time:  190.954111872\n",
      "Elapsed time:  192.012744659\n",
      "Elapsed time:  193.070881374\n",
      "Elapsed time:  194.128513159\n",
      "Elapsed time:  195.185685533\n",
      "Elapsed time:  196.242436164\n",
      "Elapsed time:  197.298806624\n",
      "Elapsed time:  198.354827513\n",
      "Elapsed time:  199.410550354\n"
     ]
    }
   ],
   "source": [
    "while elapsed_time < run_time:\n",
    "    # First, we calculate our time step.\n",
    "    dt = of.calc_time_step()\n",
    "    # Now, we can generate overland flow.\n",
    "    of.overland_flow()\n",
    "    # Increased elapsed time\n",
    "    print('Elapsed time: ', elapsed_time)\n",
    "    elapsed_time += dt"
   ]
  },
  {
   "cell_type": "code",
   "execution_count": 13,
   "metadata": {
    "collapsed": false
   },
   "outputs": [
    {
     "data": {
      "image/png": "[encoded data removed]",
      "text/plain": [
       "<matplotlib.figure.Figure at 0x10da7cf90>"
      ]
     },
     "metadata": {},
     "output_type": "display_data"
    }
   ],
   "source": [
    "imshow_grid(rmg, 'water__depth', cmap='Blues')"
   ]
  },
  {
   "cell_type": "markdown",
   "metadata": {},
   "source": [
    "Now let's get clever, and run a set of time slices:"
   ]
  },
  {
   "cell_type": "code",
   "execution_count": 14,
   "metadata": {
    "collapsed": false
   },
   "outputs": [
    {
     "data": {
      "image/png": "[encoded data removed]",
      "text/plain": [
       "<matplotlib.figure.Figure at 0x10d946a10>"
      ]
     },
     "metadata": {},
     "output_type": "display_data"
    },
    {
     "data": {
      "image/png": "[encoded data removed]",
      "text/plain": [
       "<matplotlib.figure.Figure at 0x10e389210>"
      ]
     },
     "metadata": {},
     "output_type": "display_data"
    },
    {
     "data": {
      "image/png": "[encoded data removed]",
      "text/plain": [
       "<matplotlib.figure.Figure at 0x10e1b0710>"
      ]
     },
     "metadata": {},
     "output_type": "display_data"
    }
   ],
   "source": [
    "elapsed_time = 1.\n",
    "for t in run_time_slices:\n",
    "    while elapsed_time < t:\n",
    "        # First, we calculate our time step.\n",
    "        dt = of.calc_time_step()\n",
    "        # Now, we can generate overland flow.\n",
    "        of.overland_flow()\n",
    "        # Increased elapsed time\n",
    "        elapsed_time += dt\n",
    "    figure(t)\n",
    "    imshow_grid(rmg, 'water__depth', cmap='Blues')"
   ]
  },
  {
   "cell_type": "markdown",
   "metadata": {
    "collapsed": true
   },
   "source": [
    "### Click here for more <a href=\"https://github.com/landlab/landlab/wiki/Tutorials\">Landlab tutorials</a>"
   ]
  },
  {
   "cell_type": "code",
   "execution_count": null,
   "metadata": {
    "collapsed": true
   },
   "outputs": [],
   "source": []
  }
 ],
 "metadata": {
  "anaconda-cloud": {},
  "kernelspec": {
   "display_name": "Python [Root]",
   "language": "python",
   "name": "Python [Root]"
  },
  "language_info": {
   "codemirror_mode": {
    "name": "ipython",
    "version": 2
   },
   "file_extension": ".py",
   "mimetype": "text/x-python",
   "name": "python",
   "nbconvert_exporter": "python",
   "pygments_lexer": "ipython2",
   "version": "2.7.12"
  }
 },
 "nbformat": 4,
 "nbformat_minor": 0
}
