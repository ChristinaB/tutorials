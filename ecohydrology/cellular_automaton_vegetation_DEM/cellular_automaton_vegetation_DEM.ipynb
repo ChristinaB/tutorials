{
 "cells": [
  {
   "cell_type": "markdown",
   "metadata": {},
   "source": [
    "<a href=\"http://landlab.github.io\"><img style=\"float: left\" src=\"https://raw.githubusercontent.com/landlab/tutorials/master/landlab_header.png\"></a>"
   ]
  },
  {
   "cell_type": "markdown",
   "metadata": {},
   "source": [
    "### Tutorial For Cellular Automaton Vegetation Model Coupled With Ecohydrologic Model"
   ]
  },
  {
   "cell_type": "markdown",
   "metadata": {},
   "source": [
    "<hr>\n",
    "<small> For instructions on how to run an interactive iPython notebook, click here: <a href=\"https://github.com/landlab/tutorials/blob/master/README.md\">https://github.com/landlab/tutorials/blob/master/README.md</a></small><br>\n",
    "<small>For the unexpanded version to download and run, click here: <a href=\"http://nbviewer.ipython.org/github/landlab/tutorials/blob/master/cellular_automaton_vegetation_DEM/cellular_automaton_vegetation_DEM_unexpanded.ipynb\">http://nbviewer.ipython.org/github/landlab/tutorials/blob/master/cellular_automaton_vegetation_DEM/cellular_automaton_vegetation_DEM_unexpanded.ipynb</a></small><br>\n",
    "<small>For more Landlab tutorials, click here: <a href=\"https://github.com/landlab/landlab/wiki/Tutorials\">https://github.com/landlab/landlab/wiki/Tutorials</a></small>\n",
    "<hr>"
   ]
  },
  {
   "cell_type": "markdown",
   "metadata": {},
   "source": [
    "This tutorial demonstrates implementation of the Cellular Automaton Tree-GRass-Shrub Simulator (CATGRaSS) [Zhou et al., 2013] on a digital elevation model (DEM). This model is built using components from the Landlab component library. CATGRaSS is a spatially explicit model of plant coexistence. It simulates local ecohydrologic dynamics (soil moisture, transpiration, biomass) and spatial evolution of tree, grass, and shrub Plant Functional Types (PFT) driven by rainfall and solar radiation. \n",
    "\n",
    "Each cell in the model grid can hold a single PFT or remain empty. Tree and shrub plants disperse seeds to their neighbors. Grass seeds are assumed to be available at each cell. Establishment of plants in empty cells is determined probabilistically based on water stress for each PFT. Plants with lower water stress have higher probability of establishment. Plant mortality is simulated probabilistically as a result of aging and drought stress. Fires and grazing will be added to this model soon.  \n",
    "\n",
    "This model contains:\n",
    "- A local vegetation dynamics model that simulates storm and inter-storm water balance and ecohydrologic fluxes (ET, runoff), and plant biomass dynamics. This module is built up of the following components:\n",
    "    - PrecipitationDistribution\n",
    "    - Radiation\n",
    "    - PotentialEvapotranspiration\n",
    "    - SoilMoisture\n",
    "    - Vegetation\n",
    "\n",
    "- A spatially explicit probabilistic cellular automaton component that models plant competition by tracking establishment and mortality of plants based on soil moisture stress. The name of the component is:\n",
    "    - VegCA\n",
    "    \n",
    "To run this IPython notebook, please make sure that the following files are in the same folder:\n",
    " - cellular_automaton_vegetation_DEM.ipynb (this notebook)\n",
    " - Inputs_Vegetation_CA.txt\n",
    " - Ecohyd_functions_DEM.py\n",
    "    \n",
    "[Ref: Zhou, X, E. Istanbulluoglu, and E.R. Vivoni. \"Modeling the ecohydrological role of aspect-controlled radiation on tree-grass-shrub coexistence in a semiarid climate.\" Water Resources Research 49.5 (2013): 2872-2895]"
   ]
  },
  {
   "cell_type": "markdown",
   "metadata": {},
   "source": [
    "#### Let's walk through the code:"
   ]
  },
  {
   "cell_type": "markdown",
   "metadata": {},
   "source": [
    "Import the required libraries:"
   ]
  },
  {
   "cell_type": "code",
   "execution_count": 1,
   "metadata": {
    "collapsed": false
   },
   "outputs": [],
   "source": [
    "import time\n",
    "import numpy as np\n",
    "from landlab.io import read_esri_ascii\n",
    "from landlab import RasterModelGrid as rmg\n",
    "from Ecohyd_functions_DEM import txt_data_dict, Initialize_, \\\n",
    "                    Empty_arrays, Create_PET_lookup, Save_, Plot_\n",
    "%matplotlib inline"
   ]
  },
  {
   "cell_type": "markdown",
   "metadata": {},
   "source": [
    "Note: Ecohyd_functions_DEM contains methods that help keep this driver concise. In practice, all the methods/commands in Ecohyd_functions_DEM can be a part of this driver."
   ]
  },
  {
   "cell_type": "markdown",
   "metadata": {},
   "source": [
    "Initialize domain by instantiating two grids:\n",
    "- grid: We shall simulate cellular automaton vegetation competition coupled with vegetation dynamics on this grid. You can select the dimensions and spacing of the grid. Each cell can be occupied by a single PFT such as tree, shrub, grass, tree seedling/shrub seedling, or can be empty (bare).\n",
    "- grid1: this grid contains enough cells to represent each PFT (6 cells in our case). This is a representative grid which will be used to compute plant-specific potential evapotranspiration lookup arrays."
   ]
  },
  {
   "cell_type": "code",
   "execution_count": 2,
   "metadata": {
    "collapsed": false
   },
   "outputs": [],
   "source": [
    "(grid,elevation) = read_esri_ascii('DEM_10m.asc') # Read the DEM\n",
    "grid1 = rmg(5,4,5)   # Representative grid"
   ]
  },
  {
   "cell_type": "markdown",
   "metadata": {},
   "source": [
    "Include the input file that contains all input parameters needed for all components. This file can either be a Python dictionary or a text file that can be converted into a Python dictionary."
   ]
  },
  {
   "cell_type": "code",
   "execution_count": 3,
   "metadata": {
    "collapsed": false
   },
   "outputs": [],
   "source": [
    "InputFile = 'Inputs_Vegetation_CA.txt'\n",
    "data = txt_data_dict( InputFile ) # Create dictionary that holds the inputs"
   ]
  },
  {
   "cell_type": "markdown",
   "metadata": {},
   "source": [
    "Instantiate Landlab components to simulate corresponding attributes. In this example, we shall demonstrate the use of seasonal rainfall and PFT-specific potential evapotranspiration. The instantiated objects are:\n",
    "- PD_D: object for dry season rainfall, \n",
    "- PD_W: object for wet season rainfall, \n",
    "- Rad: Radiation object computes radiation factor defined as the ratio of total shortwave radiation incident on a sloped surface to total shortwave radiation incident on a flat surface. \n",
    "- Rad_PET: Representative radiation object which is used only as an input for PET.\n",
    "- PET_PFT: Plant specific PET objects (we use a cosine function to represent Penman Monteith PET as a function of Day Of the Year (DOY) to reduce computation overhead). This value is spatially distributed by using a radiation factor.\n",
    "- SM: Soil Moisture object simulates root-zone average soil moisture at each cell using inputs of potential evapotranspiration, live leaf area index, and vegetation cover.\n",
    "- VEG: Vegetation dynamics object simulates net primary productivity and biomass and thus leaf area index at each cell based on inputs of root-zone average soil moisture.\n",
    "- vegca: Cellular Automaton plant competition object is run once every year. This object is initialized with a random cellular field of PFT. Each year, this object updates the cellular field of PFT based on probabilistic establishment and mortality of PFT at each cell.\n",
    "\n",
    "Note: Almost every component in Landlab is coded as a 'class' (to harness the advantages of object oriented programming). An 'object' is the instantiation of the 'class' (for more information, please refer any object oriented programming book). A 'field' refers to a Landlab field (please refer to the [Landlab documentation](https://github.com/landlab/landlab/wiki/Grid#adding-data-to-a-landlab-grid-element-using-fields) to learn more about Landlab fields)."
   ]
  },
  {
   "cell_type": "code",
   "execution_count": 8,
   "metadata": {
    "collapsed": false
   },
   "outputs": [
    {
     "name": "stderr",
     "output_type": "stream",
     "text": [
      "/Users/jennyknuth/anaconda/lib/python2.7/site-packages/landlab/components/vegetation_ca/CA_Veg_new.py:101: VisibleDeprecationWarning: boolean index did not match indexed array along dimension 0; dimension is 3315 but corresponding boolean dimension is 1078\n",
      "  VegType[tp[VegType == TREE] < self._tpmax_tr_s] = TREESEEDLING\n",
      "/Users/jennyknuth/anaconda/lib/python2.7/site-packages/landlab/components/vegetation_ca/CA_Veg_new.py:102: VisibleDeprecationWarning: boolean index did not match indexed array along dimension 0; dimension is 3315 but corresponding boolean dimension is 531\n",
      "  VegType[tp[VegType == SHRUB] < self._tpmax_sh_s] = SHRUBSEEDLING\n"
     ]
    }
   ],
   "source": [
    "PD_D, PD_W, Rad, Rad_PET, PET_Tree, PET_Shrub, PET_Grass, SM, VEG, vegca =    \\\n",
    "                                Initialize_( data, grid, grid1, elevation )"
   ]
  },
  {
   "cell_type": "markdown",
   "metadata": {},
   "source": [
    "Specify an approximate number of years for the model to run. In the use of 66 below refers to the average number of storms observed in central New Mexico. This number should be changed for different locations.\n",
    "\n",
    "IMPORTANT: \n",
    "This code in numerically extensive. It might take an hour or more to run this simulation for 300 years."
   ]
  },
  {
   "cell_type": "code",
   "execution_count": null,
   "metadata": {
    "collapsed": false
   },
   "outputs": [],
   "source": [
    "n_years = 50      # Approx number of years for model to run\n",
    "n = n_years * 66   # Number of storms the model will be run for"
   ]
  },
  {
   "cell_type": "markdown",
   "metadata": {},
   "source": [
    "Create empty arrays to store spatio-temporal data over multiple iterations. The captured data can be used for plotting model outputs."
   ]
  },
  {
   "cell_type": "code",
   "execution_count": null,
   "metadata": {
    "collapsed": false
   },
   "outputs": [],
   "source": [
    "P, Tb, Tr, Time, CumWaterStress, VegType, PET_, Rad_Factor, \\\n",
    "                    EP30, PET_threshold = Empty_arrays(n, grid, grid1)"
   ]
  },
  {
   "cell_type": "markdown",
   "metadata": {},
   "source": [
    "To reduce computational overhead, we shall create a lookup array for plant specific PET values for each day of a year"
   ]
  },
  {
   "cell_type": "code",
   "execution_count": null,
   "metadata": {
    "collapsed": false
   },
   "outputs": [],
   "source": [
    "Create_PET_lookup( Rad, PET_Tree, PET_Shrub, PET_Grass,  PET_, Rad_Factor, \\\n",
    "                        EP30, Rad_PET, grid )"
   ]
  },
  {
   "cell_type": "markdown",
   "metadata": {},
   "source": [
    "Specify starting time (in years)"
   ]
  },
  {
   "cell_type": "code",
   "execution_count": 7,
   "metadata": {
    "collapsed": false
   },
   "outputs": [],
   "source": [
    "## Represent current time in years \n",
    "current_time = 0            # Start from first day of Jan\n",
    "# Keep track of run time for simulation—optional\n",
    "Start_time = time.clock()     # Recording time taken for simulation\n",
    "# declaring few buffers used in storm loop\n",
    "time_check = 0.     # Buffer to store current_time at previous storm\n",
    "yrs = 0             # Keep track of number of years passed\n",
    "WS = 0.             # Buffer for Water Stress\n",
    "Tg = 365        # Growing season in days"
   ]
  },
  {
   "cell_type": "markdown",
   "metadata": {},
   "source": [
    "The loop below couples the components introduced above in a for loop until all \"n\" number of storms are generated. Time is advanced by the soil moisture object based on storm and interstorm durations that are estimated by the strom generator object. The ecohydrologic model is run on each storm whereas cellular automaton vegetation component is run once every year.\n",
    "\n",
    "Note: This loop might take around 10 minutes (depending on your computer) to run for a 50 year simulation."
   ]
  },
  {
   "cell_type": "code",
   "execution_count": null,
   "metadata": {
    "collapsed": false
   },
   "outputs": [],
   "source": [
    "## Run storm Loop\n",
    "for i in range(0, n):\n",
    "    # Update objects\n",
    "    Julian = np.floor( (current_time - np.floor( current_time )) * 365.)\n",
    "    if Julian < 182 or Julian > 273:  # Dry Season\n",
    "        PD_D.update()\n",
    "        P[i] = PD_D.storm_depth\n",
    "        Tr[i] = PD_D.storm_duration\n",
    "        Tb[i] = PD_D.interstorm_duration\n",
    "    else:                             # Wet Season—Jul to Sep—NA Monsoon\n",
    "        PD_W.update()\n",
    "        P[i] = PD_W.storm_depth\n",
    "        Tr[i] = PD_W.storm_duration\n",
    "        Tb[i] = PD_W.interstorm_duration\n",
    "\n",
    "    grid['cell']['PotentialEvapotranspiration'] =  \\\n",
    "            (np.choose(grid['cell']['VegetationType'],PET_[Julian])) * \\\n",
    "                        Rad_Factor[Julian]\n",
    "    grid['cell']['PotentialEvapotranspiration30'] =  \\\n",
    "            (np.choose(grid['cell']['VegetationType'],EP30[Julian])) * \\\n",
    "                        Rad_Factor[Julian]\n",
    "    current_time = SM.update( current_time, P = P[i], Tr = Tr[i], Tb = Tb[i] )\n",
    "    if Julian != 364:\n",
    "        if EP30[Julian + 1,0] > EP30[Julian,0]:\n",
    "            PET_threshold = 1  # 1 corresponds to ETThresholdup\n",
    "        else:\n",
    "            PET_threshold = 0  # 0 corresponds to ETThresholddown\n",
    "    VEG.update(PotentialEvapotranspirationThreshold = PET_threshold)\n",
    "\n",
    "    WS += (grid['cell']['WaterStress'])*Tb[i]/24.\n",
    "    Time[i] = current_time\n",
    "\n",
    "    # Cellular Automata\n",
    "    if (current_time - time_check) >= 1.:\n",
    "        VegType[yrs] = grid['cell']['VegetationType']\n",
    "        CumWaterStress[yrs] = WS/Tg\n",
    "        grid['cell']['CumulativeWaterStress'] = CumWaterStress[yrs]\n",
    "        vegca.update()\n",
    "        SM.initialize(  data, VEGTYPE = grid['cell']['VegetationType'])\n",
    "        VEG.initialize( data, VEGTYPE = grid['cell']['VegetationType'] )\n",
    "        time_check = current_time\n",
    "        WS = 0\n",
    "        i_check = i\n",
    "        yrs += 1\n",
    "VegType[yrs] = grid['cell']['VegetationType']"
   ]
  },
  {
   "cell_type": "markdown",
   "metadata": {},
   "source": [
    "Time_Consumed is an optional variable that gives information about computer running time"
   ]
  },
  {
   "cell_type": "code",
   "execution_count": null,
   "metadata": {
    "collapsed": false
   },
   "outputs": [],
   "source": [
    "Final_time = time.clock()\n",
    "Time_Consumed = (Final_time - Start_time)/60.    # in minutes"
   ]
  },
  {
   "cell_type": "markdown",
   "metadata": {},
   "source": [
    "Save the outputs using ``numpy.save``. these files have '.nc' extension, which can be loaded using ``numpy.load``."
   ]
  },
  {
   "cell_type": "code",
   "execution_count": null,
   "metadata": {
    "collapsed": false
   },
   "outputs": [],
   "source": [
    "## Saving\n",
    "sim = 'VegCA_DEM_25May15_'\n",
    "Save_( sim, Tb, Tr, P, VegType, CumWaterStress, yrs, Time_Consumed, Time )"
   ]
  },
  {
   "cell_type": "markdown",
   "metadata": {},
   "source": [
    "Lets look at outputs.\n",
    "\n",
    "Plots of the cellular field of PFT at specified year step can be found below where:\n",
    "\n",
    "GRASS = Green;  SHRUB = Red;  TREE = Black;  BARE = White;\n",
    "\n",
    "At the end, percentage cover for each PFT is plotted with respect to time."
   ]
  },
  {
   "cell_type": "code",
   "execution_count": null,
   "metadata": {
    "collapsed": false
   },
   "outputs": [],
   "source": [
    "Plot_( grid, VegType, yrs, yr_step=10 )"
   ]
  },
  {
   "cell_type": "markdown",
   "metadata": {},
   "source": [
    "#### If you run this model for around 900 years, you will observe patterns of PFTs. For example, you will find more trees on north facing slopes and mostly shrubs and grass on south facing slopes, as shown below:"
   ]
  },
  {
   "cell_type": "code",
   "execution_count": null,
   "metadata": {
    "collapsed": false
   },
   "outputs": [],
   "source": [
    "%cd long_sim_images\n",
    "from IPython.display import Image\n",
    "Image(filename = 'presentation.png')"
   ]
  },
  {
   "cell_type": "code",
   "execution_count": null,
   "metadata": {
    "collapsed": false
   },
   "outputs": [],
   "source": [
    "%cd .."
   ]
  },
  {
   "cell_type": "markdown",
   "metadata": {},
   "source": [
    "### Click here for more <a href=\"https://github.com/landlab/landlab/wiki/Tutorials\">Landlab tutorials</a>"
   ]
  }
 ],
 "metadata": {
  "kernelspec": {
   "display_name": "Python 2",
   "language": "python",
   "name": "python2"
  },
  "language_info": {
   "codemirror_mode": {
    "name": "ipython",
    "version": 2
   },
   "file_extension": ".py",
   "mimetype": "text/x-python",
   "name": "python",
   "nbconvert_exporter": "python",
   "pygments_lexer": "ipython2",
   "version": "2.7.11"
  }
 },
 "nbformat": 4,
 "nbformat_minor": 0
}
