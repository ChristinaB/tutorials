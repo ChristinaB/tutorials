{
 "cells": [
  {
   "cell_type": "markdown",
   "metadata": {},
   "source": [
    "<a href=\"http://landlab.github.io\"><img style=\"float: left\" src=\"https://raw.githubusercontent.com/landlab/tutorials/master/landlab_header.png\"></a>"
   ]
  },
  {
   "cell_type": "markdown",
   "metadata": {},
   "source": [
    "# Mapping values between grid elements\n",
    "\n",
    "Imagine that you're using Landlab to write a model of shallow water flow over terrain. A natural approach is to place your scalar fields, such as water depth, at the nodes. You then place your vector fields, such as water surface slope, flow velocity, and discharge, at the links (or, alternatively, faces). But your velocity depends on both slope and depth, which means you need to know the depth at the links too. How do you do this?\n",
    "\n",
    "This tutorial introduces *mappers*: grid functions that map quantities defined on one set of elements (such as nodes) onto another set of elements (such as links). As you'll see, there are a variety of mappers available.\n",
    "\n"
   ]
  },
  {
   "cell_type": "markdown",
   "metadata": {},
   "source": [
    "## Mapping from nodes to links\n",
    "\n",
    "For the sake of example, we'll start with a simple 3-row by 4-column raster grid. The grid will contain a scalar field called *some_field*, abbreviated *h*. We'll populate it with some example values, as follows:"
   ]
  },
  {
   "cell_type": "code",
   "execution_count": 30,
   "metadata": {
    "collapsed": false
   },
   "outputs": [],
   "source": [
    "from landlab import RasterModelGrid\n",
    "import numpy as np\n",
    "mg = RasterModelGrid(3, 4)\n",
    "h = mg.add_zeros('node', 'some_field')\n",
    "h[:] = 7 - np.abs(6 - np.arange(12))"
   ]
  },
  {
   "cell_type": "markdown",
   "metadata": {},
   "source": [
    "For the sake of visualizing values at nodes on our grid, we'll define a handy little function:"
   ]
  },
  {
   "cell_type": "code",
   "execution_count": 31,
   "metadata": {
    "collapsed": false
   },
   "outputs": [],
   "source": [
    "def show_node_values(mg, u):\n",
    "    for r in range(mg.number_of_node_rows - 1, -1, -1):\n",
    "        for c in range(mg.number_of_node_columns):\n",
    "            print int(u[c + (mg.number_of_node_columns * r)]),\n",
    "        print"
   ]
  },
  {
   "cell_type": "code",
   "execution_count": 32,
   "metadata": {
    "collapsed": false
   },
   "outputs": [
    {
     "name": "stdout",
     "output_type": "stream",
     "text": [
      "5 4 3 2\n",
      "5 6 7 6\n",
      "1 2 3 4\n"
     ]
    }
   ],
   "source": [
    "show_node_values(mg, h)"
   ]
  },
  {
   "cell_type": "markdown",
   "metadata": {},
   "source": [
    "Let's review the numbering of nodes and links. The lines below will print a list that shows, for each link ID, the IDs of the nodes at the link's tail and head:"
   ]
  },
  {
   "cell_type": "code",
   "execution_count": 28,
   "metadata": {
    "collapsed": false
   },
   "outputs": [
    {
     "name": "stdout",
     "output_type": "stream",
     "text": [
      "0 0 1\n",
      "1 1 2\n",
      "2 2 3\n",
      "3 0 4\n",
      "4 1 5\n",
      "5 2 6\n",
      "6 3 7\n",
      "7 4 5\n",
      "8 5 6\n",
      "9 6 7\n",
      "10 4 8\n",
      "11 5 9\n",
      "12 6 10\n",
      "13 7 11\n",
      "14 8 9\n",
      "15 9 10\n",
      "16 10 11\n"
     ]
    }
   ],
   "source": [
    "for i in range(mg.number_of_links):\n",
    "    print i, mg.node_at_link_tail[i], mg.node_at_link_head[i]"
   ]
  },
  {
   "cell_type": "markdown",
   "metadata": {},
   "source": [
    "### Finding the mean value between two nodes on a link\n",
    "\n",
    "Let's imagine that *h* represents water depth, and that we want to have a *link-based* array, called *h_edge*, that also contains water depth. For each link, we'll simply take the average of the depth at the link's two nodes. To accomplish this, we can use the `map_mean_of_link_nodes_to_link` grid method. At link 8, for example, we'll average the *h* values at nodes 5 and 6, which should give us a depth of (6 + 7) / 2 = 6.5:"
   ]
  },
  {
   "cell_type": "code",
   "execution_count": 33,
   "metadata": {
    "collapsed": false
   },
   "outputs": [
    {
     "name": "stdout",
     "output_type": "stream",
     "text": [
      "0 1.5\n",
      "1 2.5\n",
      "2 3.5\n",
      "3 3.0\n",
      "4 4.0\n",
      "5 5.0\n",
      "6 5.0\n",
      "7 5.5\n",
      "8 6.5\n",
      "9 6.5\n",
      "10 5.0\n",
      "11 5.0\n",
      "12 5.0\n",
      "13 4.0\n",
      "14 4.5\n",
      "15 3.5\n",
      "16 2.5\n"
     ]
    }
   ],
   "source": [
    "h_edge = mg.map_mean_of_link_nodes_to_link('some_field')\n",
    "for i in range(mg.number_of_links):\n",
    "    print i, h_edge[i]"
   ]
  },
  {
   "cell_type": "markdown",
   "metadata": {},
   "source": [
    "### What's in a name?\n",
    "\n",
    "The mapping function has a long name, which is designed to make it as clear as possible to understand what the function does. All the mappers start with the verb *map*. Then the relationship is given; in this case, we are looking at the *mean*. Then the elements from which a quantity is being mapped: we are taking values from *link nodes*. Finally, the element to which the new values apply: *link*.\n",
    "\n",
    "### Mapping minimum or maximum values\n",
    "\n",
    "We can also map the minimum value of *h*:"
   ]
  },
  {
   "cell_type": "code",
   "execution_count": 34,
   "metadata": {
    "collapsed": false
   },
   "outputs": [
    {
     "name": "stdout",
     "output_type": "stream",
     "text": [
      "0 1.0\n",
      "1 2.0\n",
      "2 3.0\n",
      "3 1.0\n",
      "4 2.0\n",
      "5 3.0\n",
      "6 4.0\n",
      "7 5.0\n",
      "8 6.0\n",
      "9 6.0\n",
      "10 5.0\n",
      "11 4.0\n",
      "12 3.0\n",
      "13 2.0\n",
      "14 4.0\n",
      "15 3.0\n",
      "16 2.0\n"
     ]
    }
   ],
   "source": [
    "h_edge = mg.map_min_of_link_nodes_to_link('some_field')\n",
    "for i in range(mg.number_of_links):\n",
    "    print i, h_edge[i]"
   ]
  },
  {
   "cell_type": "markdown",
   "metadata": {},
   "source": [
    "... or the maximum:"
   ]
  },
  {
   "cell_type": "code",
   "execution_count": 35,
   "metadata": {
    "collapsed": false
   },
   "outputs": [
    {
     "name": "stdout",
     "output_type": "stream",
     "text": [
      "0 2.0\n",
      "1 3.0\n",
      "2 4.0\n",
      "3 5.0\n",
      "4 6.0\n",
      "5 7.0\n",
      "6 6.0\n",
      "7 6.0\n",
      "8 7.0\n",
      "9 7.0\n",
      "10 5.0\n",
      "11 6.0\n",
      "12 7.0\n",
      "13 6.0\n",
      "14 5.0\n",
      "15 4.0\n",
      "16 3.0\n"
     ]
    }
   ],
   "source": [
    "h_edge = mg.map_max_of_link_nodes_to_link('some_field')\n",
    "for i in range(mg.number_of_links):\n",
    "    print i, h_edge[i]"
   ]
  },
  {
   "cell_type": "markdown",
   "metadata": {},
   "source": [
    "### Upwind and downwind\n",
    "\n",
    "Numerical schemes often use *upwind differencing* or *downwind differencing*. For example, finite difference schemes for equations that include advection may use \"upwind\" rather than centered differences, in which a scalar quantity (our *h* for example) is taken from whichever side is upstream in the flow field.\n",
    "\n",
    "How do we know the flow direction? If the flow is driven by the gradient in some scalar field, such as pressure or elevation, one approach is to look at the values of this scalar on either end of the link: the end with the higher value is upwind, and the end with the lower value is downwind.\n",
    "\n",
    "Suppose for example that our water flow is driven by the water-surface slope (which is often a good approximation for the *energy slope*, though it omits the kinetic energy). Let's define a bed-surface elevation field *z*:"
   ]
  },
  {
   "cell_type": "code",
   "execution_count": 42,
   "metadata": {
    "collapsed": false
   },
   "outputs": [
    {
     "name": "stdout",
     "output_type": "stream",
     "text": [
      "15 14 13 12\n",
      "13 14 15 16\n",
      "9 10 11 12\n"
     ]
    }
   ],
   "source": [
    "z = mg.add_zeros('node', 'topographic__elevation', noclobber=False)\n",
    "z[:] = 16 - np.abs(7 - np.arange(12))\n",
    "show_node_values(mg, z)"
   ]
  },
  {
   "cell_type": "markdown",
   "metadata": {},
   "source": [
    "The water-surface elevation is then the sum of *h* and *z*:"
   ]
  },
  {
   "cell_type": "code",
   "execution_count": 43,
   "metadata": {
    "collapsed": false
   },
   "outputs": [
    {
     "name": "stdout",
     "output_type": "stream",
     "text": [
      "20 18 16 14\n",
      "18 20 22 22\n",
      "10 12 14 16\n"
     ]
    }
   ],
   "source": [
    "w = z + h\n",
    "show_node_values(mg, w)"
   ]
  },
  {
   "cell_type": "markdown",
   "metadata": {},
   "source": [
    "For every link, we can assign the value of *h* from whichever end of the link has the greater *w*:"
   ]
  },
  {
   "cell_type": "code",
   "execution_count": 46,
   "metadata": {
    "collapsed": false
   },
   "outputs": [
    {
     "name": "stdout",
     "output_type": "stream",
     "text": [
      "0 2.0\n",
      "1 3.0\n",
      "2 4.0\n",
      "3 5.0\n",
      "4 6.0\n",
      "5 7.0\n",
      "6 6.0\n",
      "7 6.0\n",
      "8 7.0\n",
      "9 6.0\n",
      "10 5.0\n",
      "11 6.0\n",
      "12 7.0\n",
      "13 6.0\n",
      "14 5.0\n",
      "15 4.0\n",
      "16 3.0\n"
     ]
    }
   ],
   "source": [
    "h_edge = mg.map_value_at_max_node_to_link(w, h)\n",
    "for i in range(mg.number_of_links):\n",
    "    print i, h_edge[i]"
   ]
  },
  {
   "cell_type": "markdown",
   "metadata": {},
   "source": [
    "Consider the middle two nodes (5 and 6). Node 6 is higher (22 versus 20). Therefore, the link between them (link 8) should be assigned the value of *h* at node 6. This value happens to be 7.0.\n",
    "\n",
    "Of course, we could also take the value from the *lower* of the two nodes, which gives link 8 a value of 6.0:"
   ]
  },
  {
   "cell_type": "code",
   "execution_count": 47,
   "metadata": {
    "collapsed": false
   },
   "outputs": [
    {
     "name": "stdout",
     "output_type": "stream",
     "text": [
      "0 1.0\n",
      "1 2.0\n",
      "2 3.0\n",
      "3 1.0\n",
      "4 2.0\n",
      "5 3.0\n",
      "6 4.0\n",
      "7 5.0\n",
      "8 6.0\n",
      "9 6.0\n",
      "10 5.0\n",
      "11 4.0\n",
      "12 3.0\n",
      "13 2.0\n",
      "14 4.0\n",
      "15 3.0\n",
      "16 2.0\n"
     ]
    }
   ],
   "source": [
    "h_edge = mg.map_value_at_min_node_to_link(w, h)\n",
    "for i in range(mg.number_of_links):\n",
    "    print i, h_edge[i]"
   ]
  },
  {
   "cell_type": "markdown",
   "metadata": {},
   "source": [
    "TO DO NEXT: FINISH THIS BIT, DEMONSTRATING THE UPWIND/DOWNWIND STYLE MAPPERS"
   ]
  },
  {
   "cell_type": "markdown",
   "metadata": {
    "collapsed": true
   },
   "source": [
    "STUFF STILL TO BE WOVEN IN:"
   ]
  },
  {
   "cell_type": "code",
   "execution_count": 6,
   "metadata": {
    "collapsed": false
   },
   "outputs": [
    {
     "name": "stdout",
     "output_type": "stream",
     "text": [
      "0 5.0\n",
      "1 4.0\n",
      "2 3.0\n",
      "3 2.0\n",
      "4 1.0\n",
      "5 0.0\n",
      "6 1.0\n",
      "7 1.0\n",
      "8 0.0\n",
      "9 1.0\n",
      "10 2.0\n",
      "11 3.0\n",
      "12 4.0\n",
      "13 5.0\n",
      "14 3.0\n",
      "15 4.0\n",
      "16 5.0\n"
     ]
    }
   ],
   "source": [
    "h_edge = mg.map_link_head_node_to_link('some_field')\n",
    "for i in range(mg.number_of_links):\n",
    "    print i, h_edge[i]"
   ]
  },
  {
   "cell_type": "code",
   "execution_count": 7,
   "metadata": {
    "collapsed": false
   },
   "outputs": [
    {
     "name": "stdout",
     "output_type": "stream",
     "text": [
      "0 6.0\n",
      "1 5.0\n",
      "2 4.0\n",
      "3 6.0\n",
      "4 5.0\n",
      "5 4.0\n",
      "6 3.0\n",
      "7 2.0\n",
      "8 1.0\n",
      "9 0.0\n",
      "10 2.0\n",
      "11 1.0\n",
      "12 0.0\n",
      "13 1.0\n",
      "14 2.0\n",
      "15 3.0\n",
      "16 4.0\n"
     ]
    }
   ],
   "source": [
    "h_edge = mg.map_link_tail_node_to_link('some_field')\n",
    "for i in range(mg.number_of_links):\n",
    "    print i, h_edge[i]"
   ]
  },
  {
   "cell_type": "code",
   "execution_count": 52,
   "metadata": {
    "collapsed": true
   },
   "outputs": [],
   "source": [
    "def test_upwind_thingy(mg, link_val, node_val):\n",
    "    #flowdir = np.where(node_val[mg.node_at_link_tail] > node_val[mg.node_at_link_tail])\n",
    "    out = mg.map_link_tail_node_to_link(node_val)\n",
    "    (w, ) = np.where(link_val < 0.0)\n",
    "    out[w] = node_val[mg.node_at_link_head[w]]\n",
    "    return out"
   ]
  },
  {
   "cell_type": "code",
   "execution_count": 55,
   "metadata": {
    "collapsed": false
   },
   "outputs": [
    {
     "name": "stdout",
     "output_type": "stream",
     "text": [
      "0 -2.0 1.0 2.0 2.0\n",
      "1 -2.0 2.0 3.0 3.0\n",
      "2 -2.0 3.0 4.0 4.0\n",
      "3 -8.0 1.0 5.0 5.0\n",
      "4 -8.0 2.0 6.0 6.0\n",
      "5 -8.0 3.0 7.0 7.0\n",
      "6 -6.0 4.0 6.0 6.0\n",
      "7 -2.0 5.0 6.0 6.0\n",
      "8 -2.0 6.0 7.0 7.0\n",
      "9 -0.0 7.0 6.0 7.0\n",
      "10 -2.0 5.0 5.0 5.0\n",
      "11 2.0 6.0 4.0 6.0\n",
      "12 6.0 7.0 3.0 7.0\n",
      "13 8.0 6.0 2.0 6.0\n",
      "14 2.0 5.0 4.0 5.0\n",
      "15 2.0 4.0 3.0 4.0\n",
      "16 2.0 3.0 2.0 3.0\n"
     ]
    }
   ],
   "source": [
    "g = mg.calculate_gradients_at_links(w)\n",
    "lv = test_upwind_thingy(mg, -g, h)\n",
    "for ln in range(mg.number_of_links):\n",
    "    print ln, -g[ln], h[mg.node_at_link_tail[ln]], h[mg.node_at_link_head[ln]], lv[ln]"
   ]
  },
  {
   "cell_type": "code",
   "execution_count": null,
   "metadata": {
    "collapsed": true
   },
   "outputs": [],
   "source": []
  }
 ],
 "metadata": {
  "kernelspec": {
   "display_name": "Python 2",
   "language": "python",
   "name": "python2"
  },
  "language_info": {
   "codemirror_mode": {
    "name": "ipython",
    "version": 2
   },
   "file_extension": ".py",
   "mimetype": "text/x-python",
   "name": "python",
   "nbconvert_exporter": "python",
   "pygments_lexer": "ipython2",
   "version": "2.7.11"
  }
 },
 "nbformat": 4,
 "nbformat_minor": 0
}
