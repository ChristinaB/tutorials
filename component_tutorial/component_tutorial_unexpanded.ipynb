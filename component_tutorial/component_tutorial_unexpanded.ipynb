{
 "cells": [
  {
   "cell_type": "markdown",
   "metadata": {},
   "source": [
    "<a href=\"http://landlab.github.io\"><img style=\"float: left; height: 175px; width: 175px\" src=\"../landlab_logo_picture.jpg\"></a> <h3 style=\"margin: 117px 0 0 185px; font-weight: 300;\">a toolkit for modeling earth surface processes</h3>"
   ]
  },
  {
   "cell_type": "markdown",
   "metadata": {},
   "source": [
    "# Getting to know the Landlab component library"
   ]
  },
  {
   "cell_type": "markdown",
   "metadata": {},
   "source": [
    "<hr>\n",
    "<small> For instructions on how to run an interactive iPython notebook, click here: <a href=\"https://github.com/landlab/tutorials/blob/master/README.md\">https://github.com/landlab/tutorials/blob/master/README.md</a></small><br>\n",
    "<small>For the unexpanded version to download and run, click here: <a href=\"http://nbviewer.jupyter.org/github/landlab/tutorials/blob/master/component_tutorial/component_tutorial_unexpanded.ipynb\">http://nbviewer.jupyter.org/github/landlab/tutorials/blob/master/component_tutorial/component_tutorial_unexpanded.ipynb</a></small><br>\n",
    "<small>For more Landlab tutorials, click here: <a href=\"https://github.com/landlab/landlab/wiki/Tutorials\">https://github.com/landlab/landlab/wiki/Tutorials</a></small>\n",
    "<hr>"
   ]
  },
  {
   "cell_type": "markdown",
   "metadata": {},
   "source": [
    "This ipython notebook walks you through the stages of creating and running a Landlab model using the Landlab component library.\n",
    "\n",
    "We are going to create three models—firstly a single component driver implementing just linear diffusion; then a three-component driver implementing linear diffusion, flow routing, and stream power incision; and finally a similar model, but implementing a storm-interstorm sequence.\n",
    "\n",
    "# The basics: one component\n",
    "\n",
    "Let's begin with the one-component diffusion model.\n",
    "\n",
    "Firstly, import the library elements we'll need. The component classes can all be imported from the `landlab.components` library. They're all formatted in CamelCaseLikeThis. Anything you see in that folder that isn't formatted like this isn't a component!"
   ]
  },
  {
   "cell_type": "code",
   "execution_count": null,
   "metadata": {
    "collapsed": false
   },
   "outputs": [],
   "source": [
    "from landlab.components import LinearDiffuser\n",
    "from landlab.plot import imshow_grid\n",
    "from landlab import RasterModelGrid, CLOSED_BOUNDARY, FIXED_VALUE_BOUNDARY\n",
    "from matplotlib.pyplot import figure, show, plot, xlabel, ylabel, title\n",
    "import numpy as np"
   ]
  },
  {
   "cell_type": "markdown",
   "metadata": {},
   "source": [
    "Let's start by creating the grid that we'll do the first part of this exercise with, and putting some data into its fields. Note that you need to create the fields that a component takes as inputs *before* instantiating a component - though you can put values into the arrays later if you need to (as illustrated below). For more info on working with fields, see the *fields* tutorial."
   ]
  },
  {
   "cell_type": "code",
   "execution_count": null,
   "metadata": {
    "collapsed": false
   },
   "outputs": [],
   "source": [
    "mg = RasterModelGrid((80, 80), 5.)\n",
    "z = mg.add_zeros('node', 'topographic__elevation')"
   ]
  },
  {
   "cell_type": "markdown",
   "metadata": {},
   "source": [
    "How did we know this was a field we needed as an input? Well, firstly because we read the component documentation (**always do this!**), but secondly we can get a reminder using the Landlab Component Standard Interface:"
   ]
  },
  {
   "cell_type": "code",
   "execution_count": null,
   "metadata": {
    "collapsed": false
   },
   "outputs": [],
   "source": [
    "LinearDiffuser.input_var_names"
   ]
  },
  {
   "cell_type": "markdown",
   "metadata": {},
   "source": [
    "Note we didn't have to instantiate the component to be able to do this! Other standard properties are `output_var_names` and `optional_var_names`; pass an input or output name to `var_loc`, `var_type`, `var_units`, and `var_definition` to get the centering ('node', 'link', etc), array dtype (float, int), units (meters, etc) and a descriptive string, respectively. `var_help` will dive you a lot of this information at once:"
   ]
  },
  {
   "cell_type": "code",
   "execution_count": null,
   "metadata": {
    "collapsed": false
   },
   "outputs": [],
   "source": [
    "LinearDiffuser.var_help('topographic__elevation')"
   ]
  },
  {
   "cell_type": "markdown",
   "metadata": {},
   "source": [
    "It's also a good idea to set the grid boundary conditions before component instantiation. Let's have fixed value top and bottom and closed left and right:"
   ]
  },
  {
   "cell_type": "code",
   "execution_count": null,
   "metadata": {
    "collapsed": true
   },
   "outputs": [],
   "source": [
    "for edge in (mg.nodes_at_left_edge, mg.nodes_at_right_edge):\n",
    "    mg.status_at_node[edge] = CLOSED_BOUNDARY\n",
    "for edge in (mg.nodes_at_top_edge, mg.nodes_at_bottom_edge):\n",
    "    mg.status_at_node[edge] = FIXED_VALUE_BOUNDARY"
   ]
  },
  {
   "cell_type": "markdown",
   "metadata": {},
   "source": [
    "Landlab components have undergone something of a stylistic overhaul in Landlab version 1. You should now find that all components within landlab share a similar interface. We'll examine how it looks first on the diffusion component.\n",
    "\n",
    "Landlab components now have a standardised instantiation signature. A key difference to what you may have seen before is that the inputs to the component are now fed in as *dynamic Python objects*, i.e., floats, strings, arrays, rather than being fed in as strings from a text input file (though note, you an still do this, see below). This has two major advantages: firstly, components now have plainly declared default values, that are visible just like they would be in, say, a numpy function; secondly, because the inputs are now Python objects, it's a lot easier to work with spatially variable inputs that need to be passed in as arrays, and also to feed dynamically changing inputs into a component.\n",
    "\n",
    "The standard signature to instantiate a component looks like this:\n",
    "\n",
    "    MyComponent(grid, input1=default1, input2=default2, input3=default3, ..., **kwds)\n",
    "\n",
    "Because defaults are provided, you can instantiate a component with default values very simply; the diffuser requires only that a `linear_diffusity` be supplied:"
   ]
  },
  {
   "cell_type": "code",
   "execution_count": null,
   "metadata": {
    "collapsed": false
   },
   "outputs": [],
   "source": [
    "lin_diffuse = LinearDiffuser(mg, linear_diffusivity=0.2)"
   ]
  },
  {
   "cell_type": "markdown",
   "metadata": {},
   "source": [
    "We'll see some other ways of initializing (e.g., from an input file) below.\n",
    "\n",
    "Now we're ready to run the component! Run methods are also standardized. Almost all Landlab components have a standard run method named `run_one_step`, and it looks like this:\n",
    "\n",
    "    my_comp.run_one_step([dt], other_inputA=defaultA, ...)\n",
    "\n",
    "If the component is time-dependent, `dt`, the timestep, will be the first argument. Subsequent keywords will typically be flags that control the way the component runs, and typically can be left as their default values. Note that nothing is returned from a run method like this, but that nonetheless *the grid fields are updated*.\n",
    "\n",
    "This `dt` is properly thought of as the *external model timestep*; it controls essentially the frequency at which the various Landlab components you're implementing can exchange information with each other and with the driver (e.g., frequency at which uplift steps are added to the grid). If your model has a stability condition which demands a shorter timestep, the external timestep will be subdivided internally down to this shorter timescale.\n",
    "\n",
    "So let's do it. It's up to you as the component designer to make sure your driver script accounts properly for the total time the model runs. Here, we want to run for 200000 years with a timestep of 1000 years, with an uplift rate of 0.001 m/y. So:"
   ]
  },
  {
   "cell_type": "code",
   "execution_count": null,
   "metadata": {
    "collapsed": false
   },
   "outputs": [],
   "source": [
    "total_t = 200000.\n",
    "dt = 1000.\n",
    "uplift_rate = 0.001\n",
    "nt = int(total_t // dt)\n",
    "# ^note if we didn't know a priori that there are a round number of steps dt in the\n",
    "# total time, we'd have to take care to account for the \"extra\" time (see example below)\n",
    "for i in range(nt):\n",
    "    lin_diffuse.run_one_step(dt)\n",
    "    z[mg.core_nodes] += uplift_rate * dt  # add the uplift\n",
    "    # add some output to let us see we aren't hanging:\n",
    "    if i % 50 == 0:\n",
    "        print(i*dt)"
   ]
  },
  {
   "cell_type": "markdown",
   "metadata": {},
   "source": [
    "Note that we're using `z` to input the uplift here, which we already bound to the Landlab field `mg.at_node['topographic__elevation]` when we instantiated that field. This works great, but always be careful to update the values *inside* the array, not to reset the variable as equal to something else, i.e., to put new values in the field do::\n",
    "\n",
    "    z[:] = new_values  # values copied into the existing field\n",
    "\n",
    "not\n",
    "\n",
    "    z = new_values  # z is now \"new_values\", not the field!\n",
    "\n",
    "Now plot the output!"
   ]
  },
  {
   "cell_type": "code",
   "execution_count": null,
   "metadata": {
    "collapsed": false
   },
   "outputs": [],
   "source": [
    "# the following line makes figures show up correctly in this document (only needed for iPython notebook)\n",
    "%matplotlib inline\n",
    "\n",
    "# Create a figure and plot the elevations\n",
    "figure(1)\n",
    "im = imshow_grid(mg, 'topographic__elevation', grid_units = ['m','m'],\n",
    "                 var_name='Elevation (m)')"
   ]
  },
  {
   "cell_type": "code",
   "execution_count": null,
   "metadata": {
    "collapsed": false
   },
   "outputs": [],
   "source": [
    "figure(2)\n",
    "elev_rast = mg.node_vector_to_raster(z)\n",
    "ycoord_rast = mg.node_vector_to_raster(mg.node_y)\n",
    "ncols = mg.number_of_node_columns\n",
    "im = plot(ycoord_rast[:, int(ncols // 2)], elev_rast[:, int(ncols // 2)])\n",
    "xlabel('horizontal distance (m)')\n",
    "ylabel('vertical distance (m)')\n",
    "title('topographic__elevation cross section')"
   ]
  },
  {
   "cell_type": "markdown",
   "metadata": {},
   "source": [
    "Now, let's repeat this exercise, but illustrating the way we can input fields as some parameters for components. We're going to make the diffusivity spatially variable., falling by a factor of ten as we move across the grid."
   ]
  },
  {
   "cell_type": "code",
   "execution_count": null,
   "metadata": {
    "collapsed": false
   },
   "outputs": [],
   "source": [
    "z[:] = 0.  # reset the elevations to zero\n",
    "k_diff = mg.zeros('node', dtype=float)\n",
    "k_diff.fill(1.)\n",
    "k_diff *= (mg.node_x.max() - 0.9*mg.node_x)/mg.node_x.max()\n",
    "k_field = mg.add_field('node', 'linear_diffusivity', k_diff, noclobber=False)\n",
    "imshow_grid(mg, k_diff, var_name='k_diff', cmap='winter')  # check it looks good"
   ]
  },
  {
   "cell_type": "markdown",
   "metadata": {},
   "source": [
    "Now we re-initialize the component instance to bind the k_diff field to the component:"
   ]
  },
  {
   "cell_type": "code",
   "execution_count": null,
   "metadata": {
    "collapsed": false
   },
   "outputs": [],
   "source": [
    "lin_diffuse = LinearDiffuser(mg, linear_diffusivity='linear_diffusivity')\n",
    "# we could also have passed in `k_diff` in place of the string"
   ]
  },
  {
   "cell_type": "markdown",
   "metadata": {},
   "source": [
    "...and run just as before. Note this will be slower than before; the internal timestep is shorter because we've modified the diffusivities."
   ]
  },
  {
   "cell_type": "code",
   "execution_count": null,
   "metadata": {
    "collapsed": false
   },
   "outputs": [],
   "source": [
    "for i in range(nt):\n",
    "    lin_diffuse.run_one_step(dt)\n",
    "    z[mg.core_nodes] += uplift_rate * dt  # add the uplift\n",
    "    # add some output to let us see we aren't hanging:\n",
    "    if i % 50 == 0:\n",
    "        print(i*dt)\n",
    "figure(3)\n",
    "im = imshow_grid(mg, 'topographic__elevation', grid_units = ['m','m'],\n",
    "                 var_name='Elevation (m)')"
   ]
  },
  {
   "cell_type": "markdown",
   "metadata": {},
   "source": [
    "# Running two or more components\n",
    "\n",
    "Now we're going to take a similar approach but this time combine the outputs of three distinct Landlab components: the diffuser, the monodirectional flow router, and the stream power incisor. For clarity, we're going to repeat the whole process from the start.\n",
    "\n",
    "So first, let's import everything we don't already have:"
   ]
  },
  {
   "cell_type": "code",
   "execution_count": null,
   "metadata": {
    "collapsed": false
   },
   "outputs": [],
   "source": [
    "from landlab.components import FlowRouter, FastscapeEroder\n",
    "from landlab import load_params"
   ]
  },
  {
   "cell_type": "markdown",
   "metadata": {
    "collapsed": true
   },
   "source": [
    "More components means more input parameters. So this time, we're going to make our lives easier by instantiating our components from an [input file](./coupled_params.txt). Note also that we've now switched length units to km from m.\n",
    "\n",
    "We're going to handle our input file using the very powerful `load_params` Landlab function. This function can read input text files formatted in a variety of different ways, including both the Landlab-native style and also the yaml standard. It automatically types the values it finds in the input file (i.e., makes them int, float, string, etc.), and returns them as a Python dictionary. However, feel free to use your own way of reading in a text file. The important thing is that you end up with a **dictionary** that you can pass into the components that contains `'input_parameter_name': parameter_value` pairs.\n",
    "\n",
    "Once we have the MPD, we're going to pull the parameters we need to make the grid and drive the components out of it (in part, to show that the MPD is a Python dictionary)."
   ]
  },
  {
   "cell_type": "code",
   "execution_count": null,
   "metadata": {
    "collapsed": false
   },
   "outputs": [],
   "source": [
    "input_file = './coupled_params.txt'\n",
    "inputs = load_params(input_file) # load the data into a dictionary\n",
    "\n",
    "nrows = inputs['nrows']\n",
    "ncols = inputs['ncols']\n",
    "dx = inputs['dx']\n",
    "uplift_rate = inputs['uplift_rate']\n",
    "total_t = inputs['total_time']\n",
    "dt = inputs['dt']\n",
    "\n",
    "nt = int(total_t // dt) #this is how many loops we'll need\n",
    "uplift_per_step = uplift_rate * dt\n",
    "\n",
    "# illustrate what the MPD looks like:\n",
    "print(inputs)"
   ]
  },
  {
   "cell_type": "markdown",
   "metadata": {},
   "source": [
    "Now instantiate the grid, set the initial conditions, and set the boundary conditions:"
   ]
  },
  {
   "cell_type": "code",
   "execution_count": null,
   "metadata": {
    "collapsed": false
   },
   "outputs": [],
   "source": [
    "mg = RasterModelGrid((nrows, ncols), dx)\n",
    "z = mg.add_zeros('node', 'topographic__elevation')\n",
    "# add some roughness, as this lets \"natural\" channel planforms arise\n",
    "initial_roughness = np.random.rand(z.size)/100000.\n",
    "z += initial_roughness\n",
    "for edge in (mg.nodes_at_left_edge, mg.nodes_at_right_edge):\n",
    "    mg.status_at_node[edge] = CLOSED_BOUNDARY\n",
    "for edge in (mg.nodes_at_top_edge, mg.nodes_at_bottom_edge):\n",
    "    mg.status_at_node[edge] = FIXED_VALUE_BOUNDARY"
   ]
  },
  {
   "cell_type": "markdown",
   "metadata": {},
   "source": [
    "So far, so familiar.\n",
    "\n",
    "Now we're going to instantiate all our components, using the MPD. We can do this using a bit of Python magic that lets you pass dictionaries into functions as sets of keywords. We do this by passing the dictionary as the final input, with to asterisks - `**` in front of it:"
   ]
  },
  {
   "cell_type": "code",
   "execution_count": null,
   "metadata": {
    "collapsed": false
   },
   "outputs": [],
   "source": [
    "fr = FlowRouter(mg, **inputs)\n",
    "sp = FastscapeEroder(mg, **inputs)\n",
    "lin_diffuse = LinearDiffuser(mg, **inputs)"
   ]
  },
  {
   "cell_type": "markdown",
   "metadata": {},
   "source": [
    "What's happening here is that the component is looking inside the dictionary for any keys that match its keywords, and using them. Each will ignore any keys in the dictionary that it does not recognise. Values in the dictionary will override component defaults, but note that you cannot provide a keyword manually that is also defined in a supplied dictionary, i.e., this would result in a TypeError:\n",
    "\n",
    "    >>> lin_diffuse = LinearDiffuser(mg, linear_diffusivity=1.,\n",
    "                                     **{'linear_diffusivity': 1.})\n",
    "    TypeError\n",
    "\n",
    "And now we run! We're going to run once with the diffusion and once without."
   ]
  },
  {
   "cell_type": "code",
   "execution_count": null,
   "metadata": {
    "collapsed": false
   },
   "outputs": [],
   "source": [
    "for i in range(nt):\n",
    "    # lin_diffuse.run_one_step(dt) no diffusion this time\n",
    "    fr.run_one_step() # route_flow isn't time sensitive, so it doesn't take dt as input\n",
    "    sp.run_one_step(dt)\n",
    "    mg.at_node['topographic__elevation'][mg.core_nodes] += uplift_per_step # add the uplift\n",
    "    if i % 20 == 0:\n",
    "        print ('Completed loop %d' % i)"
   ]
  },
  {
   "cell_type": "markdown",
   "metadata": {
    "collapsed": true
   },
   "source": [
    "You'll need to give the above code a few seconds to run, but note because this is Jean Braun's Fastscape algorithm, it's very tolerant of long time steps."
   ]
  },
  {
   "cell_type": "code",
   "execution_count": null,
   "metadata": {
    "collapsed": false
   },
   "outputs": [],
   "source": [
    "figure('topo without diffusion')\n",
    "imshow_grid(mg, 'topographic__elevation', grid_units=['km','km'], var_name='Elevation (km)')"
   ]
  },
  {
   "cell_type": "markdown",
   "metadata": {
    "collapsed": true
   },
   "source": [
    "And now let's reset the grid elevations and do everything again, but this time, with the diffusion turned *on*:"
   ]
  },
  {
   "cell_type": "code",
   "execution_count": null,
   "metadata": {
    "collapsed": false
   },
   "outputs": [],
   "source": [
    "z[:] = initial_roughness\n",
    "for i in range(nt):\n",
    "    lin_diffuse.run_one_step(dt)  # no diffusion this time\n",
    "    fr.run_one_step() # route_flow isn't time sensitive, so it doesn't take dt as input\n",
    "    sp.run_one_step(dt)\n",
    "    mg.at_node['topographic__elevation'][mg.core_nodes] += uplift_per_step # add the uplift\n",
    "    if i % 20 == 0:\n",
    "        print ('Completed loop %d' % i)"
   ]
  },
  {
   "cell_type": "code",
   "execution_count": null,
   "metadata": {
    "collapsed": false
   },
   "outputs": [],
   "source": [
    "figure('topo with diffusion')\n",
    "imshow_grid(mg, 'topographic__elevation', grid_units=['km','km'],\n",
    "            var_name='Elevation (km)')"
   ]
  },
  {
   "cell_type": "markdown",
   "metadata": {
    "collapsed": true
   },
   "source": [
    "Beautiful! We've smoothed away the fine-scale channel roughness, as expected, and produced some lovely convex-up hillslopes in its place. Note that even though the initial conditions were identical in both cases, including the roughness, the channel positions have been moved significantly by the hillslope diffusion into the channel."
   ]
  },
  {
   "cell_type": "markdown",
   "metadata": {},
   "source": [
    "As a final step, we're going to show off some of Landlab's fancier functionality. We're going to repeat the above coupled model run, but this time we're going to plot some evolving channel profiles, and we're going to drive the simulation with a sequence of storms, not just a fixed timestep. We'll also peoduce a slope-area plot for the final conditions.\n",
    "\n",
    "Working with timesteps of varying length requires a bit more bookkeeping, but the principle is the same as what we've seen before.\n",
    "\n",
    "So, load the new landlab objects we'll need, then reset the initial conditions:"
   ]
  },
  {
   "cell_type": "code",
   "execution_count": null,
   "metadata": {
    "collapsed": true
   },
   "outputs": [],
   "source": [
    "from landlab.plot import channel_profile as prf\n",
    "from landlab.components.uniform_precip import PrecipitationDistribution\n",
    "from matplotlib.pyplot import loglog"
   ]
  },
  {
   "cell_type": "code",
   "execution_count": null,
   "metadata": {
    "collapsed": true
   },
   "outputs": [],
   "source": [
    "z[:] = initial_roughness"
   ]
  },
  {
   "cell_type": "markdown",
   "metadata": {},
   "source": [
    "Instantiate the storm generator. This time, we're going to mix an input file for some components with manual definition of others (that we already defined above)."
   ]
  },
  {
   "cell_type": "code",
   "execution_count": null,
   "metadata": {
    "collapsed": false
   },
   "outputs": [],
   "source": [
    "dt = 0.1\n",
    "total_t = 250.\n",
    "# re-instantiate the FastscapeEroder, so we can \n",
    "\n",
    "storm_inputs = load_params('./coupled_params_storms.txt')\n",
    "precip = PrecipitationDistribution(total_t=total_t, delta_t=dt, **storm_inputs)\n",
    "print(storm_inputs)"
   ]
  },
  {
   "cell_type": "markdown",
   "metadata": {},
   "source": [
    "Now run:"
   ]
  },
  {
   "cell_type": "code",
   "execution_count": null,
   "metadata": {
    "collapsed": false,
    "scrolled": false
   },
   "outputs": [],
   "source": [
    "out_interval = 20.\n",
    "last_trunc = total_t # we use this to trigger taking an output plot\n",
    "for (interval_duration, rainfall_rate) in precip.yield_storm_interstorm_duration_intensity():\n",
    "    if rainfall_rate > 0.:\n",
    "        # note diffusion also only happens when it's raining...\n",
    "        fr.route_flow()\n",
    "        sp.run_one_step(interval_duration)\n",
    "        lin_diffuse.run_one_step(interval_duration)\n",
    "    z[mg.core_nodes] += uplift_rate * interval_duration\n",
    "    this_trunc = precip.elapsed_time // out_interval\n",
    "    if this_trunc != last_trunc:  # time to plot a new profile!\n",
    "        print ('made it to time %d' % (out_interval * this_trunc))\n",
    "        last_trunc = this_trunc\n",
    "        figure(\"long_profiles\")\n",
    "        profile_IDs = prf.channel_nodes(mg, mg.at_node['topographic__steepest_slope'],\n",
    "                                        mg.at_node['drainage_area'],\n",
    "                                        mg.at_node['flow__receiver_node'])\n",
    "        dists_upstr = prf.get_distances_upstream(\n",
    "            mg, len(mg.at_node['topographic__steepest_slope']),\n",
    "            profile_IDs, mg.at_node['flow__link_to_receiver_node'])\n",
    "        plot(dists_upstr[0], z[profile_IDs[0]])\n",
    "    # no need to track elapsed time, as the generator will stop automatically\n",
    "# make the figure look nicer:\n",
    "figure(\"long_profiles\")\n",
    "xlabel('Distance upstream (km)')\n",
    "ylabel ('Elevation (km)')\n",
    "title('Long profiles evolving through time')"
   ]
  },
  {
   "cell_type": "markdown",
   "metadata": {},
   "source": [
    "Note that the \"wobbles\" in the long profile here are being created by the stochastic storm sequence. We could reduce their impact by reducing the storm-interstorm timescales, or allowing diffusion while it's not raining, but we've chosen not to here to show that the storms are having an effect."
   ]
  },
  {
   "cell_type": "code",
   "execution_count": null,
   "metadata": {
    "collapsed": false
   },
   "outputs": [],
   "source": [
    "figure('topo with diffusion and storms')\n",
    "imshow_grid(mg, 'topographic__elevation', grid_units=['km','km'], var_name='Elevation (km)')"
   ]
  },
  {
   "cell_type": "code",
   "execution_count": null,
   "metadata": {
    "collapsed": false
   },
   "outputs": [],
   "source": [
    "figure('final slope-area plot')\n",
    "loglog(mg.at_node['drainage_area'], mg.at_node['topographic__steepest_slope'],'.')\n",
    "xlabel('Drainage area (km**2)')\n",
    "ylabel('Local slope')\n",
    "title('Slope-Area plot for whole landscape')"
   ]
  },
  {
   "cell_type": "markdown",
   "metadata": {},
   "source": [
    "That's a nice set of figures, eh? You can easily spend more time with pylab prettifying them if you want."
   ]
  },
  {
   "cell_type": "markdown",
   "metadata": {},
   "source": [
    "### Click here for more <a href=\"https://github.com/landlab/landlab/wiki/Tutorials\">Landlab tutorials</a>"
   ]
  }
 ],
 "metadata": {
  "kernelspec": {
   "display_name": "Python 2",
   "language": "python",
   "name": "python2"
  },
  "language_info": {
   "codemirror_mode": {
    "name": "ipython",
    "version": 2
   },
   "file_extension": ".py",
   "mimetype": "text/x-python",
   "name": "python",
   "nbconvert_exporter": "python",
   "pygments_lexer": "ipython2",
   "version": "2.7.11"
  }
 },
 "nbformat": 4,
 "nbformat_minor": 0
}
