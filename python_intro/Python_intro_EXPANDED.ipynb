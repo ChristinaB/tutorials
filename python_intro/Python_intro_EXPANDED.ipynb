{
 "cells": [
  {
   "cell_type": "markdown",
   "metadata": {},
   "source": [
    "<img style=\"float: left\" src=\"https://raw.githubusercontent.com/landlab/tutorials/master/landlab_header.png\">"
   ]
  },
  {
   "cell_type": "markdown",
   "metadata": {},
   "source": [
    "# A super-brief intro to Python and Numpy"
   ]
  },
  {
   "cell_type": "markdown",
   "metadata": {},
   "source": [
    "<small> For instructions on how to run an interactive iPython notebook, click here: <a href=\"https://github.com/landlab/tutorials/blob/master/README.md\">https://github.com/landlab/tutorials/blob/master/README.md</a></small><br>\n",
    "<small>To download this tutorial as an unexpanded iPython notebook, click here: <a href=\"http://nbviewer.ipython.org/github/landlab/tutorials/blob/master/python_intro/Python_intro.ipynb\">http://nbviewer.ipython.org/github/landlab/tutorials/blob/master/python_intro/Python_intro.ipynb</a></small>"
   ]
  },
  {
   "cell_type": "markdown",
   "metadata": {},
   "source": [
    "Python is:\n",
    "* interpreted (high level)\n",
    "* readable\n",
    "* concise\n",
    "* cross-platform\n",
    "* dynamically typed\n",
    "* object oriented\n",
    "* automatically memory-managed\n",
    "\n",
    "Almost all of the below is explained much more fully at various places online. For a nice entry level tutorial set, try: http://nbviewer.ipython.org/github/jrjohansson/scientific-python-lectures/tree/master/ or the Software Carpentry intros:\n",
    "http://swcarpentry.github.io/python-novice-inflammation/\n",
    "\n",
    "The main Python documentation is also an extremely readable source of knowledge. Just Google!"
   ]
  },
  {
   "cell_type": "markdown",
   "metadata": {},
   "source": [
    "## PROGRAM FILES AND INTERACTIVE ENVIRONMENTS\n",
    "Put Python code in .py text files (AKA \"scripts\").\n",
    "Run these from a shell, as:\n",
    "\n",
    "> python myscript.py\n",
    "\n",
    "OR\n",
    "\n",
    "Use one of Python's interactive environments (e.g., iPython)!\n",
    "\n",
    "> ipython\n",
    "\n",
    "In an interactive environment:\n",
    "\n",
    "* Run code line-by-line, preserving variables\n",
    "* Run your scripts, using the magic command \"%run\" (& preserve the variables)\n",
    "\n",
    "This iPython notebook is an interactive environment."
   ]
  },
  {
   "cell_type": "markdown",
   "metadata": {},
   "source": [
    "## MODULES\n",
    "Python has some built-in functions, but everything else comes in a library module.\n",
    "\n",
    "* See the built in functions here: https://docs.python.org/2/library/functions.html\n",
    "\n",
    "Modules are *imported*, then the functions they hold run with a *dot* syntax:"
   ]
  },
  {
   "cell_type": "code",
   "execution_count": 3,
   "metadata": {
    "collapsed": false
   },
   "outputs": [
    {
     "name": "stdout",
     "output_type": "stream",
     "text": [
      "1.0\n"
     ]
    }
   ],
   "source": [
    "import math  # comments with a hash\n",
    "x = math.cos(2. * math.pi)\n",
    "print x   # print is a built-in function"
   ]
  },
  {
   "cell_type": "markdown",
   "metadata": {},
   "source": [
    "OR import the functions and properties individually:"
   ]
  },
  {
   "cell_type": "code",
   "execution_count": 4,
   "metadata": {
    "collapsed": false
   },
   "outputs": [
    {
     "name": "stdout",
     "output_type": "stream",
     "text": [
      "1.0\n"
     ]
    }
   ],
   "source": [
    "from numpy import cos, pi #numpy, numeric python, also has these functions\n",
    "x = cos(2. * pi)\n",
    "print x"
   ]
  },
  {
   "cell_type": "markdown",
   "metadata": {},
   "source": [
    "Get help in an interactive shell with a trailing \"?\", quit it with \"q\""
   ]
  },
  {
   "cell_type": "code",
   "execution_count": 5,
   "metadata": {
    "collapsed": true
   },
   "outputs": [],
   "source": [
    "pi?"
   ]
  },
  {
   "cell_type": "markdown",
   "metadata": {},
   "source": [
    "##TYPES\n",
    "Python distinguishes:\n",
    "* integer (int)\n",
    "* float (float)\n",
    "* boolean (bool)\n",
    "* complex (complex)\n",
    "* strings (str)\n",
    "\n",
    "You may also encounter numpy types, like \"numpy.float64\""
   ]
  },
  {
   "cell_type": "code",
   "execution_count": 6,
   "metadata": {
    "collapsed": false
   },
   "outputs": [
    {
     "data": {
      "text/plain": [
       "float"
      ]
     },
     "execution_count": 6,
     "metadata": {},
     "output_type": "execute_result"
    }
   ],
   "source": [
    "type(pi)"
   ]
  },
  {
   "cell_type": "markdown",
   "metadata": {},
   "source": [
    "Typecasting is automatic where possible, but can be time-expensive.\n",
    "\n",
    "Python's inbuilt *data structures* are:\n",
    "* tuples, with *parentheses* - immutable\n",
    "* lists, with *square brackets* - mutable\n",
    "* sets, as set() - unordered collection with no duplicates\n",
    "* dictionaries, with *curly brackets* - associated pairs of key:value\n",
    "\n",
    "Note that all these data structures let you happily mix data types... But the cost is that Python runs slower than, e.g., C++."
   ]
  },
  {
   "cell_type": "code",
   "execution_count": 7,
   "metadata": {
    "collapsed": false
   },
   "outputs": [
    {
     "name": "stdout",
     "output_type": "stream",
     "text": [
      "You can index:  1\n"
     ]
    }
   ],
   "source": [
    "mytuple = (0,1,2,3)\n",
    "print 'You can index: ', mytuple[1]"
   ]
  },
  {
   "cell_type": "code",
   "execution_count": 8,
   "metadata": {
    "collapsed": false
   },
   "outputs": [
    {
     "name": "stdout",
     "output_type": "stream",
     "text": [
      "...but not reassign...\n"
     ]
    },
    {
     "ename": "TypeError",
     "evalue": "'tuple' object does not support item assignment",
     "output_type": "error",
     "traceback": [
      "\u001b[0;31m---------------------------------------------------------------------------\u001b[0m",
      "\u001b[0;31mTypeError\u001b[0m                                 Traceback (most recent call last)",
      "\u001b[0;32m<ipython-input-8-4570ebcf4dbc>\u001b[0m in \u001b[0;36m<module>\u001b[0;34m()\u001b[0m\n\u001b[1;32m      1\u001b[0m \u001b[0;32mprint\u001b[0m \u001b[0;34m'...but not reassign...'\u001b[0m\u001b[0;34m\u001b[0m\u001b[0m\n\u001b[0;32m----> 2\u001b[0;31m \u001b[0mmytuple\u001b[0m\u001b[0;34m[\u001b[0m\u001b[0;36m0\u001b[0m\u001b[0;34m]\u001b[0m \u001b[0;34m=\u001b[0m \u001b[0;36m100\u001b[0m\u001b[0;34m\u001b[0m\u001b[0m\n\u001b[0m",
      "\u001b[0;31mTypeError\u001b[0m: 'tuple' object does not support item assignment"
     ]
    }
   ],
   "source": [
    "print '...but not reassign...'\n",
    "mytuple[0] = 100"
   ]
  },
  {
   "cell_type": "code",
   "execution_count": 9,
   "metadata": {
    "collapsed": false
   },
   "outputs": [
    {
     "name": "stdout",
     "output_type": "stream",
     "text": [
      "This time reassignment works: \n",
      "['I can store a string!', 1, 2, 3]\n"
     ]
    }
   ],
   "source": [
    "mylist = [0,1,2,3]\n",
    "print 'This time reassignment works: '\n",
    "mylist[0] = 'I can store a string!'\n",
    "print mylist"
   ]
  },
  {
   "cell_type": "code",
   "execution_count": 10,
   "metadata": {
    "collapsed": false
   },
   "outputs": [
    {
     "name": "stdout",
     "output_type": "stream",
     "text": [
      "set([0, 1, 2, 3])\n"
     ]
    }
   ],
   "source": [
    "myset = set([0,1,2,3])\n",
    "print myset"
   ]
  },
  {
   "cell_type": "code",
   "execution_count": 11,
   "metadata": {
    "collapsed": false
   },
   "outputs": [
    {
     "name": "stdout",
     "output_type": "stream",
     "text": [
      "Adding is easy:  set([0, 1, 2, 3, 'string!'])\n"
     ]
    }
   ],
   "source": [
    "myset.add(\"string!\") #you can use both ' and \" to declare a string\n",
    "print 'Adding is easy: ', myset"
   ]
  },
  {
   "cell_type": "code",
   "execution_count": 12,
   "metadata": {
    "collapsed": false
   },
   "outputs": [
    {
     "name": "stdout",
     "output_type": "stream",
     "text": [
      "But remember, duplicates don't count!  set([0, 1, 2, 3, 'string!'])\n"
     ]
    }
   ],
   "source": [
    "myset.add(0)\n",
    "print \"But remember, duplicates don't count! \", myset"
   ]
  },
  {
   "cell_type": "code",
   "execution_count": 13,
   "metadata": {
    "collapsed": false
   },
   "outputs": [
    {
     "name": "stdout",
     "output_type": "stream",
     "text": [
      "{'secondkey': 2, 3: 'three', 'firstkey': 1}\n"
     ]
    }
   ],
   "source": [
    "mydict = {'firstkey':1, 'secondkey':2, 3:'three'}\n",
    "print mydict"
   ]
  },
  {
   "cell_type": "code",
   "execution_count": 14,
   "metadata": {
    "collapsed": false
   },
   "outputs": [
    {
     "name": "stdout",
     "output_type": "stream",
     "text": [
      "1\n",
      "2\n",
      "three\n"
     ]
    }
   ],
   "source": [
    "print mydict['firstkey']\n",
    "print mydict['secondkey']\n",
    "print mydict[3]"
   ]
  },
  {
   "cell_type": "code",
   "execution_count": 15,
   "metadata": {
    "collapsed": false
   },
   "outputs": [
    {
     "name": "stdout",
     "output_type": "stream",
     "text": [
      "Get the keys (note lack of ordering):  ['secondkey', 3, 'firstkey']\n",
      "Get the values:  [2, 'three', 1]\n"
     ]
    }
   ],
   "source": [
    "print 'Get the keys (note lack of ordering): ', mydict.keys()\n",
    "print 'Get the values: ', mydict.values()"
   ]
  },
  {
   "cell_type": "code",
   "execution_count": 16,
   "metadata": {
    "collapsed": false
   },
   "outputs": [
    {
     "name": "stdout",
     "output_type": "stream",
     "text": [
      "This will fail: "
     ]
    },
    {
     "ename": "KeyError",
     "evalue": "2",
     "output_type": "error",
     "traceback": [
      "\u001b[0;31m---------------------------------------------------------------------------\u001b[0m",
      "\u001b[0;31mKeyError\u001b[0m                                  Traceback (most recent call last)",
      "\u001b[0;32m<ipython-input-16-81c8f00129aa>\u001b[0m in \u001b[0;36m<module>\u001b[0;34m()\u001b[0m\n\u001b[0;32m----> 1\u001b[0;31m \u001b[0;32mprint\u001b[0m \u001b[0;34m'This will fail: '\u001b[0m\u001b[0;34m,\u001b[0m \u001b[0mmydict\u001b[0m\u001b[0;34m[\u001b[0m\u001b[0;36m2\u001b[0m\u001b[0;34m]\u001b[0m\u001b[0;34m\u001b[0m\u001b[0m\n\u001b[0m",
      "\u001b[0;31mKeyError\u001b[0m: 2"
     ]
    }
   ],
   "source": [
    "print 'This will fail: ', mydict[2]"
   ]
  },
  {
   "cell_type": "markdown",
   "metadata": {},
   "source": [
    "## INDEXING\n",
    "* Indexing starts from 0\n",
    "* Index with square brackets [start (: stop(: step))]\n",
    "* \"stop\" is *exclusive* of the named index\n",
    "* Colon alone means \"all of these\" or \"to the start/end\""
   ]
  },
  {
   "cell_type": "code",
   "execution_count": 17,
   "metadata": {
    "collapsed": false
   },
   "outputs": [
    {
     "name": "stdout",
     "output_type": "stream",
     "text": [
      " x[3] gives  3\n",
      "x[1,5,2] gives  [1, 3]\n"
     ]
    }
   ],
   "source": [
    "x = range(10)\n",
    "print 'x[3] gives ', x[3]\n",
    "print 'x[1,5,2] gives ', x[1:5:2]"
   ]
  },
  {
   "cell_type": "code",
   "execution_count": 18,
   "metadata": {
    "collapsed": false
   },
   "outputs": [
    {
     "name": "stdout",
     "output_type": "stream",
     "text": [
      "x[8:] gives  [8, 9]\n",
      "x[:7] gives  [0, 1, 2, 3, 4, 5, 6]\n",
      "x[::3] gives  [0, 3, 6, 9]\n"
     ]
    }
   ],
   "source": [
    "print 'x[8:] gives ', x[8:]\n",
    "print 'x[:7] gives ', x[:7]\n",
    "print 'x[::3] gives ', x[::3]"
   ]
  },
  {
   "cell_type": "markdown",
   "metadata": {},
   "source": [
    "## PYTHON IS LIKE, BUT ISN'T, MATLAB\n",
    "- This is a *power*:"
   ]
  },
  {
   "cell_type": "code",
   "execution_count": 19,
   "metadata": {
    "collapsed": true
   },
   "outputs": [],
   "source": [
    "x = 10.0**2  #...or...\n",
    "import numpy as np\n",
    "x = np.square(10.)  # NEVER 10.^2."
   ]
  },
  {
   "cell_type": "markdown",
   "metadata": {},
   "source": [
    "Likewise, it's also useful to know about the \"truncation\" (//) and \"remainder\" (%) division operators:"
   ]
  },
  {
   "cell_type": "code",
   "execution_count": 20,
   "metadata": {
    "collapsed": false
   },
   "outputs": [
    {
     "name": "stdout",
     "output_type": "stream",
     "text": [
      "truncate:  3\n",
      "remainder:  1\n"
     ]
    }
   ],
   "source": [
    "print 'truncate: ', 13//4\n",
    "print 'remainder: ', 13%4"
   ]
  },
  {
   "cell_type": "markdown",
   "metadata": {},
   "source": [
    "- End indices are NOT inclusive"
   ]
  },
  {
   "cell_type": "code",
   "execution_count": 21,
   "metadata": {
    "collapsed": false
   },
   "outputs": [
    {
     "data": {
      "text/plain": [
       "100"
      ]
     },
     "execution_count": 21,
     "metadata": {},
     "output_type": "execute_result"
    }
   ],
   "source": [
    "len(range(0,100)) #in Matlab this would be 101"
   ]
  },
  {
   "cell_type": "code",
   "execution_count": 22,
   "metadata": {
    "collapsed": false
   },
   "outputs": [
    {
     "data": {
      "text/plain": [
       "[0, 1, 2, 3, 4]"
      ]
     },
     "execution_count": 22,
     "metadata": {},
     "output_type": "execute_result"
    }
   ],
   "source": [
    "[x for x in xrange(5)]"
   ]
  },
  {
   "cell_type": "markdown",
   "metadata": {},
   "source": [
    "- Intelligent memory management means Python will pass objects *by reference* where possible:"
   ]
  },
  {
   "cell_type": "code",
   "execution_count": 23,
   "metadata": {
    "collapsed": false
   },
   "outputs": [
    {
     "name": "stdout",
     "output_type": "stream",
     "text": [
      "x starts as  [0, 0, 0]\n",
      "y starts as  [1, 2, 3]\n"
     ]
    }
   ],
   "source": [
    "x = [0] * 3\n",
    "y = [1,2,3]\n",
    "print 'x starts as ', x\n",
    "print 'y starts as ', y"
   ]
  },
  {
   "cell_type": "code",
   "execution_count": 24,
   "metadata": {
    "collapsed": false
   },
   "outputs": [
    {
     "name": "stdout",
     "output_type": "stream",
     "text": [
      "After setting equal, x is  [1, 2, 3]\n"
     ]
    }
   ],
   "source": [
    "x = y\n",
    "print 'After setting equal, x is ', x"
   ]
  },
  {
   "cell_type": "code",
   "execution_count": 25,
   "metadata": {
    "collapsed": false
   },
   "outputs": [
    {
     "name": "stdout",
     "output_type": "stream",
     "text": [
      "After modifying y, x is  [1, 100, 3]\n"
     ]
    }
   ],
   "source": [
    "y[1] = 100\n",
    "print 'After modifying y, x is ', x"
   ]
  },
  {
   "cell_type": "code",
   "execution_count": 26,
   "metadata": {
    "collapsed": true
   },
   "outputs": [],
   "source": [
    "#force a copy with [:]\n",
    "x = y[:]"
   ]
  },
  {
   "cell_type": "code",
   "execution_count": 27,
   "metadata": {
    "collapsed": false
   },
   "outputs": [
    {
     "name": "stdout",
     "output_type": "stream",
     "text": [
      "After forcing a copy, x is still  [1, 100, 3]  but y is now  [1, 1000000, 3]\n"
     ]
    }
   ],
   "source": [
    "y[1] = 1000000\n",
    "print 'After forcing a copy, x is still ', x, ' but y is now ', y"
   ]
  },
  {
   "cell_type": "markdown",
   "metadata": {},
   "source": [
    "- As long as you assign to a variable, Python doesn't output by default, so lines don't have to terminate in \";\""
   ]
  },
  {
   "cell_type": "code",
   "execution_count": 28,
   "metadata": {
    "collapsed": false
   },
   "outputs": [],
   "source": [
    "x = range(10) #...see?"
   ]
  },
  {
   "cell_type": "markdown",
   "metadata": {},
   "source": [
    "- Python doesn't use brackets to delineate code blocks. It uses *indentation* with a fixed number of spaces (normally 4). This also applies to for loops, while loops, if statements, try/except statements, class declarations, function declarations, etc etc."
   ]
  },
  {
   "cell_type": "code",
   "execution_count": 29,
   "metadata": {
    "collapsed": false
   },
   "outputs": [],
   "source": [
    "def myfunction(arg1, arg2, **kwds):\n",
    "    # **kwds is a special (optional) dictionary input type,\n",
    "    # that you can use as an input \"wildcard\"\n",
    "    try:\n",
    "        print_this = kwds['printy']\n",
    "    except KeyError:\n",
    "        x = arg1 * arg2\n",
    "        return x  #...no brackets needed; both lines have 4 space indents\n",
    "    else:\n",
    "        print print_this"
   ]
  },
  {
   "cell_type": "code",
   "execution_count": 30,
   "metadata": {
    "collapsed": false
   },
   "outputs": [
    {
     "name": "stdout",
     "output_type": "stream",
     "text": [
      "first time  12.0\n"
     ]
    }
   ],
   "source": [
    "print 'first time ', myfunction(3.,4.)"
   ]
  },
  {
   "cell_type": "code",
   "execution_count": 31,
   "metadata": {
    "collapsed": false
   },
   "outputs": [
    {
     "name": "stdout",
     "output_type": "stream",
     "text": [
      "second time... \n",
      "Printed this time!\n"
     ]
    }
   ],
   "source": [
    "print 'second time... '\n",
    "myfunction(5,6,printy='Printed this time!')"
   ]
  },
  {
   "cell_type": "markdown",
   "metadata": {},
   "source": [
    "- Python's plotting is a blatant clone of matlab's, and lives in the library matplotlib.pyplot:"
   ]
  },
  {
   "cell_type": "code",
   "execution_count": 32,
   "metadata": {
    "collapsed": false
   },
   "outputs": [
    {
     "name": "stderr",
     "output_type": "stream",
     "text": [
      "/anaconda/lib/python2.7/site-packages/ipykernel/__main__.py:6: DeprecationWarning: using a non-integer number instead of an integer will result in an error in the future\n"
     ]
    },
    {
     "data": {
      "text/plain": [
       "<matplotlib.text.Text at 0x10625a450>"
      ]
     },
     "execution_count": 32,
     "metadata": {},
     "output_type": "execute_result"
    },
    {
     "data": {
      "image/png": "[encoded data removed]",
      "text/plain": [
       "<matplotlib.figure.Figure at 0x105033350>"
      ]
     },
     "metadata": {},
     "output_type": "display_data"
    }
   ],
   "source": [
    "%matplotlib inline\n",
    "#that command tells this notebook to put plots into the notebook\n",
    "import matplotlib.pyplot as plt\n",
    "import numpy as np\n",
    "x = np.arange(10.) #like range()\n",
    "y = np.random.rand(10.) #ten random floats, 0->1\n",
    "plt.plot(x,y, '*--')\n",
    "plt.xlabel('xaxis')\n",
    "plt.ylabel('yaxis')\n",
    "plt.title('my plot!')"
   ]
  },
  {
   "cell_type": "markdown",
   "metadata": {
    "collapsed": true
   },
   "source": [
    "## NUMPY and LANDLAB"
   ]
  },
  {
   "cell_type": "markdown",
   "metadata": {
    "collapsed": true
   },
   "source": [
    "Landlab makes extensive use of the numpy (Numeric Python) libraries. These allow significant acceleration of standard Python processes on matrix-like data arrays. Here we look at some of the key features and differences with pure Python, and some numpy best-practice."
   ]
  },
  {
   "cell_type": "code",
   "execution_count": 33,
   "metadata": {
    "collapsed": true
   },
   "outputs": [],
   "source": [
    "import numpy as np"
   ]
  },
  {
   "cell_type": "markdown",
   "metadata": {},
   "source": [
    "Initialize numpy arrays from standard Python iterables (lists, tuples):"
   ]
  },
  {
   "cell_type": "code",
   "execution_count": 34,
   "metadata": {
    "collapsed": true
   },
   "outputs": [],
   "source": [
    "myarray = np.array([0,1,3,6,18])"
   ]
  },
  {
   "cell_type": "markdown",
   "metadata": {},
   "source": [
    "...or with one of the standard array creation methods in numpy. Particularly useful ones are:"
   ]
  },
  {
   "cell_type": "code",
   "execution_count": 35,
   "metadata": {
    "collapsed": false
   },
   "outputs": [
    {
     "name": "stdout",
     "output_type": "stream",
     "text": [
      "a:  [0 0 0 0 0 0 0 0 0 0]\n"
     ]
    }
   ],
   "source": [
    "a = np.zeros(10, dtype=int)\n",
    "print 'a: ', a"
   ]
  },
  {
   "cell_type": "code",
   "execution_count": 36,
   "metadata": {
    "collapsed": false
   },
   "outputs": [
    {
     "name": "stdout",
     "output_type": "stream",
     "text": [
      "b:  [ True  True  True  True  True]\n"
     ]
    }
   ],
   "source": [
    "b = np.ones(5, dtype=bool)\n",
    "print 'b: ', b"
   ]
  },
  {
   "cell_type": "code",
   "execution_count": 37,
   "metadata": {
    "collapsed": false
   },
   "outputs": [
    {
     "name": "stdout",
     "output_type": "stream",
     "text": [
      "c:  [ 0.68004833  0.65248508  0.30035209  0.07221452  0.25415471  0.17260486\n",
      "  0.11889545  0.88646453  0.15554139  0.75275729]\n"
     ]
    }
   ],
   "source": [
    "c = np.random.rand(10)\n",
    "print 'c: ', c"
   ]
  },
  {
   "cell_type": "code",
   "execution_count": 38,
   "metadata": {
    "collapsed": false
   },
   "outputs": [
    {
     "name": "stdout",
     "output_type": "stream",
     "text": [
      "d:  [ 0.  1.  2.  3.  4.]\n"
     ]
    }
   ],
   "source": [
    "d = np.arange(5.)\n",
    "print 'd: ', d"
   ]
  },
  {
   "cell_type": "code",
   "execution_count": 39,
   "metadata": {
    "collapsed": false
   },
   "outputs": [
    {
     "name": "stdout",
     "output_type": "stream",
     "text": [
      "e:  [[ 100.  100.  100.]\n",
      " [ 100.  100.  100.]\n",
      " [ 100.  100.  100.]]\n"
     ]
    }
   ],
   "source": [
    "e = np.empty((3,3), dtype=float)\n",
    "e.fill(100.)\n",
    "print 'e: ', e"
   ]
  },
  {
   "cell_type": "markdown",
   "metadata": {},
   "source": [
    "Arrays also have some built in methods and properties. We see 'fill' above, but also noteworthy are:"
   ]
  },
  {
   "cell_type": "code",
   "execution_count": 40,
   "metadata": {
    "collapsed": false
   },
   "outputs": [
    {
     "name": "stdout",
     "output_type": "stream",
     "text": [
      "shape:  (3, 3)\n",
      "size:  9\n"
     ]
    },
    {
     "data": {
      "text/plain": [
       "(0.8864645323063457,\n",
       " 0.072214515484874897,\n",
       " 0.40455182394572836,\n",
       " 4.0455182394572837)"
      ]
     },
     "execution_count": 40,
     "metadata": {},
     "output_type": "execute_result"
    }
   ],
   "source": [
    "print 'shape: ', e.shape\n",
    "print 'size: ', e.size #preferred to len()\n",
    "c.max(), c.min(), c.mean(), c.sum()"
   ]
  },
  {
   "cell_type": "code",
   "execution_count": 41,
   "metadata": {
    "collapsed": false
   },
   "outputs": [
    {
     "name": "stdout",
     "output_type": "stream",
     "text": [
      "flatten:  [ 100.  100.  100.  100.  100.  100.  100.  100.  100.]\n"
     ]
    }
   ],
   "source": [
    "f = c.copy()\n",
    "print 'flatten: ', e.flatten()"
   ]
  },
  {
   "cell_type": "markdown",
   "metadata": {},
   "source": [
    "Slicing works like (better than?) in pure Python:"
   ]
  },
  {
   "cell_type": "code",
   "execution_count": 42,
   "metadata": {
    "collapsed": false
   },
   "outputs": [
    {
     "name": "stdout",
     "output_type": "stream",
     "text": [
      "[ 2.  3.  4.]\n"
     ]
    }
   ],
   "source": [
    "print d[2:]"
   ]
  },
  {
   "cell_type": "code",
   "execution_count": 43,
   "metadata": {
    "collapsed": false
   },
   "outputs": [
    {
     "name": "stdout",
     "output_type": "stream",
     "text": [
      "[[ 100.  100.  100.]\n",
      " [ 100.    5.  100.]\n",
      " [ 100.  100.  100.]]\n"
     ]
    }
   ],
   "source": [
    " e[1,1] = 5.\n",
    "print e"
   ]
  },
  {
   "cell_type": "code",
   "execution_count": 44,
   "metadata": {
    "collapsed": false
   },
   "outputs": [
    {
     "name": "stdout",
     "output_type": "stream",
     "text": [
      "[[   5.  100.]\n",
      " [ 100.  100.]]\n"
     ]
    }
   ],
   "source": [
    "print e[1:,1:]"
   ]
  },
  {
   "cell_type": "markdown",
   "metadata": {},
   "source": [
    "Note that logical operations with numpy tend to require numpy-native functions, rather than pure Python and, or, not etc."
   ]
  },
  {
   "cell_type": "code",
   "execution_count": 45,
   "metadata": {
    "collapsed": false
   },
   "outputs": [
    {
     "name": "stdout",
     "output_type": "stream",
     "text": [
      "AND:  [ True False False False]\n",
      "OR:  [ True  True  True False]\n",
      "NOT:  [False False  True  True]\n"
     ]
    }
   ],
   "source": [
    "bool1 = np.array([True, True, False, False])\n",
    "bool2 = np.array([True, False, True, False])\n",
    "print 'AND: ', np.logical_and(bool1, bool2)\n",
    "print 'OR: ', np.logical_or(bool1, bool2)\n",
    "print 'NOT: ', np.logical_not(bool1)"
   ]
  },
  {
   "cell_type": "code",
   "execution_count": 46,
   "metadata": {
    "collapsed": false
   },
   "outputs": [
    {
     "name": "stdout",
     "output_type": "stream",
     "text": [
      "ANY:  True\n",
      "ALL:  False\n"
     ]
    }
   ],
   "source": [
    "print 'ANY: ', np.any(bool1)\n",
    "print 'ALL: ', np.all(bool1)"
   ]
  },
  {
   "cell_type": "markdown",
   "metadata": {},
   "source": [
    "Now, let's demonstrate the speed of numpy over pure Python:"
   ]
  },
  {
   "cell_type": "code",
   "execution_count": 47,
   "metadata": {
    "collapsed": false
   },
   "outputs": [],
   "source": [
    "f_list = range(1000)\n",
    "f_array = np.arange(1000, dtype=int)\n",
    "\n",
    "def addone_py(list_in):\n",
    "    for i in list_in:\n",
    "        i += 1\n",
    "\n",
    "def addone_np(array_in):\n",
    "    array_in += 1"
   ]
  },
  {
   "cell_type": "code",
   "execution_count": 48,
   "metadata": {
    "collapsed": false
   },
   "outputs": [
    {
     "name": "stdout",
     "output_type": "stream",
     "text": [
      "time for list:\n",
      "10000 loops, best of 3: 62.3 µs per loop\n"
     ]
    }
   ],
   "source": [
    "print 'time for list:'\n",
    "%timeit addone_py(f_list)"
   ]
  },
  {
   "cell_type": "code",
   "execution_count": 49,
   "metadata": {
    "collapsed": false
   },
   "outputs": [
    {
     "name": "stdout",
     "output_type": "stream",
     "text": [
      "time for array:\n",
      "The slowest run took 262.61 times longer than the fastest. This could mean that an intermediate result is being cached \n",
      "1000000 loops, best of 3: 1.83 µs per loop\n"
     ]
    }
   ],
   "source": [
    "print 'time for array:'\n",
    "%timeit addone_np(f_array)"
   ]
  },
  {
   "cell_type": "markdown",
   "metadata": {},
   "source": [
    "In particular, never loop to do a logical test:"
   ]
  },
  {
   "cell_type": "code",
   "execution_count": 50,
   "metadata": {
    "collapsed": false
   },
   "outputs": [
    {
     "name": "stdout",
     "output_type": "stream",
     "text": [
      "True\n"
     ]
    },
    {
     "name": "stderr",
     "output_type": "stream",
     "text": [
      "/anaconda/lib/python2.7/site-packages/ipykernel/__main__.py:2: DeprecationWarning: using a non-integer number instead of an integer will result in an error in the future\n",
      "  from ipykernel import kernelapp as app\n",
      "/anaconda/lib/python2.7/site-packages/ipykernel/__main__.py:8: DeprecationWarning: using a non-integer number instead of an integer will result in an error in the future\n"
     ]
    }
   ],
   "source": [
    "#NOT THIS:\n",
    "myoutput_slow = np.zeros(10., dtype=float)\n",
    "for i in xrange(len(c)): #c is our random number array\n",
    "    if c[i] > 0.5:\n",
    "        myoutput_slow[i] = c[i]\n",
    "\n",
    "#DO THIS INSTEAD:\n",
    "myoutput_fast = np.zeros(10., dtype=float)\n",
    "greater_than_half = c>0.5\n",
    "myoutput_fast[greater_than_half] = c[greater_than_half]\n",
    "\n",
    "print np.all(np.equal(myoutput_slow, myoutput_fast))"
   ]
  },
  {
   "cell_type": "markdown",
   "metadata": {
    "collapsed": true
   },
   "source": [
    "The online numpy help is actually an extremely readable resource, and is highly recommended to find out more about the family of available numpy methods."
   ]
  }
 ],
 "metadata": {
  "kernelspec": {
   "display_name": "Python 2",
   "language": "python",
   "name": "python2"
  },
  "language_info": {
   "codemirror_mode": {
    "name": "ipython",
    "version": 2
   },
   "file_extension": ".py",
   "mimetype": "text/x-python",
   "name": "python",
   "nbconvert_exporter": "python",
   "pygments_lexer": "ipython2",
   "version": "2.7.10"
  }
 },
 "nbformat": 4,
 "nbformat_minor": 0
}
