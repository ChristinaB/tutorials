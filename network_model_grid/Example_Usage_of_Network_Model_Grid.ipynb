{
 "cells": [
  {
   "cell_type": "markdown",
   "metadata": {},
   "source": [
    "# Introduction to NetworkModelGrid\n",
    "This tutorial provides a basic introduction to the ``NetworkModelGrid`` grid class in Landlab. \n",
    "\n",
    "In its current form it is intended to highlight current capabilities and spark discussion on what sort of capabilities this model grid class should have. "
   ]
  },
  {
   "cell_type": "code",
   "execution_count": 1,
   "metadata": {
    "collapsed": true
   },
   "outputs": [],
   "source": [
    "# Start by importing necessary modules\n",
    "from landlab.grid.network import NetworkModelGrid\n",
    "import numpy as np"
   ]
  },
  {
   "cell_type": "code",
   "execution_count": 2,
   "metadata": {},
   "outputs": [
    {
     "name": "stdout",
     "output_type": "stream",
     "text": [
      "[ 0.  0. -1.  1.  2.]\n",
      "[ 0.  1.  2.  2.  3.]\n",
      "[[0 1]\n",
      " [2 1]\n",
      " [1 3]\n",
      " [3 4]]\n"
     ]
    }
   ],
   "source": [
    "# define a grid, right now this is done by passing three datastructures:\n",
    "# grid = NetworkModelGrid((y_of_node, x_of_node), nodes_at_link)\n",
    "\n",
    "y_of_node = (0, 1, 2, 2, 3)\n",
    "x_of_node = (0, 0, -1, 1, 2)\n",
    "nodes_at_link = ((1, 0), (2, 1), (3, 1), (3, 4))\n",
    "grid = NetworkModelGrid((y_of_node, x_of_node), nodes_at_link)\n",
    "\n",
    "\n",
    "print(grid.x_of_node)\n",
    "#array([ 0.,  0., -1.,  1.])\n",
    "print(grid.y_of_node)\n",
    "#array([ 0.,  1.,  2.,  2.])\n",
    "print(grid.nodes_at_link)\n",
    "#array([[0, 1],\n",
    "#       [2, 1],\n",
    "#       [1, 3]])\n",
    "\n",
    "# we can store simple arrays at links and at nodes (complex things lower in the notebook)\n",
    "grid.at_node['z'] = [1, 2, 3, 4, 5]\n",
    "grid.at_link['z'] = [10, 20, 30, 40]"
   ]
  },
  {
   "cell_type": "code",
   "execution_count": 3,
   "metadata": {},
   "outputs": [
    {
     "data": {
      "image/png": "[encoded data removed]",
      "text/plain": [
       "<matplotlib.figure.Figure at 0x119166828>"
      ]
     },
     "metadata": {},
     "output_type": "display_data"
    }
   ],
   "source": [
    "# there is a nice plotting function for simple graphs. \n",
    "\n",
    "from landlab.plot import graph\n",
    "graph.plot_graph(grid, at='node,link')"
   ]
  },
  {
   "cell_type": "code",
   "execution_count": 4,
   "metadata": {},
   "outputs": [
    {
     "data": {
      "text/plain": [
       "array([[-1,  0,  0],\n",
       "       [-1,  1,  1],\n",
       "       [-1,  0,  0],\n",
       "       [-1,  1,  0],\n",
       "       [ 1,  0,  0]])"
      ]
     },
     "execution_count": 4,
     "metadata": {},
     "output_type": "execute_result"
    }
   ],
   "source": [
    "# We can get information about the grid\n",
    "\n",
    "# see http://landlab.readthedocs.io/en/release/landlab.grid.base.html#getting-information-about-a-grid\n",
    "# for information about what we can get\n",
    "# We can only get things that require only nodes and links\n",
    "# For the standard divergences in landlab, a face or cell is also required, so we don't have those. \n",
    "\n",
    "# for example link directions at node, these are defined by the orientation\n",
    "# in cartesian space, not based on flow direction.\n",
    "\n",
    "# 1=incoming flux, -1=outgoing flux, 0=no flux.\n",
    "grid.link_dirs_at_node\n"
   ]
  },
  {
   "cell_type": "code",
   "execution_count": 5,
   "metadata": {},
   "outputs": [
    {
     "data": {
      "text/plain": [
       "array([1, 1, 3, 4])"
      ]
     },
     "execution_count": 5,
     "metadata": {},
     "output_type": "execute_result"
    }
   ],
   "source": [
    "# we gan get things like the node at link head\n",
    "grid.node_at_link_head"
   ]
  },
  {
   "cell_type": "code",
   "execution_count": 6,
   "metadata": {},
   "outputs": [
    {
     "name": "stdout",
     "output_type": "stream",
     "text": [
      "2\n",
      "2\n",
      "4\n",
      "5\n"
     ]
    }
   ],
   "source": [
    "# We can use these datastructures to move around \n",
    "# on the grid. \n",
    "\n",
    "# for example, here we'll get the value for z on the\n",
    "# node that is at the link head. \n",
    "for ind in grid.node_at_link_head:\n",
    "    print(grid.at_node['z'][ind])\n"
   ]
  },
  {
   "cell_type": "code",
   "execution_count": 7,
   "metadata": {},
   "outputs": [
    {
     "data": {
      "text/plain": [
       "array([[ 1, -1, -1],\n",
       "       [ 3,  2,  0],\n",
       "       [ 1, -1, -1],\n",
       "       [ 4,  1, -1],\n",
       "       [ 3, -1, -1]])"
      ]
     },
     "execution_count": 7,
     "metadata": {},
     "output_type": "execute_result"
    }
   ],
   "source": [
    "# and the nodes next to each node\n",
    "# here and most other places in Landlab\n",
    "# -1 is a fill value that means\n",
    "# there is no neighbor\n",
    "grid.adjacent_nodes_at_node"
   ]
  },
  {
   "cell_type": "code",
   "execution_count": 8,
   "metadata": {},
   "outputs": [],
   "source": [
    "# lets add topography and make it go with Y, so we have a sloping network. \n",
    "\n",
    "# landlab's components make some assumptions about what different fields are \n",
    "# named. Typically the elevation of the surface of the earth is called\n",
    "# topographic__elevation\n",
    "\n",
    "z_node = grid.add_ones('topographic__elevation', at='node')\n",
    "z_node += grid.y_of_node\n",
    "\n",
    "# we are going to route flow over the network, and this requires\n",
    "# that each node has some area. \n",
    "\n",
    "# for NetworkModelGrids this means that there must be an\n",
    "# at-node array called cell_area_at_node.\n",
    "# For now we'll make it have ones, but if you had specific drainage\n",
    "# areas associated with each node, then you could put this here. \n",
    "area = grid.add_ones('cell_area_at_node', at = 'node')\n"
   ]
  },
  {
   "cell_type": "code",
   "execution_count": 9,
   "metadata": {},
   "outputs": [],
   "source": [
    "# We'll import the flow accumulator and run it. \n",
    "\n",
    "from landlab.components import FlowAccumulator\n",
    "fa = FlowAccumulator(grid)\n",
    "fa.run_one_step()\n"
   ]
  },
  {
   "cell_type": "code",
   "execution_count": 10,
   "metadata": {},
   "outputs": [
    {
     "data": {
      "text/plain": [
       "Frozen(OrderedDict([('z@node', <xarray.Variable (node: 5)>\n",
       "array([1, 2, 3, 4, 5])\n",
       "Attributes:\n",
       "    units:    ?), ('topographic__elevation@node', <xarray.Variable (node: 5)>\n",
       "array([ 1.,  2.,  3.,  3.,  4.])\n",
       "Attributes:\n",
       "    units:    ?), ('cell_area_at_node@node', <xarray.Variable (node: 5)>\n",
       "array([ 1.,  1.,  1.,  1.,  1.])\n",
       "Attributes:\n",
       "    units:    ?), ('water__unit_flux_in@node', <xarray.Variable (node: 5)>\n",
       "array([ 1.,  1.,  1.,  1.,  1.])\n",
       "Attributes:\n",
       "    units:    ?), ('flow__receiver_node@node', <xarray.Variable (node: 5)>\n",
       "array([0, 0, 1, 1, 3])\n",
       "Attributes:\n",
       "    units:    ?), ('topographic__steepest_slope@node', <xarray.Variable (node: 5)>\n",
       "array([ 0.      ,  1.      ,  0.707107,  0.707107,  0.707107])\n",
       "Attributes:\n",
       "    units:    ?), ('flow__link_to_receiver_node@node', <xarray.Variable (node: 5)>\n",
       "array([-1,  0,  1,  2,  3])\n",
       "Attributes:\n",
       "    units:    ?), ('flow__sink_flag@node', <xarray.Variable (node: 5)>\n",
       "array([1, 0, 0, 0, 0], dtype=int8)\n",
       "Attributes:\n",
       "    units:    ?), ('drainage_area@node', <xarray.Variable (node: 5)>\n",
       "array([ 5.,  4.,  1.,  2.,  1.])\n",
       "Attributes:\n",
       "    units:    ?), ('surface_water__discharge@node', <xarray.Variable (node: 5)>\n",
       "array([ 5.,  4.,  1.,  2.,  1.])\n",
       "Attributes:\n",
       "    units:    ?), ('flow__upstream_node_order@node', <xarray.Variable (node: 5)>\n",
       "array([0, 1, 2, 3, 4])\n",
       "Attributes:\n",
       "    units:    ?), ('flow__data_structure_delta@node', <xarray.Variable (node: 5)>\n",
       "array([2, 4, 4, 5, 5])\n",
       "Attributes:\n",
       "    units:    ?)]))"
      ]
     },
     "execution_count": 10,
     "metadata": {},
     "output_type": "execute_result"
    }
   ],
   "source": [
    "# The flow accumulator has made a bunch of additional fields for our model grid. \n",
    "\n",
    "grid.at_node.keys()"
   ]
  },
  {
   "cell_type": "code",
   "execution_count": 11,
   "metadata": {},
   "outputs": [
    {
     "data": {
      "text/plain": [
       "array([0, 0, 1, 1, 3])"
      ]
     },
     "execution_count": 11,
     "metadata": {},
     "output_type": "execute_result"
    }
   ],
   "source": [
    "# for example the flow reciever node is the node ID of each node's flow reciever. \n",
    "grid['node']['flow__receiver_node']"
   ]
  },
  {
   "cell_type": "code",
   "execution_count": 12,
   "metadata": {},
   "outputs": [
    {
     "name": "stdout",
     "output_type": "stream",
     "text": [
      "[0]\n",
      "Node  4  flows to  3\n",
      "Node  3  flows to  1\n",
      "Node  2  flows to  1\n",
      "Node  1  flows to  0\n",
      "[2 4]\n"
     ]
    }
   ],
   "source": [
    "# in our call, we discussed a few things people would like to be able to easily access\n",
    "# Here is a quick attempt at doing these:\n",
    "\n",
    "# Identify which nodes have no incoming links. \n",
    "# The landlab standard is that a node that flows to itself has a \n",
    "# flow__receiver_node value of its node ID. this makes it easy to find\n",
    "# outlets\n",
    "\n",
    "outlet_ids = np.where(grid['node']['flow__receiver_node'] == grid.nodes)[0]\n",
    "print(outlet_ids)\n",
    "\n",
    "# Ability to assign direction to links (not link_dirs, but like a directed graph)\n",
    "# the FlowAccumulator component assigns a reciever node based on topography. \n",
    "\n",
    "# one way to do this is to use the flow recievers. \n",
    "# if necessary, we could also make a version of the link_dirs_at_node\n",
    "# attribute that was link_flow_dirs_at_node\n",
    "recievers = grid['node']['flow__receiver_node']\n",
    "\n",
    "# Get the flow data structure (this has built into it starting \n",
    "# from nodes that have no drainage area and working to the outlet).\n",
    "downstream_to_upstream_structure = grid['node']['flow__upstream_node_order']\n",
    "\n",
    "# itterate from upstream to downstream \n",
    "for node in downstream_to_upstream_structure[-1:0:-1]:\n",
    "    reciever = recievers[node]\n",
    "    print('Node ', node, ' flows to ', reciever)\n",
    "\n",
    "# if one wated to find out which nodes have no incoming flow, we'd either\n",
    "# need to add this to what the flowAccumulator saves (it calculates this, but\n",
    "# doesn't save it). \n",
    "\n",
    "# or we could just re-calculate it. \n",
    "\n",
    "from landlab.components.flow_accum import flow_accum_bw\n",
    "number_of_donors = flow_accum_bw._make_number_of_donors_array(recievers)\n",
    "\n",
    "headwater_nodes = np.where(number_of_donors==0)[0]\n",
    "print(headwater_nodes)\n"
   ]
  },
  {
   "cell_type": "code",
   "execution_count": 13,
   "metadata": {},
   "outputs": [
    {
     "data": {
      "text/plain": [
       "array([ 1.        , -0.70710678,  0.70710678,  0.70710678])"
      ]
     },
     "execution_count": 13,
     "metadata": {},
     "output_type": "execute_result"
    }
   ],
   "source": [
    "# methods that work for with only links and nodes on other landlab grids\n",
    "# work here too. \n",
    "grid.calc_grad_at_link(z_node)\n"
   ]
  },
  {
   "cell_type": "code",
   "execution_count": 14,
   "metadata": {
    "collapsed": true
   },
   "outputs": [],
   "source": [
    "# and we can save to the Ugrid format\n",
    "grid.to_netcdf('network.nc')"
   ]
  },
  {
   "cell_type": "code",
   "execution_count": 15,
   "metadata": {},
   "outputs": [
    {
     "name": "stdout",
     "output_type": "stream",
     "text": [
      "*** ncdump: ncopen failed on network.nc\r\n"
     ]
    }
   ],
   "source": [
    "# we think this should work, but its not working on Katy's computer\n",
    "!ncdump -h network.nc"
   ]
  },
  {
   "cell_type": "code",
   "execution_count": 16,
   "metadata": {},
   "outputs": [
    {
     "name": "stdout",
     "output_type": "stream",
     "text": [
      "Example_Usage_of_Network_Model_Grid.ipynb\r\n",
      "network.nc\r\n"
     ]
    }
   ],
   "source": [
    "# Though a netcdf is created\n",
    "!ls"
   ]
  },
  {
   "cell_type": "markdown",
   "metadata": {},
   "source": [
    "One might want to store more complicated things at grids and nodes. Two things that have come up in discussions are:\n",
    "\n",
    "1) Storing ragged arrays at links and nodes\n",
    "\n",
    "2) Storing profiles (e.g. long channel profiles) on links. \n",
    "\n",
    "The next two cells give an example of such datastructures. \n",
    "\n",
    "These two examples work, though we don't know the efficiency in model usage of these implementations. \n",
    "\n",
    "These work because we can create a numpy object array of length number-of-links or number-of-nodes and store this array at links or nodes. \n",
    "\n",
    "Here we've stored numpy arrays and dictionaries, but it could be lists, sets, etc. "
   ]
  },
  {
   "cell_type": "code",
   "execution_count": 17,
   "metadata": {
    "collapsed": true
   },
   "outputs": [],
   "source": [
    "# its important to john that he can also store the time dimention\n",
    "# John has attributes for links, nodes, and parcels. \n",
    "# Its important for him to be able to calculate math values, aggregate/min/max statistics of the parcels on the graph elements\n",
    "# \n",
    "\n",
    "#sediment_data = ...\n",
    "\n",
    "#aggregated_data = sediment_data.sum(grid, at='links', attribute='volume')\n",
    "\n",
    "\n",
    "# this would produce a number of links long array of the sum of volume of parcels at link. \n",
    "\n",
    "\n",
    "# store ragged arrays at links and nodes\n",
    "sediment_id = [[0],\n",
    "               [3,5],\n",
    "               [2,1,4,6], \n",
    "               [59, 30]]\n",
    "\n",
    "grid.at_link['sediment_id']=sediment_id\n",
    "\n",
    "\n",
    "water_id = [np.array([0]),\n",
    "            np.array([3,5]),\n",
    "            np.array([2,1,4,6]),\n",
    "            np.array([8,9,10,11]),\n",
    "            np.array([18])]\n",
    "\n",
    "grid.at_node['water_id']=water_id\n"
   ]
  },
  {
   "cell_type": "code",
   "execution_count": 18,
   "metadata": {},
   "outputs": [
    {
     "name": "stdout",
     "output_type": "stream",
     "text": [
      "[[0], [3, 5], [2, 1, 4, 6], [59, 30]]\n",
      "Picking up sediment  0 from link  0\n",
      "Moving  0  out of the domain\n",
      "Picking up sediment  5 from link  1\n",
      "Moving  5  from link  1  to link  0\n",
      "Picking up sediment  6 from link  2\n",
      "Moving  6  from link  2  to link  0\n",
      "Picking up sediment  30 from link  3\n",
      "Moving  30  from link  3  to link  2\n",
      "[[5, 6], [3], [2, 1, 4, 30], [59]]\n",
      "[list([5, 6]) list([3]) list([2, 1, 4, 30]) list([59])]\n"
     ]
    }
   ],
   "source": [
    "from landlab import BAD_INDEX_VALUE\n",
    "# we can move items around in these ragged arrays.\n",
    "print(sediment_id)\n",
    "\n",
    "# lets start from the outlet, and move the last arrived sediment ID downstream\n",
    "\n",
    "# we'll need the flow link to recieving node\n",
    "# the flow accumulator made this for us. \n",
    "flow__link_to_receiver_node = grid['node']['flow__link_to_receiver_node']\n",
    "\n",
    "for node in downstream_to_upstream_structure:\n",
    "    # get the reciever node\n",
    "    reciever = recievers[node]\n",
    "    \n",
    "    # get the link flowing from source to reciever\n",
    "    source_link = flow__link_to_receiver_node[node]\n",
    "    \n",
    "    # get the link flowing from the reciever node\n",
    "    destination_link = flow__link_to_receiver_node[reciever]\n",
    "     \n",
    "    if source_link != BAD_INDEX_VALUE:\n",
    "        try:\n",
    "\n",
    "            moved = grid.at_link['sediment_id'][source_link].pop()\n",
    "            print('Picking up sediment ', moved, 'from link ', source_link)\n",
    "\n",
    "            if destination_link == BAD_INDEX_VALUE:\n",
    "                # transporting below outlet, make the sediment disapear:\n",
    "                print('Moving ', moved, ' out of the domain')\n",
    "                pass\n",
    "            else:\n",
    "                print('Moving ', moved, ' from link ', source_link, ' to link ', destination_link)\n",
    "                grid.at_link['sediment_id'][destination_link].append(moved)\n",
    "        except IndexError:\n",
    "            print('No sediment on link ', source_link)\n",
    "print(sediment_id)\n",
    "print(grid.at_link['sediment_id'])"
   ]
  },
  {
   "cell_type": "code",
   "execution_count": 19,
   "metadata": {
    "collapsed": true
   },
   "outputs": [],
   "source": [
    "# store profiles at links and nodes\n",
    "profiles_at_link = [{'x': np.arange(10), 'y': np.random.randn(10)},\n",
    "                    {'x': np.arange(30), 'y': np.random.randn(30)},\n",
    "                    {'x': np.arange(40), 'y': np.random.randn(40)},\n",
    "                    {'x': np.arange(35), 'y': np.random.randn(25)}]\n",
    "\n",
    "grid.at_link['sediment_id']=profiles_at_link"
   ]
  },
  {
   "cell_type": "code",
   "execution_count": 20,
   "metadata": {},
   "outputs": [
    {
     "name": "stdout",
     "output_type": "stream",
     "text": [
      "[ {'x': array([0, 1, 2, 3, 4, 5, 6, 7, 8, 9]), 'y': array([-0.72068196, -1.48111989, -1.7156154 , -0.71256427,  1.19208784,\n",
      "       -0.13403768,  1.66983237, -0.30452735, -0.95459327,  2.41224815])}\n",
      " {'x': array([ 0,  1,  2,  3,  4,  5,  6,  7,  8,  9, 10, 11, 12, 13, 14, 15, 16,\n",
      "       17, 18, 19, 20, 21, 22, 23, 24, 25, 26, 27, 28, 29]), 'y': array([-2.0308184 ,  0.50973205,  0.3297704 , -0.35300934,  0.43980685,\n",
      "       -0.18108561, -1.02455667,  0.42270784,  0.98429028,  0.85708954,\n",
      "       -0.45740726, -0.20861715,  0.64744078, -0.751784  ,  1.29666513,\n",
      "        0.76038164, -0.50886026, -0.99169909,  0.31560302, -0.62097997,\n",
      "       -0.24336303, -0.47387673, -1.77360371, -0.48791582, -1.58836922,\n",
      "       -0.34365418, -0.92942386,  0.16974442, -0.40600102, -0.00721125])}\n",
      " {'x': array([ 0,  1,  2,  3,  4,  5,  6,  7,  8,  9, 10, 11, 12, 13, 14, 15, 16,\n",
      "       17, 18, 19, 20, 21, 22, 23, 24, 25, 26, 27, 28, 29, 30, 31, 32, 33,\n",
      "       34, 35, 36, 37, 38, 39]), 'y': array([ -3.68068058e-01,  -4.50530175e-05,   9.29093195e-01,\n",
      "        -1.42793798e+00,   1.69874419e+00,   8.35917090e-01,\n",
      "        -1.49603768e+00,  -9.59469478e-01,  -7.47643274e-01,\n",
      "         5.05742634e-01,   1.23505365e+00,   7.05597617e-01,\n",
      "        -2.10978504e-01,  -6.36361897e-02,  -6.91600000e-02,\n",
      "         6.10688332e-01,  -8.85816703e-01,   1.03907950e-01,\n",
      "        -9.19633169e-01,  -1.72641490e+00,  -1.65686459e+00,\n",
      "         1.63383839e+00,  -2.10622525e+00,   2.86048121e+00,\n",
      "        -4.79717968e-01,  -4.55263557e-01,   4.97184596e-01,\n",
      "         1.30894671e+00,   1.08247716e+00,   3.21042697e-01,\n",
      "        -5.80093205e-01,   3.82872436e-01,  -8.57327417e-01,\n",
      "         1.56318676e+00,   1.51699130e-01,   2.89625820e+00,\n",
      "         2.57835245e-01,   1.39105562e-01,  -9.72491043e-02,\n",
      "        -1.22157179e+00])}\n",
      " {'x': array([ 0,  1,  2,  3,  4,  5,  6,  7,  8,  9, 10, 11, 12, 13, 14, 15, 16,\n",
      "       17, 18, 19, 20, 21, 22, 23, 24, 25, 26, 27, 28, 29, 30, 31, 32, 33,\n",
      "       34]), 'y': array([-0.97562583,  0.00480501,  0.04049397, -0.59162889, -2.36043726,\n",
      "        0.64993775, -0.48173637, -1.3061299 , -0.57993907,  0.33738183,\n",
      "       -0.35143742,  0.80756605, -0.08366996, -2.37308805,  0.84031173,\n",
      "        1.41783914,  1.53506883, -0.38632271, -0.26863615, -0.27609208,\n",
      "       -0.17812512,  0.42659515,  1.14886411, -0.07812092, -1.69184029])}]\n"
     ]
    }
   ],
   "source": [
    "print(grid.at_link['sediment_id'])\n"
   ]
  },
  {
   "cell_type": "markdown",
   "metadata": {
    "collapsed": true
   },
   "source": [
    "# Discussion\n",
    "What other things need to be stored on the Grid?\n"
   ]
  }
 ],
 "metadata": {
  "kernelspec": {
   "display_name": "Python 3",
   "language": "python",
   "name": "python3"
  },
  "language_info": {
   "codemirror_mode": {
    "name": "ipython",
    "version": 3
   },
   "file_extension": ".py",
   "mimetype": "text/x-python",
   "name": "python",
   "nbconvert_exporter": "python",
   "pygments_lexer": "ipython3",
   "version": "3.6.2"
  }
 },
 "nbformat": 4,
 "nbformat_minor": 2
}
