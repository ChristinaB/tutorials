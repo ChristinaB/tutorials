{
 "cells": [
  {
   "cell_type": "markdown",
   "metadata": {},
   "source": [
    "# Introduction to NetworkModelGrid\n",
    "This tutorial provides a basic introduction to the ``NetworkModelGrid`` grid class in Landlab. "
   ]
  },
  {
   "cell_type": "code",
   "execution_count": 1,
   "metadata": {
    "collapsed": true
   },
   "outputs": [],
   "source": [
    "# Start by importing necessary modules\n",
    "\n",
    "from landlab.grid.network import NetworkModelGrid\n",
    "import numpy as np"
   ]
  },
  {
   "cell_type": "code",
   "execution_count": 2,
   "metadata": {},
   "outputs": [
    {
     "name": "stdout",
     "output_type": "stream",
     "text": [
      "[ 0.  0. -1.  1.]\n",
      "[ 0.  1.  2.  2.]\n",
      "[[0 1]\n",
      " [2 1]\n",
      " [1 3]]\n"
     ]
    }
   ],
   "source": [
    "# define a grid, right now this is done by passing three datastructures:\n",
    "# grid = NetworkModelGrid((y_of_node, x_of_node), nodes_at_link)\n",
    "\n",
    "y_of_node = (0, 1, 2, 2)\n",
    "x_of_node = (0, 0, -1, 1)\n",
    "nodes_at_link = ((1, 0), (2, 1), (3, 1))\n",
    "grid = NetworkModelGrid((y_of_node, x_of_node), nodes_at_link)\n",
    "\n",
    "\n",
    "print(grid.x_of_node)\n",
    "#array([ 0.,  0., -1.,  1.])\n",
    "print(grid.y_of_node)\n",
    "#array([ 0.,  1.,  2.,  2.])\n",
    "print(grid.nodes_at_link)\n",
    "#array([[0, 1],\n",
    "#       [2, 1],\n",
    "#       [1, 3]])\n",
    "\n",
    "# we can store simple arrays at links and at nodes (complex things lower in the notebook)\n",
    "grid.at_node['z'] = [1,2,3,4]\n",
    "grid.at_link['z'] = [10,20,30]"
   ]
  },
  {
   "cell_type": "markdown",
   "metadata": {},
   "source": [
    "\n",
    "# DISCUSSION ITEM:\n",
    "\n",
    "What are other ways you'd like to be able to import a Network?"
   ]
  },
  {
   "cell_type": "code",
   "execution_count": 3,
   "metadata": {},
   "outputs": [
    {
     "data": {
      "text/plain": [
       "array([ 1.        , -0.70710678,  1.41421356])"
      ]
     },
     "execution_count": 3,
     "metadata": {},
     "output_type": "execute_result"
    }
   ],
   "source": [
    "# methods that work for with only links and nodes on other landlab grids\n",
    "# work here too. \n",
    "\n",
    "from landlab.grid.gradients import calc_grad_at_link\n",
    "calc_grad_at_link(grid, 'z')\n",
    "#array([ 1.        , -0.70710678,  1.41421356])"
   ]
  },
  {
   "cell_type": "markdown",
   "metadata": {},
   "source": [
    "\n",
    "# DISCUSSION ITEM:\n",
    "\n",
    "Are there any methods that are not presently supported?"
   ]
  },
  {
   "cell_type": "code",
   "execution_count": 4,
   "metadata": {},
   "outputs": [
    {
     "data": {
      "image/png": "[encoded data removed]",
      "text/plain": [
       "<matplotlib.figure.Figure at 0x1109e7198>"
      ]
     },
     "metadata": {},
     "output_type": "display_data"
    }
   ],
   "source": [
    "# there is a nice plotting function for simple graphs. \n",
    "\n",
    "from landlab.plot import graph\n",
    "graph.plot_graph(grid, at='node,link')"
   ]
  },
  {
   "cell_type": "code",
   "execution_count": 5,
   "metadata": {
    "collapsed": true
   },
   "outputs": [],
   "source": [
    "# and we can save to the Ugrid format\n",
    "grid.to_netcdf('network.nc')"
   ]
  },
  {
   "cell_type": "code",
   "execution_count": 6,
   "metadata": {},
   "outputs": [
    {
     "name": "stdout",
     "output_type": "stream",
     "text": [
      "*** ncdump: ncopen failed on network.nc\r\n"
     ]
    }
   ],
   "source": [
    "# we think this should work, but its not working on Katy's computer\n",
    "!ncdump -h network.nc"
   ]
  },
  {
   "cell_type": "code",
   "execution_count": 7,
   "metadata": {},
   "outputs": [
    {
     "name": "stdout",
     "output_type": "stream",
     "text": [
      "Example_Usage_of_Network_Model_Grid.ipynb\r\n",
      "network.nc\r\n"
     ]
    }
   ],
   "source": [
    "ls"
   ]
  },
  {
   "cell_type": "code",
   "execution_count": 8,
   "metadata": {},
   "outputs": [
    {
     "name": "stdout",
     "output_type": "stream",
     "text": [
      "[ 0.  0.  0.]\n",
      "[ 0.  0.  0.  0.]\n"
     ]
    }
   ],
   "source": [
    "# store values at links and nodes\n",
    "z_link = grid.add_zeros('topographic__elevation', at='link')\n",
    "\n",
    "print(z_link)\n",
    "\n",
    "# store values at links and nodes\n",
    "z_node = grid.add_zeros('topographic__elevation', at='node')\n",
    "\n",
    "print(z_node)\n",
    "\n",
    "# this might be buggy."
   ]
  },
  {
   "cell_type": "code",
   "execution_count": 9,
   "metadata": {
    "collapsed": true
   },
   "outputs": [],
   "source": [
    "# store profiles at links and nodes\n",
    "\n"
   ]
  },
  {
   "cell_type": "code",
   "execution_count": 10,
   "metadata": {
    "collapsed": true
   },
   "outputs": [],
   "source": [
    "# store ragged arrays at links and nodes\n",
    "sediment_id = [np.array([0]),\n",
    "                   np.array([3,5]),\n",
    "                   np.array([2,1,4,6])]\n",
    "\n",
    "grid.at_link['sediment_id']=sediment_id\n",
    "\n",
    "\n",
    "water_id = [np.array([0]),\n",
    "            np.array([3,5]),\n",
    "            np.array([2,1,4,6]),\n",
    "            np.array([8,9,10,11])]\n",
    "\n",
    "grid.at_node['water_id']=water_id\n",
    "\n",
    "\n",
    "#this works, but we don't know the efficiency.\n",
    "\n",
    "# these could be sets, lists, numpy, "
   ]
  },
  {
   "cell_type": "code",
   "execution_count": 11,
   "metadata": {},
   "outputs": [
    {
     "data": {
      "text/plain": [
       "array([array([0]), array([3, 5]), array([2, 1, 4, 6])], dtype=object)"
      ]
     },
     "execution_count": 11,
     "metadata": {},
     "output_type": "execute_result"
    }
   ],
   "source": [
    "grid.at_link['sediment_id']\n"
   ]
  },
  {
   "cell_type": "markdown",
   "metadata": {
    "collapsed": true
   },
   "source": [
    "#Discussion: What other things need to be stored on the Grid?\n"
   ]
  }
 ],
 "metadata": {
  "kernelspec": {
   "display_name": "Python 3",
   "language": "python",
   "name": "python3"
  },
  "language_info": {
   "codemirror_mode": {
    "name": "ipython",
    "version": 3
   },
   "file_extension": ".py",
   "mimetype": "text/x-python",
   "name": "python",
   "nbconvert_exporter": "python",
   "pygments_lexer": "ipython3",
   "version": "3.6.2"
  }
 },
 "nbformat": 4,
 "nbformat_minor": 2
}
