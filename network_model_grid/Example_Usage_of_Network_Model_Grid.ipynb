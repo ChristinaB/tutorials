{
 "cells": [
  {
   "cell_type": "markdown",
   "metadata": {},
   "source": [
    "# Introduction to NetworkModelGrid\n",
    "This tutorial provides a basic introduction to the ``NetworkModelGrid`` grid class in Landlab. \n",
    "\n",
    "In its current form it is intended to highlight current capabilities and spark discussion on what sort of capabilities this model grid class should have. "
   ]
  },
  {
   "cell_type": "code",
   "execution_count": 1,
   "metadata": {
    "collapsed": true
   },
   "outputs": [],
   "source": [
    "# Start by importing necessary modules\n",
    "from landlab.grid.network import NetworkModelGrid\n",
    "import numpy as np"
   ]
  },
  {
   "cell_type": "code",
   "execution_count": 2,
   "metadata": {},
   "outputs": [
    {
     "name": "stdout",
     "output_type": "stream",
     "text": [
      "[ 0.  0. -1.  1.]\n",
      "[ 0.  1.  2.  2.]\n",
      "[[0 1]\n",
      " [2 1]\n",
      " [1 3]]\n"
     ]
    }
   ],
   "source": [
    "# define a grid, right now this is done by passing three datastructures:\n",
    "# grid = NetworkModelGrid((y_of_node, x_of_node), nodes_at_link)\n",
    "\n",
    "y_of_node = (0, 1, 2, 2)\n",
    "x_of_node = (0, 0, -1, 1)\n",
    "nodes_at_link = ((1, 0), (2, 1), (3, 1))\n",
    "grid = NetworkModelGrid((y_of_node, x_of_node), nodes_at_link)\n",
    "\n",
    "\n",
    "print(grid.x_of_node)\n",
    "#array([ 0.,  0., -1.,  1.])\n",
    "print(grid.y_of_node)\n",
    "#array([ 0.,  1.,  2.,  2.])\n",
    "print(grid.nodes_at_link)\n",
    "#array([[0, 1],\n",
    "#       [2, 1],\n",
    "#       [1, 3]])\n",
    "\n",
    "# we can store simple arrays at links and at nodes (complex things lower in the notebook)\n",
    "grid.at_node['z'] = [1,2,3,4]\n",
    "grid.at_link['z'] = [10,20,30]"
   ]
  },
  {
   "cell_type": "markdown",
   "metadata": {},
   "source": [
    "\n",
    "## DISCUSSION ITEM:\n",
    "\n",
    "What are other ways you'd like to be able to import a Network?\n",
    "Shapefile? Derived from a Raster? etc?"
   ]
  },
  {
   "cell_type": "code",
   "execution_count": 3,
   "metadata": {},
   "outputs": [
    {
     "data": {
      "text/plain": [
       "array([ 1.        , -0.70710678,  1.41421356])"
      ]
     },
     "execution_count": 3,
     "metadata": {},
     "output_type": "execute_result"
    }
   ],
   "source": [
    "# methods that work for with only links and nodes on other landlab grids\n",
    "# work here too. \n",
    "\n",
    "from landlab.grid.gradients import calc_grad_at_link\n",
    "calc_grad_at_link(grid, 'z')\n",
    "#array([ 1.        , -0.70710678,  1.41421356])"
   ]
  },
  {
   "cell_type": "markdown",
   "metadata": {},
   "source": [
    "\n",
    "## DISCUSSION ITEM:\n",
    "\n",
    "Are there any methods that you'd expect to want that are not presently supported?"
   ]
  },
  {
   "cell_type": "code",
   "execution_count": 4,
   "metadata": {},
   "outputs": [
    {
     "data": {
      "image/png": "[encoded data removed]",
      "text/plain": [
       "<matplotlib.figure.Figure at 0x1165f52e8>"
      ]
     },
     "metadata": {},
     "output_type": "display_data"
    }
   ],
   "source": [
    "# there is a nice plotting function for simple graphs. \n",
    "\n",
    "from landlab.plot import graph\n",
    "graph.plot_graph(grid, at='node,link')"
   ]
  },
  {
   "cell_type": "code",
   "execution_count": 5,
   "metadata": {
    "collapsed": true
   },
   "outputs": [],
   "source": [
    "# and we can save to the Ugrid format\n",
    "grid.to_netcdf('network.nc')"
   ]
  },
  {
   "cell_type": "code",
   "execution_count": 6,
   "metadata": {},
   "outputs": [
    {
     "name": "stdout",
     "output_type": "stream",
     "text": [
      "*** ncdump: ncopen failed on network.nc\r\n"
     ]
    }
   ],
   "source": [
    "# we think this should work, but its not working on Katy's computer\n",
    "!ncdump -h network.nc"
   ]
  },
  {
   "cell_type": "code",
   "execution_count": 7,
   "metadata": {},
   "outputs": [
    {
     "name": "stdout",
     "output_type": "stream",
     "text": [
      "Example_Usage_of_Network_Model_Grid.ipynb\r\n",
      "network.nc\r\n"
     ]
    }
   ],
   "source": [
    "# Though a netcdf is created\n",
    "!ls"
   ]
  },
  {
   "cell_type": "code",
   "execution_count": 8,
   "metadata": {},
   "outputs": [
    {
     "name": "stdout",
     "output_type": "stream",
     "text": [
      "[ 0.  0.  0.]\n",
      "[ 1.  1.  1.  1.]\n"
     ]
    }
   ],
   "source": [
    "# store values at links and nodes\n",
    "z_link = grid.add_zeros('topographic__elevation', at='link')\n",
    "\n",
    "print(z_link)\n",
    "\n",
    "# store values at links and nodes\n",
    "z_node = grid.add_ones('topographic__elevation', at='node')\n",
    "\n",
    "print(z_node)"
   ]
  },
  {
   "cell_type": "code",
   "execution_count": 9,
   "metadata": {},
   "outputs": [
    {
     "data": {
      "text/plain": [
       "array([[-1,  0,  0],\n",
       "       [-1,  1,  1],\n",
       "       [-1,  0,  0],\n",
       "       [ 1,  0,  0]])"
      ]
     },
     "execution_count": 9,
     "metadata": {},
     "output_type": "execute_result"
    }
   ],
   "source": [
    "# like on a raster model grid, links have directions. \n",
    "grid.link_dirs_at_node"
   ]
  },
  {
   "cell_type": "markdown",
   "metadata": {},
   "source": [
    "One might want to store more complicated things at grids and nodes. Two things that have come up in discussions are:\n",
    "\n",
    "1) Storing ragged arrays at links and nodes\n",
    "\n",
    "2) Storing profiles (e.g. long channel profiles) on links. \n",
    "\n",
    "The next two cells give an example of such datastructures. \n",
    "\n",
    "These two examples work, though we don't know the efficiency in model usage of these implementations. \n",
    "\n",
    "These work because we can create a numpy object array of length number-of-links or number-of-nodes and store this array at links or nodes. \n",
    "\n",
    "Here we've stored numpy arrays and dictionaries, but it could be lists, sets, etc. "
   ]
  },
  {
   "cell_type": "code",
   "execution_count": 10,
   "metadata": {
    "collapsed": true
   },
   "outputs": [],
   "source": [
    "# store ragged arrays at links and nodes\n",
    "sediment_id = [np.array([0]),\n",
    "               np.array([3,5]),\n",
    "               np.array([2,1,4,6])]\n",
    "\n",
    "grid.at_link['sediment_id']=sediment_id\n",
    "\n",
    "\n",
    "water_id = [np.array([0]),\n",
    "            np.array([3,5]),\n",
    "            np.array([2,1,4,6]),\n",
    "            np.array([8,9,10,11])]\n",
    "\n",
    "grid.at_node['water_id']=water_id\n",
    "\n",
    "\n"
   ]
  },
  {
   "cell_type": "code",
   "execution_count": 11,
   "metadata": {},
   "outputs": [],
   "source": [
    "# store profiles at links and nodes\n",
    "profiles_at_link = [{'x': np.arange(10), 'y': np.random.randn(10)},\n",
    "                    {'x': np.arange(30), 'y': np.random.randn(30)},\n",
    "                    {'x': np.arange(40), 'y': np.random.randn(40)}]\n",
    "\n",
    "grid.at_link['sediment_id']=profiles_at_link"
   ]
  },
  {
   "cell_type": "code",
   "execution_count": 12,
   "metadata": {},
   "outputs": [
    {
     "name": "stdout",
     "output_type": "stream",
     "text": [
      "[ {'x': array([0, 1, 2, 3, 4, 5, 6, 7, 8, 9]), 'y': array([-0.91574797, -1.10980645,  1.61805458,  1.09715119,  0.46876906,\n",
      "        0.96054001, -0.69796807, -0.1189281 , -1.23878835, -0.86334011])}\n",
      " {'x': array([ 0,  1,  2,  3,  4,  5,  6,  7,  8,  9, 10, 11, 12, 13, 14, 15, 16,\n",
      "       17, 18, 19, 20, 21, 22, 23, 24, 25, 26, 27, 28, 29]), 'y': array([-0.14251943, -0.46558603,  1.55137365, -0.27582223,  1.08198828,\n",
      "       -0.56779053, -0.10080479,  0.79834027,  0.98227584,  0.50867264,\n",
      "        1.48604841, -0.76041564,  2.2534034 , -2.01132642,  0.43052589,\n",
      "        0.27050367,  0.35121118,  0.12402067,  1.33312791,  0.52497766,\n",
      "       -0.24639183, -0.41127502,  2.2489135 , -1.01967039, -0.97418952,\n",
      "       -1.45399536, -0.19934094,  0.75755795, -1.6857706 , -0.13267049])}\n",
      " {'x': array([ 0,  1,  2,  3,  4,  5,  6,  7,  8,  9, 10, 11, 12, 13, 14, 15, 16,\n",
      "       17, 18, 19, 20, 21, 22, 23, 24, 25, 26, 27, 28, 29, 30, 31, 32, 33,\n",
      "       34, 35, 36, 37, 38, 39]), 'y': array([ 0.73564767,  0.96807512, -0.16829701,  0.31349671,  0.45601104,\n",
      "        0.6095781 ,  1.06253664, -0.44511829,  0.78721586, -0.03174938,\n",
      "       -0.03787159, -1.3048436 , -1.5995497 ,  0.42827928,  0.25807208,\n",
      "       -0.00763104,  0.82344188, -0.77814582,  1.95762684,  0.71798283,\n",
      "       -1.19515355,  1.05589201, -1.54038056,  2.42455742, -0.608663  ,\n",
      "        1.29782487, -1.45860546,  0.39475603, -0.87538493,  0.78316178,\n",
      "        0.27599735, -0.11852199,  0.00721578, -1.32143339, -0.03231693,\n",
      "        0.1443395 ,  0.35283665, -0.30116348,  1.10781642,  0.56371563])}]\n"
     ]
    }
   ],
   "source": [
    "print(grid.at_link['sediment_id'])\n"
   ]
  },
  {
   "cell_type": "markdown",
   "metadata": {
    "collapsed": true
   },
   "source": [
    "#Discussion\n",
    "What other things need to be stored on the Grid?\n"
   ]
  }
 ],
 "metadata": {
  "kernelspec": {
   "display_name": "Python 3",
   "language": "python",
   "name": "python3"
  },
  "language_info": {
   "codemirror_mode": {
    "name": "ipython",
    "version": 3
   },
   "file_extension": ".py",
   "mimetype": "text/x-python",
   "name": "python",
   "nbconvert_exporter": "python",
   "pygments_lexer": "ipython3",
   "version": "3.6.2"
  }
 },
 "nbformat": 4,
 "nbformat_minor": 2
}
